{
 "cells": [
  {
   "cell_type": "markdown",
   "metadata": {
    "collapsed": true
   },
   "source": [
    "## I. Import Neccessary Libraries"
   ]
  },
  {
   "cell_type": "code",
   "execution_count": 4,
   "metadata": {
    "collapsed": true
   },
   "outputs": [],
   "source": [
    "### If missing any library, please uncomment the repective line below and pip install\n",
    "#!pip install tensorflow --upgrade\n",
    "#!pip install h5py\n",
    "#!pip install numpy --upgrade\n",
    "#!pip install pandas\n",
    "#!pip install dask --upgrade\n",
    "\n",
    "## Taken from https://pypi.org/project/pygeohash/\n",
    "## Using this instead of the python-geohash by hiwi due to better documentation\n",
    "\n",
    "#!pip install pygeohash\n"
   ]
  },
  {
   "cell_type": "code",
   "execution_count": 5,
   "metadata": {
    "scrolled": true
   },
   "outputs": [
    {
     "name": "stderr",
     "output_type": "stream",
     "text": [
      "C:\\Users\\Coddy\\Anaconda3\\lib\\site-packages\\h5py\\__init__.py:34: FutureWarning: Conversion of the second argument of issubdtype from `float` to `np.floating` is deprecated. In future, it will be treated as `np.float64 == np.dtype(float).type`.\n",
      "  from ._conv import register_converters as _register_converters\n"
     ]
    }
   ],
   "source": [
    "import numpy as np\n",
    "import pandas as pd\n",
    "import h5py\n",
    "import matplotlib.pyplot as plt\n",
    "import tensorflow as tf\n",
    "from tensorflow.python.framework import ops\n",
    "import pygeohash as pgh\n",
    "from tqdm._tqdm_notebook import tqdm_notebook\n",
    "from sklearn.model_selection import train_test_split\n",
    "import random\n",
    "import math\n",
    "tqdm_notebook.pandas()\n",
    "%matplotlib inline"
   ]
  },
  {
   "cell_type": "markdown",
   "metadata": {},
   "source": [
    "## II. Import the Dataset"
   ]
  },
  {
   "cell_type": "markdown",
   "metadata": {},
   "source": [
    "#### 1. Spilting the training dataset (sorely for github)\n",
    "Had an issue where github do not allow commit above 100MB.<br>\n",
    "My laptop had several issues in regarding the usage of github-lfs for large file<br>\n",
    "Thus I spilt them up into two 80~ MB files, and combine them later in the code"
   ]
  },
  {
   "cell_type": "raw",
   "metadata": {},
   "source": [
    "df = pd.read_csv(\"training.csv\")\n",
    "df1 = df[:int(df.shape[0]/2)]\n",
    "df2 = df[int(df.shape[0]/2):]\n",
    "print(df.shape)\n",
    "print(df1.shape)\n",
    "print(df2.shape)\n",
    "print((df == df1.append(df2)).sum())\n",
    "df1.to_csv(\"training_1st_half.csv\", index_label = False)\n",
    "df2.to_csv(\"training_2nd_half.csv\", index_label = False)"
   ]
  },
  {
   "cell_type": "markdown",
   "metadata": {},
   "source": [
    "#### 2. Loading the dataset"
   ]
  },
  {
   "cell_type": "code",
   "execution_count": 6,
   "metadata": {
    "collapsed": true
   },
   "outputs": [],
   "source": [
    "df1 = pd.read_csv(\"training_1st_half.csv\")\n",
    "df2 = pd.read_csv(\"training_2nd_half.csv\")\n",
    "df = df1.append(df2, ignore_index = True)"
   ]
  },
  {
   "cell_type": "markdown",
   "metadata": {},
   "source": [
    "An brief overview of the dataset"
   ]
  },
  {
   "cell_type": "code",
   "execution_count": 7,
   "metadata": {},
   "outputs": [
    {
     "name": "stdout",
     "output_type": "stream",
     "text": [
      "The dataset has 4206321 rows and 4 columns\n",
      "A brief summary of numerical columns:\n",
      "                day        demand\n",
      "count  4.206321e+06  4.206321e+06\n",
      "mean   3.145299e+01  1.050907e-01\n",
      "std    1.768278e+01  1.592655e-01\n",
      "min    1.000000e+00  3.092217e-09\n",
      "25%    1.600000e+01  1.867379e-02\n",
      "50%    3.200000e+01  5.043463e-02\n",
      "75%    4.700000e+01  1.208644e-01\n",
      "max    6.100000e+01  1.000000e+00\n",
      "First five rows of the dataset:\n",
      "  geohash6  day timestamp    demand\n",
      "0   qp03wc   18      20:0  0.020072\n",
      "1   qp03pn   10     14:30  0.024721\n",
      "2   qp09sw    9      6:15  0.102821\n",
      "3   qp0991   32       5:0  0.088755\n",
      "4   qp090q   15       4:0  0.074468\n"
     ]
    }
   ],
   "source": [
    "print(\"The dataset has \" + str(df.shape[0]) + \" rows and \" + str(df.shape[1]) + \" columns\")  # 4,206,321 entries\n",
    "print(\"A brief summary of numerical columns:\")\n",
    "print(df.describe())\n",
    "print(\"First five rows of the dataset:\")\n",
    "print(df.head())"
   ]
  },
  {
   "cell_type": "markdown",
   "metadata": {},
   "source": [
    "## III. Data cleansing and processing"
   ]
  },
  {
   "cell_type": "markdown",
   "metadata": {},
   "source": [
    "#### 1. Combine day and timestamp columns to time_stamp column\n",
    "This column measure the index of timestamp from day 1 first time stamp (0) to day 61 last timestamp (5855)"
   ]
  },
  {
   "cell_type": "code",
   "execution_count": 8,
   "metadata": {},
   "outputs": [
    {
     "data": {
      "application/vnd.jupyter.widget-view+json": {
       "model_id": "8f031dd9728249f0b6eb36636dedd92b",
       "version_major": 2,
       "version_minor": 0
      },
      "text/plain": [
       "A Jupyter Widget"
      ]
     },
     "metadata": {},
     "output_type": "display_data"
    },
    {
     "name": "stdout",
     "output_type": "stream",
     "text": [
      "\n"
     ]
    },
    {
     "data": {
      "text/html": [
       "<div>\n",
       "<style scoped>\n",
       "    .dataframe tbody tr th:only-of-type {\n",
       "        vertical-align: middle;\n",
       "    }\n",
       "\n",
       "    .dataframe tbody tr th {\n",
       "        vertical-align: top;\n",
       "    }\n",
       "\n",
       "    .dataframe thead th {\n",
       "        text-align: right;\n",
       "    }\n",
       "</style>\n",
       "<table border=\"1\" class=\"dataframe\">\n",
       "  <thead>\n",
       "    <tr style=\"text-align: right;\">\n",
       "      <th></th>\n",
       "      <th>geohash6</th>\n",
       "      <th>day</th>\n",
       "      <th>timestamp</th>\n",
       "      <th>demand</th>\n",
       "      <th>time_stamp</th>\n",
       "    </tr>\n",
       "  </thead>\n",
       "  <tbody>\n",
       "    <tr>\n",
       "      <th>0</th>\n",
       "      <td>qp03wc</td>\n",
       "      <td>18</td>\n",
       "      <td>20:0</td>\n",
       "      <td>0.020072</td>\n",
       "      <td>1712.0</td>\n",
       "    </tr>\n",
       "    <tr>\n",
       "      <th>1</th>\n",
       "      <td>qp03pn</td>\n",
       "      <td>10</td>\n",
       "      <td>14:30</td>\n",
       "      <td>0.024721</td>\n",
       "      <td>922.0</td>\n",
       "    </tr>\n",
       "    <tr>\n",
       "      <th>2</th>\n",
       "      <td>qp09sw</td>\n",
       "      <td>9</td>\n",
       "      <td>6:15</td>\n",
       "      <td>0.102821</td>\n",
       "      <td>793.0</td>\n",
       "    </tr>\n",
       "    <tr>\n",
       "      <th>3</th>\n",
       "      <td>qp0991</td>\n",
       "      <td>32</td>\n",
       "      <td>5:0</td>\n",
       "      <td>0.088755</td>\n",
       "      <td>2996.0</td>\n",
       "    </tr>\n",
       "    <tr>\n",
       "      <th>4</th>\n",
       "      <td>qp090q</td>\n",
       "      <td>15</td>\n",
       "      <td>4:0</td>\n",
       "      <td>0.074468</td>\n",
       "      <td>1360.0</td>\n",
       "    </tr>\n",
       "  </tbody>\n",
       "</table>\n",
       "</div>"
      ],
      "text/plain": [
       "  geohash6  day timestamp    demand  time_stamp\n",
       "0   qp03wc   18      20:0  0.020072      1712.0\n",
       "1   qp03pn   10     14:30  0.024721       922.0\n",
       "2   qp09sw    9      6:15  0.102821       793.0\n",
       "3   qp0991   32       5:0  0.088755      2996.0\n",
       "4   qp090q   15       4:0  0.074468      1360.0"
      ]
     },
     "execution_count": 8,
     "metadata": {},
     "output_type": "execute_result"
    }
   ],
   "source": [
    "def string_to_time (string):\n",
    "    x = string.split(\":\")\n",
    "    timing = int(x[0]) * 60 + int(x[1])\n",
    "    return timing/15\n",
    "\n",
    "df['time_stamp'] = df['timestamp'].progress_apply(string_to_time)\n",
    "df['time_stamp'] = df['time_stamp'] + (df['day'] - 1)*96\n",
    "df.head()"
   ]
  },
  {
   "cell_type": "code",
   "execution_count": 9,
   "metadata": {},
   "outputs": [
    {
     "data": {
      "text/html": [
       "<div>\n",
       "<style scoped>\n",
       "    .dataframe tbody tr th:only-of-type {\n",
       "        vertical-align: middle;\n",
       "    }\n",
       "\n",
       "    .dataframe tbody tr th {\n",
       "        vertical-align: top;\n",
       "    }\n",
       "\n",
       "    .dataframe thead th {\n",
       "        text-align: right;\n",
       "    }\n",
       "</style>\n",
       "<table border=\"1\" class=\"dataframe\">\n",
       "  <thead>\n",
       "    <tr style=\"text-align: right;\">\n",
       "      <th></th>\n",
       "      <th>day</th>\n",
       "      <th>demand</th>\n",
       "      <th>time_stamp</th>\n",
       "    </tr>\n",
       "  </thead>\n",
       "  <tbody>\n",
       "    <tr>\n",
       "      <th>count</th>\n",
       "      <td>4.206321e+06</td>\n",
       "      <td>4.206321e+06</td>\n",
       "      <td>4.206321e+06</td>\n",
       "    </tr>\n",
       "    <tr>\n",
       "      <th>mean</th>\n",
       "      <td>3.145299e+01</td>\n",
       "      <td>1.050907e-01</td>\n",
       "      <td>2.964249e+03</td>\n",
       "    </tr>\n",
       "    <tr>\n",
       "      <th>std</th>\n",
       "      <td>1.768278e+01</td>\n",
       "      <td>1.592655e-01</td>\n",
       "      <td>1.697748e+03</td>\n",
       "    </tr>\n",
       "    <tr>\n",
       "      <th>min</th>\n",
       "      <td>1.000000e+00</td>\n",
       "      <td>3.092217e-09</td>\n",
       "      <td>0.000000e+00</td>\n",
       "    </tr>\n",
       "    <tr>\n",
       "      <th>25%</th>\n",
       "      <td>1.600000e+01</td>\n",
       "      <td>1.867379e-02</td>\n",
       "      <td>1.477000e+03</td>\n",
       "    </tr>\n",
       "    <tr>\n",
       "      <th>50%</th>\n",
       "      <td>3.200000e+01</td>\n",
       "      <td>5.043463e-02</td>\n",
       "      <td>3.010000e+03</td>\n",
       "    </tr>\n",
       "    <tr>\n",
       "      <th>75%</th>\n",
       "      <td>4.700000e+01</td>\n",
       "      <td>1.208644e-01</td>\n",
       "      <td>4.428000e+03</td>\n",
       "    </tr>\n",
       "    <tr>\n",
       "      <th>max</th>\n",
       "      <td>6.100000e+01</td>\n",
       "      <td>1.000000e+00</td>\n",
       "      <td>5.855000e+03</td>\n",
       "    </tr>\n",
       "  </tbody>\n",
       "</table>\n",
       "</div>"
      ],
      "text/plain": [
       "                day        demand    time_stamp\n",
       "count  4.206321e+06  4.206321e+06  4.206321e+06\n",
       "mean   3.145299e+01  1.050907e-01  2.964249e+03\n",
       "std    1.768278e+01  1.592655e-01  1.697748e+03\n",
       "min    1.000000e+00  3.092217e-09  0.000000e+00\n",
       "25%    1.600000e+01  1.867379e-02  1.477000e+03\n",
       "50%    3.200000e+01  5.043463e-02  3.010000e+03\n",
       "75%    4.700000e+01  1.208644e-01  4.428000e+03\n",
       "max    6.100000e+01  1.000000e+00  5.855000e+03"
      ]
     },
     "execution_count": 9,
     "metadata": {},
     "output_type": "execute_result"
    }
   ],
   "source": [
    "df.describe()   ##Time stamp from 0 to 5855 (5856 = 61 x24 x 4)"
   ]
  },
  {
   "cell_type": "markdown",
   "metadata": {},
   "source": [
    "#### 2. Identify unique geohash6-s\n",
    "A total of 1329 unique geohash markers"
   ]
  },
  {
   "cell_type": "code",
   "execution_count": 10,
   "metadata": {},
   "outputs": [
    {
     "name": "stdout",
     "output_type": "stream",
     "text": [
      "1329\n"
     ]
    },
    {
     "data": {
      "text/plain": [
       "array(['qp02yc', 'qp02yf', 'qp02yu', ..., 'qp0dnh', 'qp0dnj', 'qp0dnn'],\n",
       "      dtype=object)"
      ]
     },
     "execution_count": 10,
     "metadata": {},
     "output_type": "execute_result"
    }
   ],
   "source": [
    "de = df.groupby(['geohash6']).count()\n",
    "hash_list = de.index.values\n",
    "print(len(hash_list))\n",
    "hash_list"
   ]
  },
  {
   "cell_type": "markdown",
   "metadata": {},
   "source": [
    "#### 3. Pivot the original 4206321 by 4 dataframe to time_stamp vs geohash6 (5847 by 1329)\n",
    "There's 5856 - 5847 = 9 timestamps where no demand is observed in any geohash<br>\n",
    "The dataframe is then filled with 0 to replace NaN to prevent any numerical calculation errors"
   ]
  },
  {
   "cell_type": "code",
   "execution_count": 11,
   "metadata": {},
   "outputs": [
    {
     "name": "stdout",
     "output_type": "stream",
     "text": [
      "(5847, 1329)\n"
     ]
    },
    {
     "data": {
      "text/html": [
       "<div>\n",
       "<style scoped>\n",
       "    .dataframe tbody tr th:only-of-type {\n",
       "        vertical-align: middle;\n",
       "    }\n",
       "\n",
       "    .dataframe tbody tr th {\n",
       "        vertical-align: top;\n",
       "    }\n",
       "\n",
       "    .dataframe thead th {\n",
       "        text-align: right;\n",
       "    }\n",
       "</style>\n",
       "<table border=\"1\" class=\"dataframe\">\n",
       "  <thead>\n",
       "    <tr style=\"text-align: right;\">\n",
       "      <th>geohash6</th>\n",
       "      <th>qp02yc</th>\n",
       "      <th>qp02yf</th>\n",
       "      <th>qp02yu</th>\n",
       "      <th>qp02yv</th>\n",
       "      <th>qp02yy</th>\n",
       "      <th>qp02yz</th>\n",
       "      <th>qp02z1</th>\n",
       "      <th>qp02z3</th>\n",
       "      <th>qp02z4</th>\n",
       "      <th>qp02z5</th>\n",
       "      <th>...</th>\n",
       "      <th>qp0djv</th>\n",
       "      <th>qp0djw</th>\n",
       "      <th>qp0djy</th>\n",
       "      <th>qp0dn0</th>\n",
       "      <th>qp0dn1</th>\n",
       "      <th>qp0dn4</th>\n",
       "      <th>qp0dn5</th>\n",
       "      <th>qp0dnh</th>\n",
       "      <th>qp0dnj</th>\n",
       "      <th>qp0dnn</th>\n",
       "    </tr>\n",
       "    <tr>\n",
       "      <th>time_stamp</th>\n",
       "      <th></th>\n",
       "      <th></th>\n",
       "      <th></th>\n",
       "      <th></th>\n",
       "      <th></th>\n",
       "      <th></th>\n",
       "      <th></th>\n",
       "      <th></th>\n",
       "      <th></th>\n",
       "      <th></th>\n",
       "      <th></th>\n",
       "      <th></th>\n",
       "      <th></th>\n",
       "      <th></th>\n",
       "      <th></th>\n",
       "      <th></th>\n",
       "      <th></th>\n",
       "      <th></th>\n",
       "      <th></th>\n",
       "      <th></th>\n",
       "      <th></th>\n",
       "    </tr>\n",
       "  </thead>\n",
       "  <tbody>\n",
       "    <tr>\n",
       "      <th>0.0</th>\n",
       "      <td>0.0</td>\n",
       "      <td>0.0</td>\n",
       "      <td>0.0</td>\n",
       "      <td>0.0</td>\n",
       "      <td>0.0</td>\n",
       "      <td>0.0</td>\n",
       "      <td>0.0</td>\n",
       "      <td>0.0</td>\n",
       "      <td>0.0</td>\n",
       "      <td>0.0000</td>\n",
       "      <td>...</td>\n",
       "      <td>0.0</td>\n",
       "      <td>0.0</td>\n",
       "      <td>0.000000</td>\n",
       "      <td>0.0</td>\n",
       "      <td>0.0</td>\n",
       "      <td>0.0</td>\n",
       "      <td>0.0</td>\n",
       "      <td>0.0</td>\n",
       "      <td>0.000000</td>\n",
       "      <td>0.0</td>\n",
       "    </tr>\n",
       "    <tr>\n",
       "      <th>1.0</th>\n",
       "      <td>0.0</td>\n",
       "      <td>0.0</td>\n",
       "      <td>0.0</td>\n",
       "      <td>0.0</td>\n",
       "      <td>0.0</td>\n",
       "      <td>0.0</td>\n",
       "      <td>0.0</td>\n",
       "      <td>0.0</td>\n",
       "      <td>0.0</td>\n",
       "      <td>0.0006</td>\n",
       "      <td>...</td>\n",
       "      <td>0.0</td>\n",
       "      <td>0.0</td>\n",
       "      <td>0.004056</td>\n",
       "      <td>0.0</td>\n",
       "      <td>0.0</td>\n",
       "      <td>0.0</td>\n",
       "      <td>0.0</td>\n",
       "      <td>0.0</td>\n",
       "      <td>0.000000</td>\n",
       "      <td>0.0</td>\n",
       "    </tr>\n",
       "    <tr>\n",
       "      <th>2.0</th>\n",
       "      <td>0.0</td>\n",
       "      <td>0.0</td>\n",
       "      <td>0.0</td>\n",
       "      <td>0.0</td>\n",
       "      <td>0.0</td>\n",
       "      <td>0.0</td>\n",
       "      <td>0.0</td>\n",
       "      <td>0.0</td>\n",
       "      <td>0.0</td>\n",
       "      <td>0.0000</td>\n",
       "      <td>...</td>\n",
       "      <td>0.0</td>\n",
       "      <td>0.0</td>\n",
       "      <td>0.000000</td>\n",
       "      <td>0.0</td>\n",
       "      <td>0.0</td>\n",
       "      <td>0.0</td>\n",
       "      <td>0.0</td>\n",
       "      <td>0.0</td>\n",
       "      <td>0.009381</td>\n",
       "      <td>0.0</td>\n",
       "    </tr>\n",
       "    <tr>\n",
       "      <th>3.0</th>\n",
       "      <td>0.0</td>\n",
       "      <td>0.0</td>\n",
       "      <td>0.0</td>\n",
       "      <td>0.0</td>\n",
       "      <td>0.0</td>\n",
       "      <td>0.0</td>\n",
       "      <td>0.0</td>\n",
       "      <td>0.0</td>\n",
       "      <td>0.0</td>\n",
       "      <td>0.0000</td>\n",
       "      <td>...</td>\n",
       "      <td>0.0</td>\n",
       "      <td>0.0</td>\n",
       "      <td>0.000000</td>\n",
       "      <td>0.0</td>\n",
       "      <td>0.0</td>\n",
       "      <td>0.0</td>\n",
       "      <td>0.0</td>\n",
       "      <td>0.0</td>\n",
       "      <td>0.000000</td>\n",
       "      <td>0.0</td>\n",
       "    </tr>\n",
       "    <tr>\n",
       "      <th>4.0</th>\n",
       "      <td>0.0</td>\n",
       "      <td>0.0</td>\n",
       "      <td>0.0</td>\n",
       "      <td>0.0</td>\n",
       "      <td>0.0</td>\n",
       "      <td>0.0</td>\n",
       "      <td>0.0</td>\n",
       "      <td>0.0</td>\n",
       "      <td>0.0</td>\n",
       "      <td>0.0000</td>\n",
       "      <td>...</td>\n",
       "      <td>0.0</td>\n",
       "      <td>0.0</td>\n",
       "      <td>0.008253</td>\n",
       "      <td>0.0</td>\n",
       "      <td>0.0</td>\n",
       "      <td>0.0</td>\n",
       "      <td>0.0</td>\n",
       "      <td>0.0</td>\n",
       "      <td>0.002701</td>\n",
       "      <td>0.0</td>\n",
       "    </tr>\n",
       "  </tbody>\n",
       "</table>\n",
       "<p>5 rows × 1329 columns</p>\n",
       "</div>"
      ],
      "text/plain": [
       "geohash6    qp02yc  qp02yf  qp02yu  qp02yv  qp02yy  qp02yz  qp02z1  qp02z3  \\\n",
       "time_stamp                                                                   \n",
       "0.0            0.0     0.0     0.0     0.0     0.0     0.0     0.0     0.0   \n",
       "1.0            0.0     0.0     0.0     0.0     0.0     0.0     0.0     0.0   \n",
       "2.0            0.0     0.0     0.0     0.0     0.0     0.0     0.0     0.0   \n",
       "3.0            0.0     0.0     0.0     0.0     0.0     0.0     0.0     0.0   \n",
       "4.0            0.0     0.0     0.0     0.0     0.0     0.0     0.0     0.0   \n",
       "\n",
       "geohash6    qp02z4  qp02z5  ...  qp0djv  qp0djw    qp0djy  qp0dn0  qp0dn1  \\\n",
       "time_stamp                  ...                                             \n",
       "0.0            0.0  0.0000  ...     0.0     0.0  0.000000     0.0     0.0   \n",
       "1.0            0.0  0.0006  ...     0.0     0.0  0.004056     0.0     0.0   \n",
       "2.0            0.0  0.0000  ...     0.0     0.0  0.000000     0.0     0.0   \n",
       "3.0            0.0  0.0000  ...     0.0     0.0  0.000000     0.0     0.0   \n",
       "4.0            0.0  0.0000  ...     0.0     0.0  0.008253     0.0     0.0   \n",
       "\n",
       "geohash6    qp0dn4  qp0dn5  qp0dnh    qp0dnj  qp0dnn  \n",
       "time_stamp                                            \n",
       "0.0            0.0     0.0     0.0  0.000000     0.0  \n",
       "1.0            0.0     0.0     0.0  0.000000     0.0  \n",
       "2.0            0.0     0.0     0.0  0.009381     0.0  \n",
       "3.0            0.0     0.0     0.0  0.000000     0.0  \n",
       "4.0            0.0     0.0     0.0  0.002701     0.0  \n",
       "\n",
       "[5 rows x 1329 columns]"
      ]
     },
     "execution_count": 11,
     "metadata": {},
     "output_type": "execute_result"
    }
   ],
   "source": [
    "df = pd.pivot_table(df, values='demand', index=['time_stamp'],columns=['geohash6'])\n",
    "df = df.fillna(0)\n",
    "print(df.shape)\n",
    "df.head()"
   ]
  },
  {
   "cell_type": "markdown",
   "metadata": {},
   "source": [
    "#### 4. Converting the time_stamp vs geohash6 table to a list of historical data for each demand entry to be the input of model\n",
    "This is the most difficult part of the data processing section.<br><br>\n",
    "I would like to sample past 13 days record for each entry, if applicable( to be safe from exceeding limit of up to 14days, also to reduce dataframe size to a small extent)<br>\n",
    "However this will add additonal 13 x 24 x 4 -1 = 1247 columns to the existing dataset, rendering it impossible to be handled on local server due to memory issues in processing a ~ 4millon by 1250 dataframe.<br><br>\n",
    "To tackle this, I use a random sampling method to sample upto 10000 rows of data using a rolling window technique on the training dataset.<br>\n",
    "By keeping the parameters from previous learning cycles and resampling training set, this repeated process will achieve an approximate accuracy of training on the entire dataset (minibatch idea)<br>\n",
    "The development set is not resampled, as it is a very small.<br><br>\n",
    "**Training and Development set format**:<br>\n",
    "**Features consisting of**:<br>\n",
    "1248 columns of demand from timestamp = T-1248 to timestamp = T-1<br>\n",
    "1 column of the demand at timestamp = T<br>\n",
    "2 columns of geohash6 data in terms of latitude and longitude. This is decoded using pygeohash library <br>\n",
    "**Targets being**:<br>\n",
    "5 columns the demand at timestamp = T+1 to timestamp = T+5 <br>\n",
    "**This makes a total of 1251 features and 5 targets **"
   ]
  },
  {
   "cell_type": "code",
   "execution_count": 12,
   "metadata": {
    "collapsed": true
   },
   "outputs": [],
   "source": [
    "def resampling(df,limit,seed):\n",
    "    '''\n",
    "    This function takes in 3 arguments: a training dataframe, a limit (int) and a seed (int) for randomization\n",
    "    \n",
    "    This function randomly pick 30 geohash6 from the list of available geohash6 in the training dataframe based on the seed\n",
    "    It then perform a rolling window of 1248 + 1 + 5 = 1254 width on the dataframe's subset of only the selected geohash6-s\n",
    "    It then append the result of the rolling window as well as the decoded geohash to the X and Y dataframe respectively\n",
    "    It repeats until the X (or Y, same length) exceed length 10000 or when all 30 geohash6 are completed.\n",
    "    \n",
    "    This function returns the training X and Y of the randomed sample\n",
    "    '''\n",
    "    X = pd.DataFrame({\"index\":list(np.core.defchararray.add(\"T-\",np.arange(1248,0,-1).astype(\"str\")))+\\\n",
    "                           [\"T\",\"lat\",\"lon\"]})\n",
    "    Y = pd.DataFrame({\"index\":[\"T+1\",\"T+2\",\"T+3\",\"T+4\",\"T+5\"]})\n",
    "    \n",
    "    hash_list = df.T.index.values\n",
    "\n",
    "    random.seed(seed)\n",
    "    sample = random.sample(range(0, len(hash_list)), 30)\n",
    "    k=0\n",
    "    for geohash in tqdm_notebook(hash_list[sample]):\n",
    "        for i in range(1248,df.shape[0]-5):\n",
    "            if df[geohash].values[i] > 0:\n",
    "                k+=1\n",
    "                X[str(k)] = list(df[geohash].values[i-1248:i+1])+[pgh.decode(geohash)[0],pgh.decode(geohash)[1]]\n",
    "                Y[str(k)] = list(df[geohash].values[i+1:i+6])\n",
    "                if k > limit:\n",
    "                    #print(k)\n",
    "                    break\n",
    "                #dfinal = dfinal.append(list(df[\"qp02yc\"].values[i-1258:i])+[\"qp02yc\"])\n",
    "        #dfinal = pd.concat([dfinal,pd.DataFrame(np.array(list1).T)])\n",
    "    X=np.array(X.T.drop(['index'])).astype(\"float\")\n",
    "    Y=np.array(Y.T.drop(['index'])).astype(\"float\")\n",
    "    \n",
    "    return X,Y"
   ]
  },
  {
   "cell_type": "code",
   "execution_count": 13,
   "metadata": {
    "collapsed": true
   },
   "outputs": [],
   "source": [
    "def dev_sampling(df):\n",
    "    '''\n",
    "    This function takes in 1 argument: a dataframe\n",
    "     \n",
    "    This function performs a rolling window of 1248 + 1 + 5 = 1254 width on the dataframe\n",
    "    It then append the result of the rolling window as well as the decoded geohash to the X and Y dataframe respectively\n",
    "    It repeats until it loops through the entire dataframe\n",
    "    \n",
    "    This function returns the dev X and Y of the randomed sample\n",
    "    '''\n",
    "    X = pd.DataFrame({\"index\":list(np.core.defchararray.add(\"T-\",np.arange(1248,0,-1).astype(\"str\")))+\\\n",
    "                           [\"T\",\"lat\",\"lon\"]})\n",
    "    Y = pd.DataFrame({\"index\":[\"T+1\",\"T+2\",\"T+3\",\"T+4\",\"T+5\"]})\n",
    "    \n",
    "    hash_list = df.T.index.values\n",
    "    \n",
    "    k=0\n",
    "    for geohash in tqdm_notebook(hash_list):\n",
    "        for i in range(1248,df.shape[0]-5):\n",
    "            if df[geohash].values[i] > 0:\n",
    "                try:\n",
    "                    k+=1\n",
    "                    #print(list(df[geohash].values[i-1248:i+1])+[pgh.decode(geohash)[0],pgh.decode(geohash)[1]])\n",
    "                    X[str(k)] = list(df[geohash].values[i-1248:i+1])+[pgh.decode(geohash)[0],pgh.decode(geohash)[1]]\n",
    "                    Y[str(k)] = list(df[geohash].values[i+1:i+6])\n",
    "                except:\n",
    "                    k+=1\n",
    "                    print(df[geohash].values[i])\n",
    "                    print(list(df[geohash].values[i-1248:i+6])+[geohash])\n",
    "                #dfinal = dfinal.append(list(df[\"qp02yc\"].values[i-1258:i])+[\"qp02yc\"])\n",
    "        #dfinal = pd.concat([dfinal,pd.DataFrame(np.array(list1).T)])\n",
    "    X=np.array(X.T.drop(['index'])).astype(\"float\")\n",
    "    Y=np.array(Y.T.drop(['index'])).astype(\"float\")\n",
    "    \n",
    "    return X,Y"
   ]
  },
  {
   "cell_type": "markdown",
   "metadata": {},
   "source": [
    "**I used a train testt split of 99.9% training and 0.1% testing.<br>\n",
    "This gives me about 6.5k rows of data in the test set **"
   ]
  },
  {
   "cell_type": "code",
   "execution_count": 14,
   "metadata": {
    "collapsed": true
   },
   "outputs": [],
   "source": [
    "train,dev = train_test_split(df.T, test_size=0.001, random_state=42)"
   ]
  },
  {
   "cell_type": "markdown",
   "metadata": {},
   "source": [
    "**A mock sampling of training set** (used to debug the initiation of neural network)"
   ]
  },
  {
   "cell_type": "code",
   "execution_count": 15,
   "metadata": {},
   "outputs": [
    {
     "data": {
      "application/vnd.jupyter.widget-view+json": {
       "model_id": "37c36162ea7e44fb9dfd62d610aa9e9d",
       "version_major": 2,
       "version_minor": 0
      },
      "text/plain": [
       "A Jupyter Widget"
      ]
     },
     "metadata": {},
     "output_type": "display_data"
    },
    {
     "name": "stdout",
     "output_type": "stream",
     "text": [
      "\n",
      "Training set have the shape of: ((10024, 1251), (10024, 5))\n"
     ]
    }
   ],
   "source": [
    "train_X_0, train_Y_0 = resampling(train.T,10000,99)\n",
    "print(\"Training set have the shape of:\",(train_X_0.shape,train_Y_0.shape))"
   ]
  },
  {
   "cell_type": "markdown",
   "metadata": {},
   "source": [
    "**Sampling of the development set** (used to debug the initiation of neural network)"
   ]
  },
  {
   "cell_type": "code",
   "execution_count": 16,
   "metadata": {},
   "outputs": [
    {
     "data": {
      "application/vnd.jupyter.widget-view+json": {
       "model_id": "00fc8f8b8fed4eeca8235088e957ecc7",
       "version_major": 2,
       "version_minor": 0
      },
      "text/plain": [
       "A Jupyter Widget"
      ]
     },
     "metadata": {},
     "output_type": "display_data"
    },
    {
     "name": "stdout",
     "output_type": "stream",
     "text": [
      "\n",
      "Development set have the shape of: ((6598, 1251), (6598, 5))\n"
     ]
    }
   ],
   "source": [
    "dev_X,dev_Y = dev_sampling(dev.T)\n",
    "print(\"Development set have the shape of:\",(dev_X.shape,dev_Y.shape))"
   ]
  },
  {
   "cell_type": "markdown",
   "metadata": {},
   "source": [
    "## IV. Modeling Neural Network Model\n",
    "\n",
    "**A 3 layers neural network with tensorflow framework was used for this challenge.**<br>\n",
    "<br>\n",
    "The layers are of following:<br>\n",
    "L-0: Input layer of 1251 features <br>\n",
    "L-1: A hidden layer of 250 features <br>\n",
    "L-2: A hidden layer of 50 features <br>\n",
    "L-3: A predicting layer of 5 features<br><br>\n",
    "<br>\n",
    "The pipline is Linear - Relu - Linear - Relu - Linear <br>\n",
    "Cost is measured by mean square error, same as required in the challenge<br>\n",
    "<br>\n",
    "Due to memory issue mentioned above, I train each training sample set for 30 epoches before resampling.<br>\n",
    "This is repeated for \n",
    "\n",
    "__*I would like to thank and credit deeplearning.ai for providing me with a basic template for Neural Network and a few useful functions via their courses. *__"
   ]
  },
  {
   "cell_type": "code",
   "execution_count": 17,
   "metadata": {
    "collapsed": true
   },
   "outputs": [],
   "source": [
    "def create_placeholders(n_x,n_y):\n",
    "    '''\n",
    "    This function creates Tensorflow placeholders of correct dimensions\n",
    "    '''\n",
    "    X = tf.placeholder(tf.float32, [None,n_x], name=\"X\")\n",
    "    Y = tf.placeholder(tf.float32, [None,n_y], name=\"Y\")\n",
    "    \n",
    "    return X, Y"
   ]
  },
  {
   "cell_type": "code",
   "execution_count": 18,
   "metadata": {},
   "outputs": [
    {
     "name": "stdout",
     "output_type": "stream",
     "text": [
      "X = Tensor(\"X:0\", shape=(?, 120), dtype=float32)\n",
      "Y = Tensor(\"Y:0\", shape=(?, 5), dtype=float32)\n"
     ]
    }
   ],
   "source": [
    "## For Testing and Debugging\n",
    "X, Y = create_placeholders(120, 5)\n",
    "print(\"X = \" + str(X))\n",
    "print(\"Y = \" + str(Y))"
   ]
  },
  {
   "cell_type": "code",
   "execution_count": 19,
   "metadata": {
    "collapsed": true
   },
   "outputs": [],
   "source": [
    "def initialize_parameters(n_x,n_y,m):\n",
    "    '''\n",
    "    This function initialized the 3 layers neural network with the correct dimensions.\n",
    "    '''\n",
    "           \n",
    "    W1 = tf.get_variable(\"W1\", [n_x, 250], initializer = tf.contrib.layers.xavier_initializer())\n",
    "    b1 = tf.get_variable(\"b1\", [1],initializer = tf.zeros_initializer())\n",
    "    W2 = tf.get_variable(\"W2\", [250, 50], initializer = tf.contrib.layers.xavier_initializer())\n",
    "    b2 = tf.get_variable(\"b2\", [1], initializer = tf.zeros_initializer())\n",
    "    W3 = tf.get_variable(\"W3\", [50, n_y], initializer = tf.contrib.layers.xavier_initializer())\n",
    "    b3 = tf.get_variable(\"b3\", [1], initializer = tf.zeros_initializer())\n",
    "   \n",
    "    parameters = {\"W1\": W1,\n",
    "                  \"b1\": b1,\n",
    "                  \"W2\": W2,\n",
    "                  \"b2\": b2,\n",
    "                  \"W3\": W3,\n",
    "                  \"b3\": b3}\n",
    "    \n",
    "    return parameters"
   ]
  },
  {
   "cell_type": "code",
   "execution_count": 20,
   "metadata": {},
   "outputs": [
    {
     "name": "stdout",
     "output_type": "stream",
     "text": [
      "\n",
      "WARNING: The TensorFlow contrib module will not be included in TensorFlow 2.0.\n",
      "For more information, please see:\n",
      "  * https://github.com/tensorflow/community/blob/master/rfcs/20180907-contrib-sunset.md\n",
      "  * https://github.com/tensorflow/addons\n",
      "If you depend on functionality not listed there, please file an issue.\n",
      "\n",
      "WARNING:tensorflow:From C:\\Users\\Coddy\\Anaconda3\\lib\\site-packages\\tensorflow\\python\\framework\\op_def_library.py:263: colocate_with (from tensorflow.python.framework.ops) is deprecated and will be removed in a future version.\n",
      "Instructions for updating:\n",
      "Colocations handled automatically by placer.\n",
      "W1 = <tf.Variable 'W1:0' shape=(100, 250) dtype=float32_ref>\n",
      "b1 = <tf.Variable 'b1:0' shape=(1,) dtype=float32_ref>\n",
      "W2 = <tf.Variable 'W2:0' shape=(250, 50) dtype=float32_ref>\n",
      "b2 = <tf.Variable 'b2:0' shape=(1,) dtype=float32_ref>\n"
     ]
    }
   ],
   "source": [
    "## For Testing and Debugging \n",
    "tf.reset_default_graph()\n",
    "with tf.Session() as sess:\n",
    "    parameters = initialize_parameters(100,20,2000)\n",
    "    print(\"W1 = \" + str(parameters[\"W1\"]))\n",
    "    print(\"b1 = \" + str(parameters[\"b1\"]))\n",
    "    print(\"W2 = \" + str(parameters[\"W2\"]))\n",
    "    print(\"b2 = \" + str(parameters[\"b2\"]))"
   ]
  },
  {
   "cell_type": "code",
   "execution_count": 21,
   "metadata": {
    "collapsed": true
   },
   "outputs": [],
   "source": [
    "def forward_propagation(X, parameters):\n",
    "    '''\n",
    "    This function obtain coefficient of various parameters and use them to predict a final cost(Z3)\n",
    "    This process consists of  a linear function of X @ W1 + b1, @ being matrix multiplication,\n",
    "        followed by a retilinear activation function \n",
    "    '''\n",
    "    W1 = parameters['W1']\n",
    "    b1 = parameters['b1']\n",
    "    W2 = parameters['W2']\n",
    "    b2 = parameters['b2']\n",
    "    W3 = parameters['W3']\n",
    "    b3 = parameters['b3']\n",
    "    \n",
    "    #print(X)\n",
    "    Z1 = tf.add(tf.matmul(X,W1), b1)                      \n",
    "    A1 = tf.nn.relu(Z1)  \n",
    "    Z2 = tf.add(tf.matmul(A1,W2), b2)     \n",
    "    A2 = tf.nn.relu(Z2)    \n",
    "    Z3 = tf.add(tf.matmul(A2,W3), b3)  \n",
    "\n",
    "    #print(Z1)\n",
    "    #print(A1)\n",
    "    #print(Z2)\n",
    "    #print(A2)\n",
    "    return Z3"
   ]
  },
  {
   "cell_type": "code",
   "execution_count": 22,
   "metadata": {},
   "outputs": [
    {
     "name": "stdout",
     "output_type": "stream",
     "text": [
      "Z3 = Tensor(\"Add_2:0\", shape=(?, 5), dtype=float32)\n"
     ]
    }
   ],
   "source": [
    "## For Testing and Debugging \n",
    "tf.reset_default_graph()\n",
    "with tf.Session() as sess:\n",
    "    X, Y = create_placeholders(1251, 5)\n",
    "    parameters = initialize_parameters(1251,5,10000)\n",
    "    Z3 = forward_propagation(X, parameters)\n",
    "    print(\"Z3 = \" + str(Z3))"
   ]
  },
  {
   "cell_type": "code",
   "execution_count": 31,
   "metadata": {
    "collapsed": true
   },
   "outputs": [],
   "source": [
    "def compute_cost(Z3, Y):\n",
    "    '''\n",
    "    This function compute the mean square error bewteen the 5 entries in predicted Z3 and the 5 entries in actual Y\n",
    "    '''\n",
    "    #print(Z3,Y)\n",
    "    cost = tf.reduce_mean(tf.losses.mean_squared_error(predictions=Z3, labels=Y))\n",
    "    \n",
    "    return cost"
   ]
  },
  {
   "cell_type": "code",
   "execution_count": 32,
   "metadata": {},
   "outputs": [
    {
     "name": "stdout",
     "output_type": "stream",
     "text": [
      "cost = Tensor(\"Mean:0\", shape=(), dtype=float32)\n"
     ]
    }
   ],
   "source": [
    "## For Testing and Debugging \n",
    "tf.reset_default_graph()\n",
    "with tf.Session() as sess:\n",
    "    X, Y = create_placeholders(1251, 5)\n",
    "    parameters = initialize_parameters(1251,5,10000)\n",
    "    Z3 = forward_propagation(X, parameters)\n",
    "    cost = compute_cost(Z3, Y)\n",
    "    print(\"cost = \" + str(cost))"
   ]
  },
  {
   "cell_type": "markdown",
   "metadata": {},
   "source": [
    "**The below function **random_mini_batches() **is obtained from deeplearning.ai on 9th June 2019. unedited**<br>\n",
    "It is used to create random mini batches by shuffling."
   ]
  },
  {
   "cell_type": "code",
   "execution_count": 25,
   "metadata": {
    "collapsed": true
   },
   "outputs": [],
   "source": [
    "def random_mini_batches(X, Y, mini_batch_size = 64, seed = 0):\n",
    "    \"\"\"\n",
    "    Creates a list of random minibatches from (X, Y)\n",
    "    \n",
    "    Arguments:\n",
    "    X -- input data, of shape (input size, number of examples)\n",
    "    Y -- true \"label\" vector (containing 0 if cat, 1 if non-cat), of shape (1, number of examples)\n",
    "    mini_batch_size - size of the mini-batches, integer\n",
    "    seed -- this is only for the purpose of grading, so that you're \"random minibatches are the same as ours.\n",
    "    \n",
    "    Returns:\n",
    "    mini_batches -- list of synchronous (mini_batch_X, mini_batch_Y)\n",
    "    \"\"\"\n",
    "    \n",
    "    m = X.shape[0]                  # number of training examples\n",
    "    mini_batches = []\n",
    "    np.random.seed(seed)\n",
    "    \n",
    "    # Step 1: Shuffle (X, Y)\n",
    "    permutation = list(np.random.permutation(m))\n",
    "    shuffled_X = X[ permutation,:]\n",
    "    shuffled_Y = Y[permutation,:].reshape(m,(Y.shape[1]))\n",
    "\n",
    "    # Step 2: Partition (shuffled_X, shuffled_Y). Minus the end case.\n",
    "    num_complete_minibatches = math.floor(m/mini_batch_size) # number of mini batches of size mini_batch_size in your partitionning\n",
    "    for k in range(0, num_complete_minibatches):\n",
    "        mini_batch_X = shuffled_X[k * mini_batch_size : k * mini_batch_size + mini_batch_size,:]\n",
    "        mini_batch_Y = shuffled_Y[ k * mini_batch_size : k * mini_batch_size + mini_batch_size,:]\n",
    "        mini_batch = (mini_batch_X, mini_batch_Y)\n",
    "        mini_batches.append(mini_batch)\n",
    "    \n",
    "    # Handling the end case (last mini-batch < mini_batch_size)\n",
    "    if m % mini_batch_size != 0:\n",
    "        mini_batch_X = shuffled_X[ num_complete_minibatches * mini_batch_size : m,:]\n",
    "        mini_batch_Y = shuffled_Y[ num_complete_minibatches * mini_batch_size : m,:]\n",
    "        mini_batch = (mini_batch_X, mini_batch_Y)\n",
    "        mini_batches.append(mini_batch)\n",
    "    \n",
    "    return mini_batches"
   ]
  },
  {
   "cell_type": "code",
   "execution_count": 57,
   "metadata": {
    "collapsed": true
   },
   "outputs": [],
   "source": [
    "def model(train,dev_X,dev_Y,iterations = 10, learning_rate = 0.0001,\n",
    "          num_epochs = 30, batch_size = 32, print_cost = True):\n",
    "    '''\n",
    "    Initiate the Tensorflow session and combine all previous functions.\n",
    "    Using an AdamOptizer to minimise the \n",
    "    '''\n",
    "    ops.reset_default_graph()\n",
    "    \n",
    "    r = 1\n",
    "    tf.set_random_seed(r)\n",
    "    seed = 1\n",
    "    \n",
    "    train_X, train_Y = resampling(train.T,10000,seed)     #Initial sampling of training data\n",
    "    \n",
    "    (m,n_x) = train_X.shape                          # (n_x: input size, m : number of examples in the train set)\n",
    "    n_y = train_Y.shape[1]                            # n_y : output size\n",
    "    costs = []                                        # To keep track of the cost\n",
    "    \n",
    "    \n",
    "    ## Setting various pipeline functions\n",
    "    X, Y = create_placeholders(n_x, n_y)              #Create placeholder\n",
    "\n",
    "    parameters = initialize_parameters(n_x,n_y,m)     #Randomise the first set of parameters with the correct dimension\n",
    "    \n",
    "    Z3 = forward_propagation(X, parameters)           #Calculate Z3 using lin-relu-lin-relu-lin\n",
    "   \n",
    "    cost = compute_cost(Z3, Y)                        #Compute the cost of this iteration\n",
    "   \n",
    "    optimizer = tf.train.AdamOptimizer(learning_rate=learning_rate).minimize(cost) # Use an Adam Optimatizer for the cost\n",
    "    \n",
    "    init = tf.global_variables_initializer()        \n",
    "\n",
    "    #Start the tensorflow Session\n",
    "    with tf.Session() as sess:\n",
    "\n",
    "        sess.run(init)\n",
    "        \n",
    "        loop = iterations\n",
    "        for i in range(loop):\n",
    "            \n",
    "            for epoch in tqdm_notebook(range(num_epochs)):\n",
    "\n",
    "                epoch_cost = 0.                       # Defines a cost related to an epoch\n",
    "                num_minibatches = int(m / batch_size)\n",
    "\n",
    "                seed = seed + 1\n",
    "                minibatches = random_mini_batches(train_X_0,train_Y_0, batch_size, seed)\n",
    "\n",
    "                for minibatch in minibatches:\n",
    "\n",
    "                    # Select a minibatch\n",
    "                    (minibatch_X, minibatch_Y) = minibatch\n",
    "\n",
    "                    _ , minibatch_cost = sess.run([optimizer, cost], feed_dict={X: minibatch_X, Y: minibatch_Y})\n",
    "\n",
    "                    epoch_cost += minibatch_cost / num_minibatches\n",
    "\n",
    "\n",
    "                # Print the cost every 10 epoches\n",
    "\n",
    "                if print_cost == True and epoch % 10 == 0:\n",
    "                    print (\"Cost after epoch %i: %f\" % (epoch, epoch_cost))\n",
    "                if print_cost == True and epoch % 5 == 0:\n",
    "                    costs.append(epoch_cost)\n",
    "                    \n",
    "            if i < loop-1:        #resample the training set after finishing the last epoch\n",
    "                train_X, train_Y = resampling(train.T,10000,seed)\n",
    "\n",
    "        plt.plot(np.squeeze(costs))\n",
    "        plt.ylabel('cost')\n",
    "        plt.ylim(0, 0.001) \n",
    "        plt.xlabel('iterations (per tens)')\n",
    "        plt.title(\"Learning rate =\" + str(learning_rate) + \"\\nResampling Iterations =\" + str(iterations))\n",
    "        plt.show()\n",
    "\n",
    "        # lets save the parameters in a variable\n",
    "        parameters = sess.run(parameters)\n",
    "        print(\"Parameters have been trained!\")\n",
    "\n",
    "        # Calculate RMSE on the dev set\n",
    "        rmse = tf.reduce_mean(tf.losses.mean_squared_error(predictions=Z3, labels=Y))\n",
    "\n",
    "        print(\"Train Accuracy:\", rmse.eval({X: train_X_0,Y: train_Y_0}))\n",
    "        print(\"Dev Accuracy:\", rmse.eval({X:dev_X, Y: dev_Y}))\n",
    "        \n",
    "        return parameters, rmse.eval({X: train_X_0,Y: train_Y_0}),rmse.eval({X:dev_X, Y: dev_Y})"
   ]
  },
  {
   "cell_type": "code",
   "execution_count": 58,
   "metadata": {},
   "outputs": [
    {
     "data": {
      "application/vnd.jupyter.widget-view+json": {
       "model_id": "32df9f3d450342e196636d978fd6fb79",
       "version_major": 2,
       "version_minor": 0
      },
      "text/plain": [
       "A Jupyter Widget"
      ]
     },
     "metadata": {},
     "output_type": "display_data"
    },
    {
     "name": "stdout",
     "output_type": "stream",
     "text": [
      "\n"
     ]
    },
    {
     "data": {
      "application/vnd.jupyter.widget-view+json": {
       "model_id": "2924b0c3fe50422ab03701235d8b1596",
       "version_major": 2,
       "version_minor": 0
      },
      "text/plain": [
       "A Jupyter Widget"
      ]
     },
     "metadata": {},
     "output_type": "display_data"
    },
    {
     "name": "stdout",
     "output_type": "stream",
     "text": [
      "Cost after epoch 0: 0.590133\n",
      "Cost after epoch 10: 0.001035\n",
      "Cost after epoch 20: 0.000806\n",
      "\n"
     ]
    },
    {
     "data": {
      "image/png": "[encoded data removed]",
      "text/plain": [
       "<matplotlib.figure.Figure at 0x1468f167128>"
      ]
     },
     "metadata": {},
     "output_type": "display_data"
    },
    {
     "name": "stdout",
     "output_type": "stream",
     "text": [
      "Parameters have been trained!\n",
      "Train Accuracy: 0.0008277319\n",
      "Dev Accuracy: 0.0010258438\n"
     ]
    }
   ],
   "source": [
    "parameters,train_acc,test_acc = model(train,dev_X,dev_Y,iterations= 1)\n",
    "\n"
   ]
  },
  {
   "cell_type": "code",
   "execution_count": 68,
   "metadata": {},
   "outputs": [
    {
     "data": {
      "text/plain": [
       "{'W1': array([[-0.0384903 , -0.06649016, -0.01345264, ..., -0.01833876,\n",
       "          0.03892671, -0.00874373],\n",
       "        [ 0.01037385,  0.03340935, -0.0342309 , ..., -0.01720112,\n",
       "          0.00387676, -0.02457519],\n",
       "        [ 0.01195782, -0.02650586, -0.04856194, ...,  0.04064437,\n",
       "         -0.00710095,  0.01950473],\n",
       "        ...,\n",
       "        [-0.04877685,  0.08155576,  0.01132386, ..., -0.06850417,\n",
       "          0.0350403 , -0.0608165 ],\n",
       "        [ 0.04292105, -0.02235646,  0.0077932 , ..., -0.02714428,\n",
       "          0.02860357, -0.02483268],\n",
       "        [-0.0247828 ,  0.0353035 ,  0.04800449, ...,  0.02525807,\n",
       "          0.03219908, -0.06176807]], dtype=float32),\n",
       " 'W2': array([[ 0.00931965, -0.07251956,  0.09370084, ...,  0.06374694,\n",
       "          0.12492318,  0.1405492 ],\n",
       "        [ 0.08781718,  0.07266343,  0.05618293, ..., -0.09405708,\n",
       "          0.05053843,  0.07021143],\n",
       "        [ 0.08803708, -0.11875791,  0.02467871, ..., -0.07679407,\n",
       "         -0.01926142,  0.02832313],\n",
       "        ...,\n",
       "        [-0.13660452, -0.02716378, -0.13180134, ..., -0.06181856,\n",
       "         -0.06958514, -0.00908959],\n",
       "        [ 0.12350155,  0.0369677 , -0.05631274, ..., -0.01195232,\n",
       "         -0.01914085, -0.00093852],\n",
       "        [-0.07408921, -0.08164105, -0.01377784, ...,  0.09486763,\n",
       "         -0.033149  ,  0.12374099]], dtype=float32),\n",
       " 'W3': array([[ 2.64813274e-01,  2.13832483e-02,  5.39417230e-02,\n",
       "         -6.05156198e-02, -6.21712916e-02],\n",
       "        [-3.14966887e-01,  2.33701825e-01, -1.40856415e-01,\n",
       "          1.78672016e-01,  3.12255532e-01],\n",
       "        [ 8.79796371e-02, -2.78253723e-02,  1.46144005e-02,\n",
       "         -1.20977469e-01,  9.28136334e-02],\n",
       "        [-2.23990977e-01,  2.97026068e-01,  8.61774683e-02,\n",
       "         -3.32416028e-01, -4.55267355e-02],\n",
       "        [ 3.66652459e-02, -4.91852686e-02, -3.07289213e-01,\n",
       "         -2.14997172e-01, -1.59854636e-01],\n",
       "        [-1.47771150e-01,  2.54665732e-01, -2.95212984e-01,\n",
       "         -1.56588465e-01, -2.24768698e-01],\n",
       "        [-1.20383374e-01, -2.76269969e-02, -1.55575648e-01,\n",
       "          3.01245153e-01, -2.13608891e-01],\n",
       "        [-2.82733947e-01, -1.56670645e-01, -8.11162740e-02,\n",
       "         -1.58163495e-02, -1.24834269e-01],\n",
       "        [ 3.28115702e-01,  1.81816757e-01,  1.89336121e-01,\n",
       "         -5.66996038e-02,  8.41572285e-02],\n",
       "        [ 2.39394739e-01, -2.81787604e-01, -2.48063385e-01,\n",
       "         -3.08631688e-01, -6.37230128e-02],\n",
       "        [ 1.25323042e-01, -3.10043171e-02,  8.47973078e-02,\n",
       "          2.27943689e-01, -2.40870878e-01],\n",
       "        [ 2.91640639e-01, -2.04640120e-01,  2.89986432e-01,\n",
       "          2.11957265e-02,  1.59390822e-01],\n",
       "        [ 7.26321042e-02,  1.28001779e-01, -3.16162854e-01,\n",
       "          1.07831597e-01,  3.18463445e-02],\n",
       "        [ 3.14733535e-01,  1.81518998e-02, -1.51292458e-01,\n",
       "         -1.50114484e-02,  1.20493606e-01],\n",
       "        [ 3.24207127e-01,  2.53548086e-01, -2.07034335e-01,\n",
       "          1.80131480e-01, -2.74105817e-01],\n",
       "        [-1.69976637e-01,  5.35668135e-02,  7.81770051e-02,\n",
       "         -2.15076029e-01, -1.03096992e-01],\n",
       "        [ 1.27730876e-01,  2.58242190e-01,  2.51560509e-01,\n",
       "          2.94287145e-01, -1.95606053e-02],\n",
       "        [ 8.07028115e-02, -1.34971440e-01, -6.06901348e-02,\n",
       "          1.02297872e-01, -1.29459500e-02],\n",
       "        [-6.34569675e-02, -1.09416693e-01,  2.64242053e-01,\n",
       "          1.94064766e-01, -1.47293329e-01],\n",
       "        [-2.49632999e-01,  2.52124965e-01,  2.01083958e-01,\n",
       "          1.33892447e-01,  2.29048267e-01],\n",
       "        [-2.96374947e-01,  1.86240986e-01, -4.23180312e-02,\n",
       "          9.77636874e-02, -1.27239630e-01],\n",
       "        [ 2.28504658e-01, -1.16051510e-01, -3.09086233e-01,\n",
       "          8.04505944e-02, -1.18713170e-01],\n",
       "        [ 2.89913476e-01, -2.97202885e-01,  2.55133361e-01,\n",
       "          2.98766010e-02,  9.68807191e-02],\n",
       "        [ 1.34110034e-01, -8.85078460e-02, -1.69584483e-01,\n",
       "         -2.81805992e-01, -1.42285392e-01],\n",
       "        [-2.78007686e-01,  7.38424659e-02, -1.64171174e-01,\n",
       "          2.65904844e-01, -1.36836886e-01],\n",
       "        [-1.50443822e-01,  2.83271492e-01, -3.29544283e-02,\n",
       "          1.75920740e-01, -1.90613836e-01],\n",
       "        [ 2.09190413e-01,  2.69376576e-01,  2.82163918e-01,\n",
       "          2.18240961e-01, -1.15358874e-01],\n",
       "        [-8.29389598e-03, -3.04737151e-01,  4.45727296e-02,\n",
       "          1.77532464e-01, -1.40607566e-01],\n",
       "        [ 2.44099140e-01, -2.43681669e-03,  1.73135757e-01,\n",
       "          2.47199893e-01, -2.22153574e-01],\n",
       "        [ 1.75913945e-01,  3.05791020e-01,  8.54586542e-05,\n",
       "         -2.98682481e-01, -1.12398989e-01],\n",
       "        [-2.38448039e-01,  2.82700330e-01,  1.98102300e-03,\n",
       "         -4.06309702e-02, -2.00929455e-02],\n",
       "        [ 5.54516315e-02,  9.36618447e-02, -3.22724760e-01,\n",
       "         -5.29069304e-02, -3.12864214e-01],\n",
       "        [-1.61752105e-02,  3.14086735e-01, -1.87325567e-01,\n",
       "         -2.43629217e-02, -3.03831756e-01],\n",
       "        [ 1.50784746e-01,  4.39591222e-02,  1.76549032e-01,\n",
       "          1.05681263e-01, -3.09697717e-01],\n",
       "        [ 2.33189404e-01, -2.06688836e-01,  7.21107423e-02,\n",
       "          3.67981791e-02, -4.84166145e-02],\n",
       "        [-1.98678687e-01,  1.55798078e-01, -9.16529149e-02,\n",
       "          4.04179394e-02,  1.57981098e-01],\n",
       "        [-7.98149556e-02,  7.62314647e-02,  2.93391068e-02,\n",
       "         -2.33973563e-01, -2.62783587e-01],\n",
       "        [-1.70748040e-01, -2.05428243e-01,  1.70893431e-01,\n",
       "         -2.94709623e-01,  1.47408843e-01],\n",
       "        [ 8.50920975e-02, -2.01354459e-01, -7.67488312e-03,\n",
       "         -4.25970927e-02, -3.22595716e-01],\n",
       "        [ 7.83157051e-02,  1.96139179e-02,  8.81831273e-02,\n",
       "          2.90196687e-02,  1.50196299e-01],\n",
       "        [ 2.22667813e-01,  1.07823163e-01,  2.38591373e-01,\n",
       "         -1.50988206e-01,  6.43418729e-02],\n",
       "        [-1.51764512e-01,  1.32620558e-01, -2.61276871e-01,\n",
       "          2.54433215e-01,  3.34162533e-01],\n",
       "        [-2.56666750e-01,  7.78943393e-03,  2.78008431e-01,\n",
       "          2.22901046e-01,  1.06385060e-01],\n",
       "        [-3.14856976e-01, -5.75821400e-02, -1.65199220e-01,\n",
       "         -2.89089918e-01,  2.44724989e-01],\n",
       "        [ 2.39883304e-01,  1.35724038e-01,  6.01640046e-02,\n",
       "          1.75998688e-01, -2.91682839e-01],\n",
       "        [-9.66052413e-02,  2.29639888e-01,  1.00892544e-01,\n",
       "          9.89142656e-02, -1.04720607e-01],\n",
       "        [-2.46476941e-02,  2.81805903e-01, -1.13023788e-01,\n",
       "          1.87104270e-01,  2.09033400e-01],\n",
       "        [-1.35619305e-02, -2.15819240e-01,  3.93932611e-02,\n",
       "          1.79792956e-01,  1.77937001e-01],\n",
       "        [-2.32842058e-01, -1.82812914e-01, -3.05336624e-01,\n",
       "         -2.91728992e-02, -2.12820828e-01],\n",
       "        [-2.00112820e-01,  2.01746345e-01,  7.30911493e-02,\n",
       "         -1.99421421e-01, -3.28574657e-01]], dtype=float32),\n",
       " 'b1': array([-0.00463465], dtype=float32),\n",
       " 'b2': array([-0.00364554], dtype=float32),\n",
       " 'b3': array([-0.00422004], dtype=float32)}"
      ]
     },
     "execution_count": 68,
     "metadata": {},
     "output_type": "execute_result"
    }
   ],
   "source": [
    "parameters"
   ]
  },
  {
   "cell_type": "code",
   "execution_count": 54,
   "metadata": {},
   "outputs": [
    {
     "data": {
      "text/plain": [
       "array([[0.05643584, 0.03275199, 0.05946815, 0.05000833, 0.03813594],\n",
       "       [0.03275199, 0.05946815, 0.05000833, 0.03813594, 0.027705  ],\n",
       "       [0.05946815, 0.05000833, 0.03813594, 0.027705  , 0.01964146],\n",
       "       ...,\n",
       "       [0.05627672, 0.04201676, 0.01747728, 0.0392065 , 0.08091495],\n",
       "       [0.04201676, 0.01747728, 0.0392065 , 0.08091495, 0.08627456],\n",
       "       [0.01747728, 0.0392065 , 0.08091495, 0.08627456, 0.06505359]])"
      ]
     },
     "execution_count": 54,
     "metadata": {},
     "output_type": "execute_result"
    }
   ],
   "source": [
    "dev_Y"
   ]
  },
  {
   "cell_type": "code",
   "execution_count": 62,
   "metadata": {
    "collapsed": true
   },
   "outputs": [],
   "source": [
    "def predict(X, parameters):\n",
    "    \n",
    "    W1 = tf.convert_to_tensor(parameters[\"W1\"])\n",
    "    b1 = tf.convert_to_tensor(parameters[\"b1\"])\n",
    "    W2 = tf.convert_to_tensor(parameters[\"W2\"])\n",
    "    b2 = tf.convert_to_tensor(parameters[\"b2\"])\n",
    "    W3 = tf.convert_to_tensor(parameters[\"W3\"])\n",
    "    b3 = tf.convert_to_tensor(parameters[\"b3\"])\n",
    "    \n",
    "    params = {\"W1\": W1,\n",
    "              \"b1\": b1,\n",
    "              \"W2\": W2,\n",
    "              \"b2\": b2,\n",
    "              \"W3\": W3,\n",
    "              \"b3\": b3}\n",
    "    try:\n",
    "        x = tf.placeholder(\"float\", [X.shape[0],X.shape[1]])\n",
    "    except:\n",
    "        x = tf.placeholder(\"float\", [1,X.shape[0]])\n",
    "    z3 = forward_propagation(x, params)\n",
    "    \n",
    "    sess = tf.Session()\n",
    "    prediction = sess.run(z3, feed_dict = {x: X})\n",
    "        \n",
    "    return prediction\n"
   ]
  },
  {
   "cell_type": "code",
   "execution_count": 63,
   "metadata": {},
   "outputs": [
    {
     "data": {
      "text/plain": [
       "array([[ 0.00000000e+00,  0.00000000e+00,  0.00000000e+00, ...,\n",
       "         7.23004155e-03, -5.30000000e+00,  9.09000000e+01],\n",
       "       [ 0.00000000e+00,  0.00000000e+00,  0.00000000e+00, ...,\n",
       "         5.64358425e-02, -5.30000000e+00,  9.09000000e+01],\n",
       "       [ 0.00000000e+00,  0.00000000e+00,  0.00000000e+00, ...,\n",
       "         3.27519871e-02, -5.30000000e+00,  9.09000000e+01],\n",
       "       ...,\n",
       "       [ 1.56260903e-01,  1.53810222e-01,  1.56539213e-01, ...,\n",
       "         3.79407995e-02, -5.40000000e+00,  9.06000000e+01],\n",
       "       [ 1.53810222e-01,  1.56539213e-01,  1.64489044e-01, ...,\n",
       "         5.62767218e-02, -5.40000000e+00,  9.06000000e+01],\n",
       "       [ 1.56539213e-01,  1.64489044e-01,  1.66753315e-01, ...,\n",
       "         4.20167572e-02, -5.40000000e+00,  9.06000000e+01]])"
      ]
     },
     "execution_count": 63,
     "metadata": {},
     "output_type": "execute_result"
    }
   ],
   "source": [
    "dev_X"
   ]
  },
  {
   "cell_type": "code",
   "execution_count": 67,
   "metadata": {},
   "outputs": [
    {
     "data": {
      "text/plain": [
       "array([[0.04747519, 0.01798245, 0.01895531, 0.00728783, 0.02484331]],\n",
       "      dtype=float32)"
      ]
     },
     "execution_count": 67,
     "metadata": {},
     "output_type": "execute_result"
    }
   ],
   "source": [
    "my_prediction = predict(np.array([dev_X[10,:]]), parameters)\n",
    "my_prediction"
   ]
  },
  {
   "cell_type": "code",
   "execution_count": 65,
   "metadata": {},
   "outputs": [
    {
     "data": {
      "text/plain": [
       "array([[ 3.20552994e-02,  5.25538672e-03,  1.30403335e-02, ...,\n",
       "         5.57348766e-02, -5.30000000e+00,  9.09000000e+01]])"
      ]
     },
     "execution_count": 65,
     "metadata": {},
     "output_type": "execute_result"
    }
   ],
   "source": [
    "np.array([dev_X[10,:]])"
   ]
  },
  {
   "cell_type": "code",
   "execution_count": 66,
   "metadata": {},
   "outputs": [
    {
     "data": {
      "text/plain": [
       "array([0.05643584, 0.03275199, 0.05946815, 0.05000833, 0.03813594])"
      ]
     },
     "execution_count": 66,
     "metadata": {},
     "output_type": "execute_result"
    }
   ],
   "source": [
    "dev_Y[0,:]"
   ]
  },
  {
   "cell_type": "code",
   "execution_count": null,
   "metadata": {
    "collapsed": true
   },
   "outputs": [],
   "source": []
  }
 ],
 "metadata": {
  "kernelspec": {
   "display_name": "Python 3",
   "language": "python",
   "name": "python3"
  },
  "language_info": {
   "codemirror_mode": {
    "name": "ipython",
    "version": 3
   },
   "file_extension": ".py",
   "mimetype": "text/x-python",
   "name": "python",
   "nbconvert_exporter": "python",
   "pygments_lexer": "ipython3",
   "version": "3.6.3"
  }
 },
 "nbformat": 4,
 "nbformat_minor": 2
}
