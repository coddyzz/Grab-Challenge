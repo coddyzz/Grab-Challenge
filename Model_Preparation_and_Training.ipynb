{
 "cells": [
  {
   "cell_type": "markdown",
   "metadata": {},
   "source": [
    "#### This notebook explains the modeling and training process\n",
    "\n",
    "### Table of content\n",
    "\n",
    "** I. Import Neccessary libraries <br>\n",
    "II. Import Dataset <br>\n",
    "III. Data Cleansing and processing <br>\n",
    "IV. Initializing the neural network <br>\n",
    "V. Model Training **\n",
    "\n",
    "--"
   ]
  },
  {
   "cell_type": "markdown",
   "metadata": {
    "collapsed": true
   },
   "source": [
    "## I. Import Neccessary Libraries"
   ]
  },
  {
   "cell_type": "code",
   "execution_count": 8,
   "metadata": {
    "collapsed": true
   },
   "outputs": [],
   "source": [
    "### If missing any library, please uncomment the repective line below and pip install\n",
    "#!pip install tensorflow --upgrade\n",
    "#!pip install h5py\n",
    "#!pip install numpy --upgrade\n",
    "#!pip install pandas\n",
    "#!pip install dask --upgrade\n",
    "\n",
    "## Taken from https://pypi.org/project/pygeohash/\n",
    "## Using this instead of the python-geohash by hiwi due to better documentation\n",
    "\n",
    "#!pip install pygeohash\n"
   ]
  },
  {
   "cell_type": "code",
   "execution_count": 9,
   "metadata": {
    "collapsed": true,
    "scrolled": true
   },
   "outputs": [],
   "source": [
    "import numpy as np\n",
    "import pandas as pd\n",
    "import h5py\n",
    "import matplotlib.pyplot as plt\n",
    "import tensorflow as tf\n",
    "from tensorflow.python.framework import ops\n",
    "import pygeohash as pgh\n",
    "from tqdm._tqdm_notebook import tqdm_notebook\n",
    "from sklearn.model_selection import train_test_split\n",
    "import random\n",
    "import math\n",
    "import pickle\n",
    "tqdm_notebook.pandas()\n",
    "%matplotlib inline"
   ]
  },
  {
   "cell_type": "markdown",
   "metadata": {},
   "source": [
    "## II. Import the Dataset"
   ]
  },
  {
   "cell_type": "markdown",
   "metadata": {},
   "source": [
    "#### 1. Spilting the training dataset (sorely for github)\n",
    "Had an issue where github do not allow commit above 100MB.<br>\n",
    "My laptop had several issues in regarding the usage of github-lfs for large file<br>\n",
    "Thus I spilt them up into two 80~ MB files, and combine them later in the code"
   ]
  },
  {
   "cell_type": "code",
   "execution_count": 10,
   "metadata": {
    "collapsed": true
   },
   "outputs": [],
   "source": [
    "## Load and spilt the dataframe\n",
    "try:\n",
    "    df = pd.read_csv(\"training.csv\")\n",
    "    df1 = df[:int(df.shape[0]/2)]\n",
    "    df2 = df[int(df.shape[0]/2):]\n",
    "\n",
    "## Save to csv\n",
    "    df1.to_csv(\"training_1st_half.csv\", index_label = False)\n",
    "    df2.to_csv(\"training_2nd_half.csv\", index_label = False)\n",
    "\n",
    "## Already uploaded the sub dataset, this should go to the pass path all the time.\n",
    "except:\n",
    "    pass "
   ]
  },
  {
   "cell_type": "markdown",
   "metadata": {},
   "source": [
    "#### 2. Loading the dataset"
   ]
  },
  {
   "cell_type": "code",
   "execution_count": 18,
   "metadata": {
    "collapsed": true
   },
   "outputs": [],
   "source": [
    "df1 = pd.read_csv(\"training_1st_half.csv\")\n",
    "df2 = pd.read_csv(\"training_2nd_half.csv\")\n",
    "df = df1.append(df2, ignore_index = True)"
   ]
  },
  {
   "cell_type": "markdown",
   "metadata": {},
   "source": [
    "An brief overview of the dataset"
   ]
  },
  {
   "cell_type": "code",
   "execution_count": 19,
   "metadata": {},
   "outputs": [
    {
     "name": "stdout",
     "output_type": "stream",
     "text": [
      "The dataset has 4206321 rows and 4 columns\n",
      "A brief summary of numerical columns:\n",
      "                day        demand\n",
      "count  4.206321e+06  4.206321e+06\n",
      "mean   3.145299e+01  1.050907e-01\n",
      "std    1.768278e+01  1.592655e-01\n",
      "min    1.000000e+00  3.092217e-09\n",
      "25%    1.600000e+01  1.867379e-02\n",
      "50%    3.200000e+01  5.043463e-02\n",
      "75%    4.700000e+01  1.208644e-01\n",
      "max    6.100000e+01  1.000000e+00\n",
      "First five rows of the dataset:\n",
      "  geohash6  day timestamp    demand\n",
      "0   qp03wc   18      20:0  0.020072\n",
      "1   qp03pn   10     14:30  0.024721\n",
      "2   qp09sw    9      6:15  0.102821\n",
      "3   qp0991   32       5:0  0.088755\n",
      "4   qp090q   15       4:0  0.074468\n"
     ]
    }
   ],
   "source": [
    "print(\"The dataset has \" + str(df.shape[0]) + \" rows and \" + str(df.shape[1]) + \" columns\")  # 4,206,321 entries\n",
    "print(\"A brief summary of numerical columns:\")\n",
    "print(df.describe())\n",
    "print(\"First five rows of the dataset:\")\n",
    "print(df.head())"
   ]
  },
  {
   "cell_type": "markdown",
   "metadata": {},
   "source": [
    "## III. Data cleansing and processing"
   ]
  },
  {
   "cell_type": "markdown",
   "metadata": {},
   "source": [
    "#### 1. Combine day and timestamp columns to time_stamp column\n",
    "This column measure the index of timestamp from day 1 first time stamp (0) to day 61 last timestamp (5855)"
   ]
  },
  {
   "cell_type": "code",
   "execution_count": 20,
   "metadata": {},
   "outputs": [
    {
     "data": {
      "application/vnd.jupyter.widget-view+json": {
       "model_id": "3ceced7ac98943d5b4f551ef1006ec01",
       "version_major": 2,
       "version_minor": 0
      },
      "text/plain": [
       "A Jupyter Widget"
      ]
     },
     "metadata": {},
     "output_type": "display_data"
    },
    {
     "name": "stdout",
     "output_type": "stream",
     "text": [
      "\n"
     ]
    },
    {
     "data": {
      "text/html": [
       "<div>\n",
       "<style scoped>\n",
       "    .dataframe tbody tr th:only-of-type {\n",
       "        vertical-align: middle;\n",
       "    }\n",
       "\n",
       "    .dataframe tbody tr th {\n",
       "        vertical-align: top;\n",
       "    }\n",
       "\n",
       "    .dataframe thead th {\n",
       "        text-align: right;\n",
       "    }\n",
       "</style>\n",
       "<table border=\"1\" class=\"dataframe\">\n",
       "  <thead>\n",
       "    <tr style=\"text-align: right;\">\n",
       "      <th></th>\n",
       "      <th>geohash6</th>\n",
       "      <th>day</th>\n",
       "      <th>timestamp</th>\n",
       "      <th>demand</th>\n",
       "      <th>time_stamp</th>\n",
       "    </tr>\n",
       "  </thead>\n",
       "  <tbody>\n",
       "    <tr>\n",
       "      <th>0</th>\n",
       "      <td>qp03wc</td>\n",
       "      <td>18</td>\n",
       "      <td>20:0</td>\n",
       "      <td>0.020072</td>\n",
       "      <td>1712.0</td>\n",
       "    </tr>\n",
       "    <tr>\n",
       "      <th>1</th>\n",
       "      <td>qp03pn</td>\n",
       "      <td>10</td>\n",
       "      <td>14:30</td>\n",
       "      <td>0.024721</td>\n",
       "      <td>922.0</td>\n",
       "    </tr>\n",
       "    <tr>\n",
       "      <th>2</th>\n",
       "      <td>qp09sw</td>\n",
       "      <td>9</td>\n",
       "      <td>6:15</td>\n",
       "      <td>0.102821</td>\n",
       "      <td>793.0</td>\n",
       "    </tr>\n",
       "    <tr>\n",
       "      <th>3</th>\n",
       "      <td>qp0991</td>\n",
       "      <td>32</td>\n",
       "      <td>5:0</td>\n",
       "      <td>0.088755</td>\n",
       "      <td>2996.0</td>\n",
       "    </tr>\n",
       "    <tr>\n",
       "      <th>4</th>\n",
       "      <td>qp090q</td>\n",
       "      <td>15</td>\n",
       "      <td>4:0</td>\n",
       "      <td>0.074468</td>\n",
       "      <td>1360.0</td>\n",
       "    </tr>\n",
       "  </tbody>\n",
       "</table>\n",
       "</div>"
      ],
      "text/plain": [
       "  geohash6  day timestamp    demand  time_stamp\n",
       "0   qp03wc   18      20:0  0.020072      1712.0\n",
       "1   qp03pn   10     14:30  0.024721       922.0\n",
       "2   qp09sw    9      6:15  0.102821       793.0\n",
       "3   qp0991   32       5:0  0.088755      2996.0\n",
       "4   qp090q   15       4:0  0.074468      1360.0"
      ]
     },
     "execution_count": 20,
     "metadata": {},
     "output_type": "execute_result"
    }
   ],
   "source": [
    "def string_to_time (string):\n",
    "    x = string.split(\":\")\n",
    "    timing = int(x[0]) * 60 + int(x[1])\n",
    "    return timing/15\n",
    "\n",
    "df['time_stamp'] = df['timestamp'].progress_apply(string_to_time)\n",
    "df['time_stamp'] = df['time_stamp'] + (df['day'] - 1)*96\n",
    "df.head()"
   ]
  },
  {
   "cell_type": "code",
   "execution_count": 21,
   "metadata": {},
   "outputs": [
    {
     "data": {
      "text/html": [
       "<div>\n",
       "<style scoped>\n",
       "    .dataframe tbody tr th:only-of-type {\n",
       "        vertical-align: middle;\n",
       "    }\n",
       "\n",
       "    .dataframe tbody tr th {\n",
       "        vertical-align: top;\n",
       "    }\n",
       "\n",
       "    .dataframe thead th {\n",
       "        text-align: right;\n",
       "    }\n",
       "</style>\n",
       "<table border=\"1\" class=\"dataframe\">\n",
       "  <thead>\n",
       "    <tr style=\"text-align: right;\">\n",
       "      <th></th>\n",
       "      <th>day</th>\n",
       "      <th>demand</th>\n",
       "      <th>time_stamp</th>\n",
       "    </tr>\n",
       "  </thead>\n",
       "  <tbody>\n",
       "    <tr>\n",
       "      <th>count</th>\n",
       "      <td>4.206321e+06</td>\n",
       "      <td>4.206321e+06</td>\n",
       "      <td>4.206321e+06</td>\n",
       "    </tr>\n",
       "    <tr>\n",
       "      <th>mean</th>\n",
       "      <td>3.145299e+01</td>\n",
       "      <td>1.050907e-01</td>\n",
       "      <td>2.964249e+03</td>\n",
       "    </tr>\n",
       "    <tr>\n",
       "      <th>std</th>\n",
       "      <td>1.768278e+01</td>\n",
       "      <td>1.592655e-01</td>\n",
       "      <td>1.697748e+03</td>\n",
       "    </tr>\n",
       "    <tr>\n",
       "      <th>min</th>\n",
       "      <td>1.000000e+00</td>\n",
       "      <td>3.092217e-09</td>\n",
       "      <td>0.000000e+00</td>\n",
       "    </tr>\n",
       "    <tr>\n",
       "      <th>25%</th>\n",
       "      <td>1.600000e+01</td>\n",
       "      <td>1.867379e-02</td>\n",
       "      <td>1.477000e+03</td>\n",
       "    </tr>\n",
       "    <tr>\n",
       "      <th>50%</th>\n",
       "      <td>3.200000e+01</td>\n",
       "      <td>5.043463e-02</td>\n",
       "      <td>3.010000e+03</td>\n",
       "    </tr>\n",
       "    <tr>\n",
       "      <th>75%</th>\n",
       "      <td>4.700000e+01</td>\n",
       "      <td>1.208644e-01</td>\n",
       "      <td>4.428000e+03</td>\n",
       "    </tr>\n",
       "    <tr>\n",
       "      <th>max</th>\n",
       "      <td>6.100000e+01</td>\n",
       "      <td>1.000000e+00</td>\n",
       "      <td>5.855000e+03</td>\n",
       "    </tr>\n",
       "  </tbody>\n",
       "</table>\n",
       "</div>"
      ],
      "text/plain": [
       "                day        demand    time_stamp\n",
       "count  4.206321e+06  4.206321e+06  4.206321e+06\n",
       "mean   3.145299e+01  1.050907e-01  2.964249e+03\n",
       "std    1.768278e+01  1.592655e-01  1.697748e+03\n",
       "min    1.000000e+00  3.092217e-09  0.000000e+00\n",
       "25%    1.600000e+01  1.867379e-02  1.477000e+03\n",
       "50%    3.200000e+01  5.043463e-02  3.010000e+03\n",
       "75%    4.700000e+01  1.208644e-01  4.428000e+03\n",
       "max    6.100000e+01  1.000000e+00  5.855000e+03"
      ]
     },
     "execution_count": 21,
     "metadata": {},
     "output_type": "execute_result"
    }
   ],
   "source": [
    "df.describe()   ##Time stamp from 0 to 5855 (5856 = 61 x24 x 4)"
   ]
  },
  {
   "cell_type": "markdown",
   "metadata": {},
   "source": [
    "#### 2. Identify unique geohash6-s\n",
    "A total of 1329 unique geohash markers"
   ]
  },
  {
   "cell_type": "code",
   "execution_count": 22,
   "metadata": {},
   "outputs": [
    {
     "name": "stdout",
     "output_type": "stream",
     "text": [
      "1329\n"
     ]
    },
    {
     "data": {
      "text/plain": [
       "array(['qp02yc', 'qp02yf', 'qp02yu', ..., 'qp0dnh', 'qp0dnj', 'qp0dnn'],\n",
       "      dtype=object)"
      ]
     },
     "execution_count": 22,
     "metadata": {},
     "output_type": "execute_result"
    }
   ],
   "source": [
    "de = df.groupby(['geohash6']).count()\n",
    "hash_list = de.index.values\n",
    "hash_list = np.squeeze(hash_list)\n",
    "print(len(hash_list))\n",
    "hash_list"
   ]
  },
  {
   "cell_type": "markdown",
   "metadata": {},
   "source": [
    "#### 3. Pivot the original 4206321 by 4 dataframe to time_stamp vs geohash6 (5847 by 1329)\n",
    "There's 5856 time stamps<br>\n",
    "The dataframe is then filled with 0 to replace NaN to prevent any numerical calculation errors"
   ]
  },
  {
   "cell_type": "code",
   "execution_count": 23,
   "metadata": {},
   "outputs": [
    {
     "name": "stdout",
     "output_type": "stream",
     "text": [
      "(5856, 1329)\n"
     ]
    },
    {
     "data": {
      "text/html": [
       "<div>\n",
       "<style scoped>\n",
       "    .dataframe tbody tr th:only-of-type {\n",
       "        vertical-align: middle;\n",
       "    }\n",
       "\n",
       "    .dataframe tbody tr th {\n",
       "        vertical-align: top;\n",
       "    }\n",
       "\n",
       "    .dataframe thead th {\n",
       "        text-align: right;\n",
       "    }\n",
       "</style>\n",
       "<table border=\"1\" class=\"dataframe\">\n",
       "  <thead>\n",
       "    <tr style=\"text-align: right;\">\n",
       "      <th>geohash6</th>\n",
       "      <th>qp02yc</th>\n",
       "      <th>qp02yf</th>\n",
       "      <th>qp02yu</th>\n",
       "      <th>qp02yv</th>\n",
       "      <th>qp02yy</th>\n",
       "      <th>qp02yz</th>\n",
       "      <th>qp02z1</th>\n",
       "      <th>qp02z3</th>\n",
       "      <th>qp02z4</th>\n",
       "      <th>qp02z5</th>\n",
       "      <th>...</th>\n",
       "      <th>qp0djv</th>\n",
       "      <th>qp0djw</th>\n",
       "      <th>qp0djy</th>\n",
       "      <th>qp0dn0</th>\n",
       "      <th>qp0dn1</th>\n",
       "      <th>qp0dn4</th>\n",
       "      <th>qp0dn5</th>\n",
       "      <th>qp0dnh</th>\n",
       "      <th>qp0dnj</th>\n",
       "      <th>qp0dnn</th>\n",
       "    </tr>\n",
       "    <tr>\n",
       "      <th>time_stamp</th>\n",
       "      <th></th>\n",
       "      <th></th>\n",
       "      <th></th>\n",
       "      <th></th>\n",
       "      <th></th>\n",
       "      <th></th>\n",
       "      <th></th>\n",
       "      <th></th>\n",
       "      <th></th>\n",
       "      <th></th>\n",
       "      <th></th>\n",
       "      <th></th>\n",
       "      <th></th>\n",
       "      <th></th>\n",
       "      <th></th>\n",
       "      <th></th>\n",
       "      <th></th>\n",
       "      <th></th>\n",
       "      <th></th>\n",
       "      <th></th>\n",
       "      <th></th>\n",
       "    </tr>\n",
       "  </thead>\n",
       "  <tbody>\n",
       "    <tr>\n",
       "      <th>0</th>\n",
       "      <td>0.0</td>\n",
       "      <td>0.0</td>\n",
       "      <td>0.0</td>\n",
       "      <td>0.0</td>\n",
       "      <td>0.0</td>\n",
       "      <td>0.0</td>\n",
       "      <td>0.0</td>\n",
       "      <td>0.0</td>\n",
       "      <td>0.0</td>\n",
       "      <td>0.0000</td>\n",
       "      <td>...</td>\n",
       "      <td>0.0</td>\n",
       "      <td>0.0</td>\n",
       "      <td>0.000000</td>\n",
       "      <td>0.0</td>\n",
       "      <td>0.0</td>\n",
       "      <td>0.0</td>\n",
       "      <td>0.0</td>\n",
       "      <td>0.0</td>\n",
       "      <td>0.000000</td>\n",
       "      <td>0.0</td>\n",
       "    </tr>\n",
       "    <tr>\n",
       "      <th>1</th>\n",
       "      <td>0.0</td>\n",
       "      <td>0.0</td>\n",
       "      <td>0.0</td>\n",
       "      <td>0.0</td>\n",
       "      <td>0.0</td>\n",
       "      <td>0.0</td>\n",
       "      <td>0.0</td>\n",
       "      <td>0.0</td>\n",
       "      <td>0.0</td>\n",
       "      <td>0.0006</td>\n",
       "      <td>...</td>\n",
       "      <td>0.0</td>\n",
       "      <td>0.0</td>\n",
       "      <td>0.004056</td>\n",
       "      <td>0.0</td>\n",
       "      <td>0.0</td>\n",
       "      <td>0.0</td>\n",
       "      <td>0.0</td>\n",
       "      <td>0.0</td>\n",
       "      <td>0.000000</td>\n",
       "      <td>0.0</td>\n",
       "    </tr>\n",
       "    <tr>\n",
       "      <th>2</th>\n",
       "      <td>0.0</td>\n",
       "      <td>0.0</td>\n",
       "      <td>0.0</td>\n",
       "      <td>0.0</td>\n",
       "      <td>0.0</td>\n",
       "      <td>0.0</td>\n",
       "      <td>0.0</td>\n",
       "      <td>0.0</td>\n",
       "      <td>0.0</td>\n",
       "      <td>0.0000</td>\n",
       "      <td>...</td>\n",
       "      <td>0.0</td>\n",
       "      <td>0.0</td>\n",
       "      <td>0.000000</td>\n",
       "      <td>0.0</td>\n",
       "      <td>0.0</td>\n",
       "      <td>0.0</td>\n",
       "      <td>0.0</td>\n",
       "      <td>0.0</td>\n",
       "      <td>0.009381</td>\n",
       "      <td>0.0</td>\n",
       "    </tr>\n",
       "    <tr>\n",
       "      <th>3</th>\n",
       "      <td>0.0</td>\n",
       "      <td>0.0</td>\n",
       "      <td>0.0</td>\n",
       "      <td>0.0</td>\n",
       "      <td>0.0</td>\n",
       "      <td>0.0</td>\n",
       "      <td>0.0</td>\n",
       "      <td>0.0</td>\n",
       "      <td>0.0</td>\n",
       "      <td>0.0000</td>\n",
       "      <td>...</td>\n",
       "      <td>0.0</td>\n",
       "      <td>0.0</td>\n",
       "      <td>0.000000</td>\n",
       "      <td>0.0</td>\n",
       "      <td>0.0</td>\n",
       "      <td>0.0</td>\n",
       "      <td>0.0</td>\n",
       "      <td>0.0</td>\n",
       "      <td>0.000000</td>\n",
       "      <td>0.0</td>\n",
       "    </tr>\n",
       "    <tr>\n",
       "      <th>4</th>\n",
       "      <td>0.0</td>\n",
       "      <td>0.0</td>\n",
       "      <td>0.0</td>\n",
       "      <td>0.0</td>\n",
       "      <td>0.0</td>\n",
       "      <td>0.0</td>\n",
       "      <td>0.0</td>\n",
       "      <td>0.0</td>\n",
       "      <td>0.0</td>\n",
       "      <td>0.0000</td>\n",
       "      <td>...</td>\n",
       "      <td>0.0</td>\n",
       "      <td>0.0</td>\n",
       "      <td>0.008253</td>\n",
       "      <td>0.0</td>\n",
       "      <td>0.0</td>\n",
       "      <td>0.0</td>\n",
       "      <td>0.0</td>\n",
       "      <td>0.0</td>\n",
       "      <td>0.002701</td>\n",
       "      <td>0.0</td>\n",
       "    </tr>\n",
       "  </tbody>\n",
       "</table>\n",
       "<p>5 rows × 1329 columns</p>\n",
       "</div>"
      ],
      "text/plain": [
       "geohash6    qp02yc  qp02yf  qp02yu  qp02yv  qp02yy  qp02yz  qp02z1  qp02z3  \\\n",
       "time_stamp                                                                   \n",
       "0              0.0     0.0     0.0     0.0     0.0     0.0     0.0     0.0   \n",
       "1              0.0     0.0     0.0     0.0     0.0     0.0     0.0     0.0   \n",
       "2              0.0     0.0     0.0     0.0     0.0     0.0     0.0     0.0   \n",
       "3              0.0     0.0     0.0     0.0     0.0     0.0     0.0     0.0   \n",
       "4              0.0     0.0     0.0     0.0     0.0     0.0     0.0     0.0   \n",
       "\n",
       "geohash6    qp02z4  qp02z5  ...  qp0djv  qp0djw    qp0djy  qp0dn0  qp0dn1  \\\n",
       "time_stamp                  ...                                             \n",
       "0              0.0  0.0000  ...     0.0     0.0  0.000000     0.0     0.0   \n",
       "1              0.0  0.0006  ...     0.0     0.0  0.004056     0.0     0.0   \n",
       "2              0.0  0.0000  ...     0.0     0.0  0.000000     0.0     0.0   \n",
       "3              0.0  0.0000  ...     0.0     0.0  0.000000     0.0     0.0   \n",
       "4              0.0  0.0000  ...     0.0     0.0  0.008253     0.0     0.0   \n",
       "\n",
       "geohash6    qp0dn4  qp0dn5  qp0dnh    qp0dnj  qp0dnn  \n",
       "time_stamp                                            \n",
       "0              0.0     0.0     0.0  0.000000     0.0  \n",
       "1              0.0     0.0     0.0  0.000000     0.0  \n",
       "2              0.0     0.0     0.0  0.009381     0.0  \n",
       "3              0.0     0.0     0.0  0.000000     0.0  \n",
       "4              0.0     0.0     0.0  0.002701     0.0  \n",
       "\n",
       "[5 rows x 1329 columns]"
      ]
     },
     "execution_count": 23,
     "metadata": {},
     "output_type": "execute_result"
    }
   ],
   "source": [
    "# Pivot\n",
    "df = pd.pivot_table(df, values='demand', index=['time_stamp'],columns=['geohash6'])\n",
    "\n",
    "# Fill all NaN as numeric 0\n",
    "df = df.fillna(0)\n",
    "\n",
    "## Fill up any missing time_stamp\n",
    "df = df.reindex(range(int(df.index.values[-1])+1), fill_value=0)\n",
    "\n",
    "print(df.shape)\n",
    "df.head()"
   ]
  },
  {
   "cell_type": "markdown",
   "metadata": {},
   "source": [
    "#### 4. Converting the time_stamp vs geohash6 table to a list of historical data for each demand entry to be the input of model\n",
    "This is the most difficult part of the data processing section.<br><br>\n",
    "I would like to sample past 13 days record for each entry, if applicable( to be safe from exceeding limit of up to 14days, also to reduce dataframe size to a small extent)<br>\n",
    "However this will add additonal 13 x 24 x 4 -1 = 1247 columns to the existing dataset, rendering it impossible to be handled on local server due to memory issues in processing a ~ 4millon by 1250 dataframe. (roughly 180 GB of RAM for such df)<br><br>\n",
    "To tackle this, I adopt the minibatch technique and use a random sampling method to sample 20 geohash using a rolling window technique on the training dataset.<br> This provides me with roughly 50,000 entries for each sampling frame as training set. <br><br>\n",
    "By keeping the parameters from previous learning cycles and resampling training set, this repeated process will achieve an approximate accuracy of training on the entire dataset (minibatch idea)<br>\n",
    "The development set is not resampled, as it is a very small.<br><br>\n",
    "**Training and Development set format**:<br>\n",
    "**Features consisting of**:<br>\n",
    "1248 columns of demand from timestamp = T-1248 to timestamp = T-1<br>\n",
    "1 column of the demand at timestamp = T<br>\n",
    "2 columns of geohash6 data in terms of latitude and longitude. This is decoded using pygeohash library <br>\n",
    "**Targets being**:<br>\n",
    "5 columns the demand at timestamp = T+1 to timestamp = T+5 <br>\n",
    "**This makes a total of 1251 features and 5 targets **"
   ]
  },
  {
   "cell_type": "code",
   "execution_count": 24,
   "metadata": {
    "collapsed": true
   },
   "outputs": [],
   "source": [
    "def resampling(df,seed = 10):\n",
    "    '''\n",
    "    This function takes in 3 arguments: a training dataframe, a limit (int) and a seed (int) for randomization\n",
    "    \n",
    "    This function randomly pick 30 geohash6 from the list of available geohash6 in the training dataframe based on the seed\n",
    "    It then perform a rolling window of 1248 + 1 + 5 = 1254 width on the dataframe's subset of only the selected geohash6-s\n",
    "    It then append the result of the rolling window as well as the decoded geohash to the X and Y dataframe respectively\n",
    "    It repeats until all 20 geohash6 are completed, other than the last entry where less than 20 is possible.\n",
    "    \n",
    "    This function returns the training X and Y of the randomed sample\n",
    "    '''\n",
    "    # Create placeholder for the data\n",
    "    X = pd.DataFrame({\"index\":list(np.core.defchararray.add(\"T-\",np.arange(1248,0,-1).astype(\"str\")))+\\\n",
    "                           [\"T\",\"lat\",\"lon\"]})\n",
    "    Y = pd.DataFrame({\"index\":[\"T+1\",\"T+2\",\"T+3\",\"T+4\",\"T+5\"]})\n",
    "    \n",
    "    # Find all geohash in the dataframe and return a list\n",
    "    hash_list = df.T.index.values\n",
    "    \n",
    "    # Set up seed for randomization, if needed\n",
    "    random.seed(seed)\n",
    "    \n",
    "    # Try to generate 20 geohash if the total geohash > 20\n",
    "    try:\n",
    "        sample = random.sample(range(0, len(hash_list)), 20)\n",
    "    except:\n",
    "        sample = range(len(hash_list))\n",
    "        \n",
    "    # Keep track of number of rows (k) and sampled geohash (sampled_list)\n",
    "    k=0\n",
    "    sampled_list = []\n",
    "    \n",
    "    \n",
    "    for geohash in tqdm_notebook(hash_list[sample]):\n",
    "        \n",
    "        # Decode geohash\n",
    "        lat = pgh.decode(geohash)[0]\n",
    "        lon = pgh.decode(geohash)[1]\n",
    "        \n",
    "        for i in range(1248,df.shape[0]-5):\n",
    "            \n",
    "            ''' \n",
    "            This is a rolling window across the entire dataframe column wise (per geocode)\n",
    "            This samples 1248 entries prior of a non-zero value as well as 5 values after \n",
    "            '''\n",
    "            if df[geohash].values[i] > 0:\n",
    "                k+=1\n",
    "                X[str(k)] = list(df[geohash].values[i-1248:i+1])+[lat,lon]\n",
    "                Y[str(k)] = list(df[geohash].values[i+1:i+6])\n",
    "                \n",
    "        sampled_list += [geohash]\n",
    "        \n",
    "    print(len(sampled_list),\"Geohash-s sampled,\",len(hash_list)-len(sampled_list),\" remaining\")\n",
    "\n",
    "    # Transpose the change into dtype float\n",
    "    X=np.array(X.T.drop(['index'])).astype(\"float\")\n",
    "    Y=np.array(Y.T.drop(['index'])).astype(\"float\")\n",
    "    \n",
    "    print(\"This sample has:\",k,\"rows\")\n",
    "    \n",
    "    return X,Y ,sampled_list"
   ]
  },
  {
   "cell_type": "code",
   "execution_count": 25,
   "metadata": {
    "collapsed": true
   },
   "outputs": [],
   "source": [
    "def dev_sampling(df):\n",
    "    '''\n",
    "    This function is similar to resampling()\n",
    "    This function takes in 1 argument: a dataframe\n",
    "     \n",
    "    This function performs a rolling window of 1248 + 1 + 5 = 1254 width on the dataframe\n",
    "    It then append the result of the rolling window as well as the decoded geohash to the X and Y dataframe respectively\n",
    "    It repeats until it loops through the entire dataframe\n",
    "    \n",
    "    This function returns the dev X and Y of the randomed sample\n",
    "    '''\n",
    "    X = pd.DataFrame({\"index\":list(np.core.defchararray.add(\"T-\",np.arange(1248,0,-1).astype(\"str\")))+\\\n",
    "                           [\"T\",\"lat\",\"lon\"]})\n",
    "    Y = pd.DataFrame({\"index\":[\"T+1\",\"T+2\",\"T+3\",\"T+4\",\"T+5\"]})\n",
    "\n",
    "    k=0\n",
    "    print(\"Converting to each row to record 13 days prior data as well as from T to T+5, latitude and longitude\\nThis will take a while\")\n",
    "    for geohash in tqdm_notebook(hash_list):\n",
    "        for i in range(1248,df.shape[0]-5):\n",
    "            if df[geohash].values[i] > 0:\n",
    "                try:\n",
    "                    k+=1\n",
    "                    X[str(k)] = list(df[geohash].values[i-1248:i+1])+[pgh.decode(geohash)[0],pgh.decode(geohash)[1]]\n",
    "                except:\n",
    "                    k+=1\n",
    "                    print(df[geohash].values[i])\n",
    "                    print(list(df[geohash].values[i-1248:i+6])+[geohash])\n",
    "                    \n",
    "                # If no target is provided, return a array of five zero (used for prediction of use case)\n",
    "                try:\n",
    "                    Y[str(k)] = list(df[geohash].values[i+1:i+6])\n",
    "                except:\n",
    "                    Y[str(k)] = [0,0,0,0,0]\n",
    "\n",
    "    X=np.array(X.T.drop(['index'])).astype(\"float\")\n",
    "    Y=np.array(Y.T.drop(['index'])).astype(\"float\")   \n",
    "    print(\"This sample has:\",k,\"rows\")\n",
    "    \n",
    "    return X,Y"
   ]
  },
  {
   "cell_type": "markdown",
   "metadata": {},
   "source": [
    "#### 5. Train/Dev Split\n",
    "**I used a train testt split of 99% training and 1% testing.<br>\n",
    "This gives me 14 geohashs of data in the developement set **"
   ]
  },
  {
   "cell_type": "code",
   "execution_count": 26,
   "metadata": {
    "collapsed": true
   },
   "outputs": [],
   "source": [
    "train,dev = train_test_split(df.T, test_size=0.01, random_state=42)"
   ]
  },
  {
   "cell_type": "markdown",
   "metadata": {},
   "source": [
    "**A mock sampling of training set** (used to debug the initiation of neural network)"
   ]
  },
  {
   "cell_type": "code",
   "execution_count": 27,
   "metadata": {
    "collapsed": true
   },
   "outputs": [],
   "source": [
    "# train_X_0, train_Y_0,_ = resampling(train.T,99)\n",
    "# print(\"Training set have the shape of:\",(train_X_0.shape,train_Y_0.shape))"
   ]
  },
  {
   "cell_type": "markdown",
   "metadata": {},
   "source": [
    "**Sampling of the development set** <br>\n",
    "Loading from existing set (seed = 42), if possible"
   ]
  },
  {
   "cell_type": "code",
   "execution_count": 28,
   "metadata": {},
   "outputs": [
    {
     "name": "stdout",
     "output_type": "stream",
     "text": [
      "Loaded Development set have the shape of: ((40698, 1251), (40698, 5))\n"
     ]
    }
   ],
   "source": [
    "try:\n",
    "    # Try to load exisiting pickled file, (file not uploaded to github due to large size)\n",
    "    dev_X,dev_Y = pickle.load(open(\"dev.pkl\",'rb'))\n",
    "    open(\"dev.pkl\",'rb').close()\n",
    "    print(\"Loaded Development set have the shape of:\",(dev_X.shape,dev_Y.shape))\n",
    "except:\n",
    "    dev_X,dev_Y = dev_sampling(dev.T)\n",
    "    print(\"Reloaded Development set have the shape of:\",(dev_X.shape,dev_Y.shape))\n",
    "    filehandler = open(\"dev.pkl\",\"wb\")\n",
    "    pickle.dump((dev_X,dev_Y),filehandler)\n",
    "    filehandler.close()"
   ]
  },
  {
   "cell_type": "markdown",
   "metadata": {},
   "source": [
    "## IV. Initializing the Neural Network Model\n",
    "\n",
    "### 1. Preparation\n",
    "\n",
    "**A 3 layers neural network with tensorflow framework was used for this challenge.**<br>\n",
    "<br>\n",
    "The layers are of following:<br>\n",
    "L-0: Input layer of 1251 features <br>\n",
    "L-1: A hidden layer of 250 features <br>\n",
    "L-2: A hidden layer of 50 features <br>\n",
    "L-3: A predicting layer of 5 features<br><br>\n",
    "<br>\n",
    "The pipline is Linear - Relu - Linear - Relu - Linear <br>\n",
    "Cost is measured by mean square error, same as required in the challenge<br>\n",
    "<br>\n",
    "Due to memory issue mentioned above, I train each sub training sample set for 30 epoches before resampling.<br>\n",
    "This is repeated for all 66 sub training sample set in the training set.\n",
    "\n",
    "__*I would like to thank and credit deeplearning.ai for providing me with a basic template for Neural Network and a few useful functions via their courses. *__"
   ]
  },
  {
   "cell_type": "code",
   "execution_count": 29,
   "metadata": {
    "collapsed": true
   },
   "outputs": [],
   "source": [
    "def create_placeholders(n_x,n_y):\n",
    "    '''\n",
    "    This function creates Tensorflow placeholders of correct dimensions\n",
    "    '''\n",
    "    X = tf.placeholder(tf.float32, [None,n_x], name=\"X\")\n",
    "    Y = tf.placeholder(tf.float32, [None,n_y], name=\"Y\")\n",
    "    \n",
    "    return X, Y"
   ]
  },
  {
   "cell_type": "code",
   "execution_count": 30,
   "metadata": {},
   "outputs": [
    {
     "name": "stdout",
     "output_type": "stream",
     "text": [
      "X = Tensor(\"X:0\", shape=(?, 120), dtype=float32)\n",
      "Y = Tensor(\"Y:0\", shape=(?, 5), dtype=float32)\n"
     ]
    }
   ],
   "source": [
    "## For Testing and Debugging\n",
    "X, Y = create_placeholders(120, 5)\n",
    "print(\"X = \" + str(X))\n",
    "print(\"Y = \" + str(Y))"
   ]
  },
  {
   "cell_type": "code",
   "execution_count": 31,
   "metadata": {
    "collapsed": true
   },
   "outputs": [],
   "source": [
    "def initialize_parameters(n_x,n_y,parameters = None):\n",
    "    '''\n",
    "    This function initialized the 3 layers neural network with the correct dimensions.\n",
    "    Randoming the variables in the first time\n",
    "    Assigning the past parameter if given --> allowing transfer learning\n",
    "    '''\n",
    "    \n",
    "    if parameters != None:\n",
    "        \n",
    "        W1 = tf.get_variable(\"W1\", initializer = parameters['W1'])\n",
    "        b1 = tf.get_variable(\"b1\", initializer = parameters['b1'])\n",
    "        W2 = tf.get_variable(\"W2\", initializer = parameters['W2'])\n",
    "        b2 = tf.get_variable(\"b2\", initializer = parameters['b2'])\n",
    "        W3 = tf.get_variable(\"W3\", initializer = parameters['W3'])\n",
    "        b3 = tf.get_variable(\"b3\", initializer = parameters['b3'])\n",
    "        print(\"Past parameters updated\")\n",
    "    \n",
    "    else:\n",
    "        W1 = tf.get_variable(\"W1\", [n_x, 250], initializer = tf.contrib.layers.xavier_initializer())\n",
    "        b1 = tf.get_variable(\"b1\", [1],initializer = tf.zeros_initializer())\n",
    "        W2 = tf.get_variable(\"W2\", [250, 50], initializer = tf.contrib.layers.xavier_initializer())\n",
    "        b2 = tf.get_variable(\"b2\", [1], initializer = tf.zeros_initializer())\n",
    "        W3 = tf.get_variable(\"W3\", [50, n_y], initializer = tf.contrib.layers.xavier_initializer())\n",
    "        b3 = tf.get_variable(\"b3\", [1], initializer = tf.zeros_initializer())\n",
    "        \n",
    "    param = {\"W1\": W1,\n",
    "              \"b1\": b1,\n",
    "              \"W2\": W2,\n",
    "              \"b2\": b2,\n",
    "              \"W3\": W3,\n",
    "              \"b3\": b3}\n",
    "    \n",
    "    return param"
   ]
  },
  {
   "cell_type": "code",
   "execution_count": 32,
   "metadata": {},
   "outputs": [
    {
     "name": "stdout",
     "output_type": "stream",
     "text": [
      "\n",
      "WARNING: The TensorFlow contrib module will not be included in TensorFlow 2.0.\n",
      "For more information, please see:\n",
      "  * https://github.com/tensorflow/community/blob/master/rfcs/20180907-contrib-sunset.md\n",
      "  * https://github.com/tensorflow/addons\n",
      "If you depend on functionality not listed there, please file an issue.\n",
      "\n",
      "WARNING:tensorflow:From C:\\Users\\Coddy\\Anaconda3\\lib\\site-packages\\tensorflow\\python\\framework\\op_def_library.py:263: colocate_with (from tensorflow.python.framework.ops) is deprecated and will be removed in a future version.\n",
      "Instructions for updating:\n",
      "Colocations handled automatically by placer.\n",
      "W1 = <tf.Variable 'W1:0' shape=(1251, 250) dtype=float32_ref>\n",
      "b1 = <tf.Variable 'b1:0' shape=(1,) dtype=float32_ref>\n",
      "W2 = <tf.Variable 'W2:0' shape=(250, 50) dtype=float32_ref>\n",
      "b2 = <tf.Variable 'b2:0' shape=(1,) dtype=float32_ref>\n"
     ]
    }
   ],
   "source": [
    "## For Testing and Debugging \n",
    "tf.reset_default_graph()\n",
    "with tf.Session() as sess:\n",
    "    test_parameters = initialize_parameters(1251,5)\n",
    "    print(\"W1 = \" + str(test_parameters[\"W1\"]))\n",
    "    print(\"b1 = \" + str(test_parameters[\"b1\"]))\n",
    "    print(\"W2 = \" + str(test_parameters[\"W2\"]))\n",
    "    print(\"b2 = \" + str(test_parameters[\"b2\"]))"
   ]
  },
  {
   "cell_type": "code",
   "execution_count": 33,
   "metadata": {
    "collapsed": true
   },
   "outputs": [],
   "source": [
    "def forward_propagation(X, parameters):\n",
    "    '''\n",
    "    This function obtain coefficient of various parameters and use them to predict a final cost(Z3)\n",
    "    This process consists of  a linear function of X @ W1 + b1, @ being matrix multiplication,\n",
    "        followed by a retilinear activation function \n",
    "    '''\n",
    "    W1 = parameters['W1']\n",
    "    b1 = parameters['b1']\n",
    "    W2 = parameters['W2']\n",
    "    b2 = parameters['b2']\n",
    "    W3 = parameters['W3']\n",
    "    b3 = parameters['b3']\n",
    "    \n",
    "    #print(X)\n",
    "    Z1 = tf.add(tf.matmul(X,W1), b1)                      \n",
    "    A1 = tf.nn.relu(Z1)  \n",
    "    Z2 = tf.add(tf.matmul(A1,W2), b2)     \n",
    "    A2 = tf.nn.relu(Z2)    \n",
    "    Z3 = tf.add(tf.matmul(A2,W3), b3)  \n",
    "\n",
    "    return Z3"
   ]
  },
  {
   "cell_type": "code",
   "execution_count": 34,
   "metadata": {},
   "outputs": [
    {
     "name": "stdout",
     "output_type": "stream",
     "text": [
      "Z3 = Tensor(\"Add_2:0\", shape=(?, 5), dtype=float32)\n"
     ]
    }
   ],
   "source": [
    "## For Testing and Debugging \n",
    "tf.reset_default_graph()\n",
    "with tf.Session() as sess:\n",
    "    X, Y = create_placeholders(1251, 5)\n",
    "    parameters = initialize_parameters(1251,5)\n",
    "    Z3 = forward_propagation(X, parameters)\n",
    "    print(\"Z3 = \" + str(Z3))"
   ]
  },
  {
   "cell_type": "code",
   "execution_count": 35,
   "metadata": {
    "collapsed": true
   },
   "outputs": [],
   "source": [
    "def compute_cost(Z3, Y,parameters):\n",
    "    '''\n",
    "    This function compute the mean square error bewteen the 5 entries in predicted Z3 and the 5 entries in actual Y\n",
    "    '''\n",
    "    #print(Z3,Y)\n",
    "    m = Y.shape[1] \n",
    "    W1 = parameters[\"W1\"]\n",
    "    W2 = parameters[\"W2\"]    \n",
    "    W3 = parameters[\"W3\"]\n",
    "    \n",
    "    rmse_cost = tf.reduce_mean(tf.losses.mean_squared_error(predictions=Z3, labels=Y))\n",
    "    \n",
    "    # Loss function using L2 Regularization\n",
    "    regularizer = tf.nn.l2_loss(W1) + tf.nn.l2_loss(W2) + tf.nn.l2_loss(W3)\n",
    "\n",
    "    \n",
    "    # add cross_entropy_cost and L2_regularization_cost\n",
    "    cost = tf.reduce_mean(rmse_cost + 0.01 * regularizer)\n",
    "    \n",
    "    return cost"
   ]
  },
  {
   "cell_type": "code",
   "execution_count": 36,
   "metadata": {},
   "outputs": [
    {
     "name": "stdout",
     "output_type": "stream",
     "text": [
      "WARNING:tensorflow:From C:\\Users\\Coddy\\Anaconda3\\lib\\site-packages\\tensorflow\\python\\ops\\losses\\losses_impl.py:667: to_float (from tensorflow.python.ops.math_ops) is deprecated and will be removed in a future version.\n",
      "Instructions for updating:\n",
      "Use tf.cast instead.\n",
      "cost = Tensor(\"Mean_1:0\", shape=(), dtype=float32)\n"
     ]
    }
   ],
   "source": [
    "## For Testing and Debugging \n",
    "tf.reset_default_graph()\n",
    "with tf.Session() as sess:\n",
    "    X, Y = create_placeholders(1251, 5)\n",
    "    parameters = initialize_parameters(1251,5)\n",
    "    Z3 = forward_propagation(X, parameters)\n",
    "    cost = compute_cost(Z3, Y,parameters)\n",
    "    print(\"cost = \" + str(cost))"
   ]
  },
  {
   "cell_type": "markdown",
   "metadata": {},
   "source": [
    "**The below function **random_mini_batches() **is obtained from deeplearning.ai on 9th June 2019. unedited**<br>\n",
    "It is used to create random mini batches by shuffling."
   ]
  },
  {
   "cell_type": "code",
   "execution_count": 37,
   "metadata": {
    "collapsed": true
   },
   "outputs": [],
   "source": [
    "def random_mini_batches(X, Y, mini_batch_size = 64, seed = 0):\n",
    "    \"\"\"\n",
    "    Creates a list of random minibatches from (X, Y)\n",
    "    \n",
    "    Arguments:\n",
    "    X -- input data, of shape (input size, number of examples)\n",
    "    Y -- true \"label\" vector (containing 0 if cat, 1 if non-cat), of shape (1, number of examples)\n",
    "    mini_batch_size - size of the mini-batches, integer\n",
    "    seed -- this is only for the purpose of grading, so that you're \"random minibatches are the same as ours.\n",
    "    \n",
    "    Returns:\n",
    "    mini_batches -- list of synchronous (mini_batch_X, mini_batch_Y)\n",
    "    \"\"\"\n",
    "    \n",
    "    m = X.shape[0]                  # number of training examples\n",
    "    mini_batches = []\n",
    "    np.random.seed(seed)\n",
    "    \n",
    "    # Step 1: Shuffle (X, Y)\n",
    "    permutation = list(np.random.permutation(m))\n",
    "    shuffled_X = X[ permutation,:]\n",
    "    shuffled_Y = Y[permutation,:].reshape(m,(Y.shape[1]))\n",
    "\n",
    "    # Step 2: Partition (shuffled_X, shuffled_Y). Minus the end case.\n",
    "    num_complete_minibatches = math.floor(m/mini_batch_size) # number of mini batches of size mini_batch_size in your partitionning\n",
    "    for k in range(0, num_complete_minibatches):\n",
    "        mini_batch_X = shuffled_X[k * mini_batch_size : k * mini_batch_size + mini_batch_size,:]\n",
    "        mini_batch_Y = shuffled_Y[ k * mini_batch_size : k * mini_batch_size + mini_batch_size,:]\n",
    "        mini_batch = (mini_batch_X, mini_batch_Y)\n",
    "        mini_batches.append(mini_batch)\n",
    "    \n",
    "    # Handling the end case (last mini-batch < mini_batch_size)\n",
    "    if m % mini_batch_size != 0:\n",
    "        mini_batch_X = shuffled_X[ num_complete_minibatches * mini_batch_size : m,:]\n",
    "        mini_batch_Y = shuffled_Y[ num_complete_minibatches * mini_batch_size : m,:]\n",
    "        mini_batch = (mini_batch_X, mini_batch_Y)\n",
    "        mini_batches.append(mini_batch)\n",
    "    \n",
    "    return mini_batches"
   ]
  },
  {
   "cell_type": "markdown",
   "metadata": {},
   "source": [
    "### 2. Model Training and Transfer Learning\n",
    "The below function initiates the tensorflow session and provide the possibility for transfer learning on previously trained parameters"
   ]
  },
  {
   "cell_type": "code",
   "execution_count": 38,
   "metadata": {
    "collapsed": true
   },
   "outputs": [],
   "source": [
    "def model(train,dev_X,dev_Y,iterations = 10,learning_rate = 0.0001, k = 0,\n",
    "          num_epochs = 30, batch_size = 64, print_cost = True,parameters = None,train_acc =None, dev_acc = None):\n",
    "    '''\n",
    "    Initiate the Tensorflow session and combine all previous functions.\n",
    "    Using an AdamOptizer to minimise the mean square error of the prediction\n",
    "    Allow transfer learning using previous parameters\n",
    "    return trained parameter, train and dev acc for plotting\n",
    "    '''\n",
    "    ops.reset_default_graph()\n",
    "    \n",
    "    r = 1\n",
    "    tf.set_random_seed(r)\n",
    "    seed = random.randint(1,1000)\n",
    "    \n",
    "    #Initial sampling of training data\n",
    "    # Try to load exisiting data (fast, ~5sec), else resample from train dataset (slow ~ 10min)\n",
    "    try:\n",
    "        train_X,train_Y,sample_list = pickle.load(open(\"./temp_training_set/train\"+str(k)+\".pkl\",'rb'))\n",
    "        open(\"./temp_training_set/train\"+str(k)+\".pkl\",'rb').close()\n",
    "        print(\"loaded exising dataset\")\n",
    "    except:\n",
    "        print(\"Resampling new dataset\")\n",
    "        train_X, train_Y, sample_list = resampling(train)  \n",
    "        filehandler = open(\"./temp_training_set/train\"+str(k)+\".pkl\",\"wb\")\n",
    "        pickle.dump((train_X,train_Y,sample_list),filehandler)\n",
    "        filehandler.close()\n",
    "        \n",
    "    (m,n_x) = train_X.shape                          # (n_x: input size, m : number of examples in the train set)\n",
    "    n_y = train_Y.shape[1]                            # n_y : output size\n",
    "    costs = []                                        # To keep track of the cost\n",
    "    if dev_acc == None:\n",
    "        dev_acc = []                                          # To keep track of dev accuracy\n",
    "    if train_acc == None:\n",
    "        train_acc = []                                     # To keep track of train accuracy\n",
    "    \n",
    "    ## Setting various pipeline functions\n",
    "    X, Y = create_placeholders(n_x, n_y)              #Create placeholder\n",
    "\n",
    "    param = initialize_parameters(n_x,n_y,parameters)     #Randomise the first set of parameters with the correct dimension\n",
    "\n",
    "    Z3 = forward_propagation(X, param)           #Calculate Z3 using lin-relu-lin-relu-lin\n",
    "    \n",
    "    cost = compute_cost(Z3, Y,param)                        #Compute the cost of this iteration\n",
    "   \n",
    "    optimizer = tf.train.AdamOptimizer(learning_rate=learning_rate).minimize(cost) # Use an Adam Optimatizer for the cost\n",
    "    \n",
    "    init = tf.global_variables_initializer()        \n",
    "\n",
    "    #Start the tensorflow Session\n",
    "    with tf.Session() as sess:\n",
    "\n",
    "        sess.run(init)\n",
    "        \n",
    "        # Looping for each resampling session\n",
    "        for i in range(iterations):\n",
    "            print(\"Iteration\",k)\n",
    "            k += 1\n",
    "            for epoch in tqdm_notebook(range(num_epochs)):\n",
    "\n",
    "                epoch_cost = 0.                       # Defines a cost related to an epoch\n",
    "                num_minibatches = int(m / batch_size)\n",
    "\n",
    "                seed = seed + 1\n",
    "                minibatches = random_mini_batches(train_X,train_Y, batch_size, seed)\n",
    "                \n",
    "                \n",
    "                # looping through minibatches\n",
    "                for minibatch in minibatches:\n",
    "\n",
    "                    # Select a minibatch\n",
    "                    (minibatch_X, minibatch_Y) = minibatch\n",
    "\n",
    "                    _ , minibatch_cost = sess.run([optimizer, cost], feed_dict={X: minibatch_X, Y: minibatch_Y})\n",
    "\n",
    "                    epoch_cost += minibatch_cost / num_minibatches\n",
    "\n",
    "\n",
    "                # Print the cost every 10 epoches in the resampling frame\n",
    "                if print_cost == True and epoch % 10 == 0:\n",
    "                    print (\"Cost after epoch %i: %f\" % (epoch, epoch_cost))\n",
    "                if print_cost == True and epoch % 5 == 0:\n",
    "                    costs.append(epoch_cost)\n",
    "                    \n",
    "            \n",
    "            # Caculate the error            \n",
    "            rmse = tf.reduce_mean(tf.losses.mean_squared_error(predictions=Z3, labels=Y))\n",
    "            dev_acc.append(rmse.eval({X:dev_X, Y: dev_Y}))\n",
    "            train_acc.append(rmse.eval({X:train_X, Y: train_Y}))\n",
    "            print(\"Training error: {:.6f}\".format(rmse.eval({X:train_X, Y: train_Y})))\n",
    "            print(\"Validation error: {:.6f}\".format(rmse.eval({X:dev_X, Y: dev_Y})))\n",
    "            \n",
    "            \n",
    "            #Drop the trained column and resample the training set after finishing the last epoch\n",
    "            train = train.drop(sample_list,axis=1)  \n",
    "            \n",
    "            if i < iterations-1:\n",
    "                # Try to load exisiting data (fast, ~5sec), else resample from train dataset (slow ~ 10min)\n",
    "                try:\n",
    "                    train_X,train_Y,sample_list = pickle.load(open(\"./temp_training_set/train\"+str(k)+\".pkl\",'rb'))\n",
    "                    open(\"./temp_training_set/train\"+str(k)+\".pkl\",'rb').close()\n",
    "                    print(\"loaded exising dataset\")\n",
    "                except:\n",
    "                    print(\"Resampling new dataset\")\n",
    "                    train_X, train_Y, sample_list = resampling(train)  \n",
    "                    filehandler = open(\"./temp_training_set/train\"+str(k)+\".pkl\",\"wb\")\n",
    "                    pickle.dump((train_X,train_Y,sample_list),filehandler)\n",
    "                    filehandler.close()\n",
    "  \n",
    "\n",
    "        plt.plot(np.squeeze(costs))\n",
    "        plt.ylabel('cost')\n",
    "        #plt.ylim(0, 0.002) \n",
    "        plt.xlabel('iterations (per tens)')\n",
    "        plt.title(\"Learning rate =\" + str(learning_rate) + \"\\nResampling Iterations =\" + str(iterations))\n",
    "        plt.show()\n",
    "\n",
    "        # lets save the parameters in a variable\n",
    "        parameters = sess.run(param)\n",
    "        print(\"Parameters have been trained!\")\n",
    "        \n",
    "        \n",
    "        # save pkl\n",
    "        print(\"Saving parameters\")\n",
    "        filehandler = open(\"training_parameters.pkl\",\"wb\")\n",
    "        pickle.dump((parameters,train_acc,dev_acc,train,k),filehandler)\n",
    "        filehandler.close()\n",
    "        print(\"pkl saved\")\n",
    "        \n",
    "        # return variable to continue next sampling frame\n",
    "        return parameters, train_acc,dev_acc,train,k"
   ]
  },
  {
   "cell_type": "markdown",
   "metadata": {},
   "source": [
    "# V Model Training\n",
    "### 1. Initial Training and processing\n",
    "Slow, took roughly 16 hrs for 66 iterations through the entire training dataset\n",
    "#### Loading past trained data\n",
    "Try to load any past trained data using pickle<br>\n",
    "If no past trained data is found, initiate a new neural network and train from scratch\n",
    "#### Calling the function model()\n",
    "Calling without the 'parameters' argument initiate the neural network via randoming weights<br>\n",
    "Calling with the 'parameters' argument being past trained parameters allow the network to continue tuning on previously trained parameters."
   ]
  },
  {
   "cell_type": "code",
   "execution_count": 39,
   "metadata": {},
   "outputs": [
    {
     "data": {
      "text/plain": [
       "'\\n\\ntry:\\n    parameters,train_acc,dev_acc,train,k  = pickle.load(open(\"training_parameters.pkl\",\\'rb\\'))\\n    print(\"Parameters loaded\")\\nexcept:\\n    print(\"Restarting training from the beginning\")\\n    parameters,train_acc,dev_acc,train,k = model(train.T,dev_X,dev_Y,iterations= 1)\\n    \\n## Training\\nparameters,train_acc,dev_acc,train,k = model(train,dev_X,dev_Y,iterations= 66,\\n                                                    parameters = parameters,k=k,\\n                                                    train_acc=train_acc,dev_acc=dev_acc)\\n                                \\n'"
      ]
     },
     "execution_count": 39,
     "metadata": {},
     "output_type": "execute_result"
    }
   ],
   "source": [
    "## Initial training\n",
    "'''\n",
    "Slow due to the need for processing each training set.\n",
    "However the training set is pickled for future epoch. \n",
    "The first iteration through the entire training dataset of 1315 geohash took roughly 16hrs.\n",
    "'''\n",
    "\n",
    "### Loading or Retrain \n",
    "# Code for first iteration\n",
    "'''\n",
    "\n",
    "try:\n",
    "    parameters,train_acc,dev_acc,train,k  = pickle.load(open(\"training_parameters.pkl\",'rb'))\n",
    "    print(\"Parameters loaded\")\n",
    "except:\n",
    "    print(\"Restarting training from the beginning\")\n",
    "    parameters,train_acc,dev_acc,train,k = model(train.T,dev_X,dev_Y,iterations= 1)\n",
    "    \n",
    "## Training\n",
    "parameters,train_acc,dev_acc,train,k = model(train,dev_X,dev_Y,iterations= 66,\n",
    "                                                    parameters = parameters,k=k,\n",
    "                                                    train_acc=train_acc,dev_acc=dev_acc)\n",
    "                                \n",
    "'''"
   ]
  },
  {
   "cell_type": "markdown",
   "metadata": {},
   "source": [
    "### 2. Retraining the parameters.\n",
    "#### Iterate over each of the 66 sub training set\n",
    "Fast, about 2 min per sub training set, or roughly 2 hr per training session"
   ]
  },
  {
   "cell_type": "code",
   "execution_count": 47,
   "metadata": {},
   "outputs": [
    {
     "name": "stdout",
     "output_type": "stream",
     "text": [
      "Parameters loaded\n",
      "Training Session 1\n",
      "loaded exising dataset\n",
      "Past parameters updated\n",
      "Iteration 0\n"
     ]
    },
    {
     "data": {
      "application/vnd.jupyter.widget-view+json": {
       "model_id": "c0fb2c813e4943a9a677a09f4d3d384d",
       "version_major": 2,
       "version_minor": 0
      },
      "text/plain": [
       "A Jupyter Widget"
      ]
     },
     "metadata": {},
     "output_type": "display_data"
    },
    {
     "name": "stdout",
     "output_type": "stream",
     "text": [
      "Cost after epoch 0: 0.009669\n",
      "Cost after epoch 10: 0.009371\n",
      "Cost after epoch 20: 0.009374\n",
      "Training error: 0.005053\n",
      "Validation error: 0.004222\n",
      "loaded exising dataset\n",
      "Iteration 1\n"
     ]
    },
    {
     "data": {
      "application/vnd.jupyter.widget-view+json": {
       "model_id": "b41126bfbf2a48d0802597f773861f9e",
       "version_major": 2,
       "version_minor": 0
      },
      "text/plain": [
       "A Jupyter Widget"
      ]
     },
     "metadata": {},
     "output_type": "display_data"
    },
    {
     "name": "stdout",
     "output_type": "stream",
     "text": [
      "Cost after epoch 0: 0.006209\n",
      "Cost after epoch 10: 0.005753\n",
      "Cost after epoch 20: 0.005751\n",
      "Training error: 0.002795\n",
      "Validation error: 0.009660\n",
      "loaded exising dataset\n",
      "Iteration 2\n"
     ]
    },
    {
     "data": {
      "application/vnd.jupyter.widget-view+json": {
       "model_id": "728b652be1504947a40cba4080f78c00",
       "version_major": 2,
       "version_minor": 0
      },
      "text/plain": [
       "A Jupyter Widget"
      ]
     },
     "metadata": {},
     "output_type": "display_data"
    },
    {
     "name": "stdout",
     "output_type": "stream",
     "text": [
      "Cost after epoch 0: 0.004118\n",
      "Cost after epoch 10: 0.004115\n",
      "Cost after epoch 20: 0.004117\n",
      "Training error: 0.002123\n",
      "Validation error: 0.009784\n",
      "loaded exising dataset\n",
      "Iteration 3\n"
     ]
    },
    {
     "data": {
      "application/vnd.jupyter.widget-view+json": {
       "model_id": "3225778ad98c41e189f10f46bc30003b",
       "version_major": 2,
       "version_minor": 0
      },
      "text/plain": [
       "A Jupyter Widget"
      ]
     },
     "metadata": {},
     "output_type": "display_data"
    },
    {
     "name": "stdout",
     "output_type": "stream",
     "text": [
      "Cost after epoch 0: 0.004088\n",
      "Cost after epoch 10: 0.004086\n",
      "Cost after epoch 20: 0.004084\n",
      "Training error: 0.002467\n",
      "Validation error: 0.009687\n",
      "loaded exising dataset\n",
      "Iteration 4\n"
     ]
    },
    {
     "data": {
      "application/vnd.jupyter.widget-view+json": {
       "model_id": "cebb9fb8447d4cac9434080e2751cd39",
       "version_major": 2,
       "version_minor": 0
      },
      "text/plain": [
       "A Jupyter Widget"
      ]
     },
     "metadata": {},
     "output_type": "display_data"
    },
    {
     "name": "stdout",
     "output_type": "stream",
     "text": [
      "Cost after epoch 0: 0.006235\n",
      "Cost after epoch 10: 0.006092\n",
      "Cost after epoch 20: 0.006099\n",
      "Training error: 0.003024\n",
      "Validation error: 0.004999\n",
      "loaded exising dataset\n",
      "Iteration 5\n"
     ]
    },
    {
     "data": {
      "application/vnd.jupyter.widget-view+json": {
       "model_id": "984a0b7c79c84ab2928b26b7761ce7a2",
       "version_major": 2,
       "version_minor": 0
      },
      "text/plain": [
       "A Jupyter Widget"
      ]
     },
     "metadata": {},
     "output_type": "display_data"
    },
    {
     "name": "stdout",
     "output_type": "stream",
     "text": [
      "Cost after epoch 0: 0.006626\n",
      "Cost after epoch 10: 0.006596\n",
      "Cost after epoch 20: 0.006591\n",
      "Training error: 0.003456\n",
      "Validation error: 0.004646\n",
      "loaded exising dataset\n",
      "Iteration 6\n"
     ]
    },
    {
     "data": {
      "application/vnd.jupyter.widget-view+json": {
       "model_id": "b31ca67cb13048c1bf658dac360b80e3",
       "version_major": 2,
       "version_minor": 0
      },
      "text/plain": [
       "A Jupyter Widget"
      ]
     },
     "metadata": {},
     "output_type": "display_data"
    },
    {
     "name": "stdout",
     "output_type": "stream",
     "text": [
      "Cost after epoch 0: 0.007083\n",
      "Cost after epoch 10: 0.006996\n",
      "Cost after epoch 20: 0.006989\n",
      "Training error: 0.004106\n",
      "Validation error: 0.004561\n",
      "loaded exising dataset\n",
      "Iteration 7\n"
     ]
    },
    {
     "data": {
      "application/vnd.jupyter.widget-view+json": {
       "model_id": "12baca94a7d44a6d873382be396f7a64",
       "version_major": 2,
       "version_minor": 0
      },
      "text/plain": [
       "A Jupyter Widget"
      ]
     },
     "metadata": {},
     "output_type": "display_data"
    },
    {
     "name": "stdout",
     "output_type": "stream",
     "text": [
      "Cost after epoch 0: 0.005299\n",
      "Cost after epoch 10: 0.005147\n",
      "Cost after epoch 20: 0.005149\n",
      "Training error: 0.002467\n",
      "Validation error: 0.005241\n",
      "loaded exising dataset\n",
      "Iteration 8\n"
     ]
    },
    {
     "data": {
      "application/vnd.jupyter.widget-view+json": {
       "model_id": "0fe617007fbb4bd79635590445636096",
       "version_major": 2,
       "version_minor": 0
      },
      "text/plain": [
       "A Jupyter Widget"
      ]
     },
     "metadata": {},
     "output_type": "display_data"
    },
    {
     "name": "stdout",
     "output_type": "stream",
     "text": [
      "Cost after epoch 0: 0.006714\n",
      "Cost after epoch 10: 0.006633\n",
      "Cost after epoch 20: 0.006628\n",
      "Training error: 0.003642\n",
      "Validation error: 0.004626\n",
      "loaded exising dataset\n",
      "Iteration 9\n"
     ]
    },
    {
     "data": {
      "application/vnd.jupyter.widget-view+json": {
       "model_id": "1529b82237274b179e49439afdcbe264",
       "version_major": 2,
       "version_minor": 0
      },
      "text/plain": [
       "A Jupyter Widget"
      ]
     },
     "metadata": {},
     "output_type": "display_data"
    },
    {
     "name": "stdout",
     "output_type": "stream",
     "text": [
      "Cost after epoch 0: 0.007644\n",
      "Cost after epoch 10: 0.007514\n",
      "Cost after epoch 20: 0.007512\n",
      "Training error: 0.005209\n",
      "Validation error: 0.004091\n",
      "loaded exising dataset\n",
      "Iteration 10\n"
     ]
    },
    {
     "data": {
      "application/vnd.jupyter.widget-view+json": {
       "model_id": "59be7fbff42b4019b1dce10204021b4c",
       "version_major": 2,
       "version_minor": 0
      },
      "text/plain": [
       "A Jupyter Widget"
      ]
     },
     "metadata": {},
     "output_type": "display_data"
    },
    {
     "name": "stdout",
     "output_type": "stream",
     "text": [
      "Cost after epoch 0: 0.007705\n",
      "Cost after epoch 10: 0.007588\n",
      "Cost after epoch 20: 0.007584\n",
      "Training error: 0.004256\n",
      "Validation error: 0.004825\n",
      "loaded exising dataset\n",
      "Iteration 11\n"
     ]
    },
    {
     "data": {
      "application/vnd.jupyter.widget-view+json": {
       "model_id": "19935a097e544fafa3201cf9615fd4db",
       "version_major": 2,
       "version_minor": 0
      },
      "text/plain": [
       "A Jupyter Widget"
      ]
     },
     "metadata": {},
     "output_type": "display_data"
    },
    {
     "name": "stdout",
     "output_type": "stream",
     "text": [
      "Cost after epoch 0: 0.007359\n",
      "Cost after epoch 10: 0.007331\n",
      "Cost after epoch 20: 0.007333\n",
      "Training error: 0.003411\n",
      "Validation error: 0.004808\n",
      "loaded exising dataset\n",
      "Iteration 12\n"
     ]
    },
    {
     "data": {
      "application/vnd.jupyter.widget-view+json": {
       "model_id": "07a67010906549c198c77c3f974c0050",
       "version_major": 2,
       "version_minor": 0
      },
      "text/plain": [
       "A Jupyter Widget"
      ]
     },
     "metadata": {},
     "output_type": "display_data"
    },
    {
     "name": "stdout",
     "output_type": "stream",
     "text": [
      "Cost after epoch 0: 0.007141\n",
      "Cost after epoch 10: 0.007082\n",
      "Cost after epoch 20: 0.007079\n",
      "Training error: 0.003856\n",
      "Validation error: 0.004654\n",
      "loaded exising dataset\n",
      "Iteration 13\n"
     ]
    },
    {
     "data": {
      "application/vnd.jupyter.widget-view+json": {
       "model_id": "5d89c12f84904cd58e9463c16b406a3a",
       "version_major": 2,
       "version_minor": 0
      },
      "text/plain": [
       "A Jupyter Widget"
      ]
     },
     "metadata": {},
     "output_type": "display_data"
    },
    {
     "name": "stdout",
     "output_type": "stream",
     "text": [
      "Cost after epoch 0: 0.007718\n",
      "Cost after epoch 10: 0.007696\n",
      "Cost after epoch 20: 0.007702\n",
      "Training error: 0.004259\n",
      "Validation error: 0.005149\n",
      "loaded exising dataset\n",
      "Iteration 14\n"
     ]
    },
    {
     "data": {
      "application/vnd.jupyter.widget-view+json": {
       "model_id": "daef3f63053a4e0cb15ae5d3325037b3",
       "version_major": 2,
       "version_minor": 0
      },
      "text/plain": [
       "A Jupyter Widget"
      ]
     },
     "metadata": {},
     "output_type": "display_data"
    },
    {
     "name": "stdout",
     "output_type": "stream",
     "text": [
      "Cost after epoch 0: 0.008262\n",
      "Cost after epoch 10: 0.008143\n",
      "Cost after epoch 20: 0.008151\n",
      "Training error: 0.004316\n",
      "Validation error: 0.004364\n",
      "loaded exising dataset\n",
      "Iteration 15\n"
     ]
    },
    {
     "data": {
      "application/vnd.jupyter.widget-view+json": {
       "model_id": "ad53f2c1308f4db6b1d16d57e1ae02b0",
       "version_major": 2,
       "version_minor": 0
      },
      "text/plain": [
       "A Jupyter Widget"
      ]
     },
     "metadata": {},
     "output_type": "display_data"
    },
    {
     "name": "stdout",
     "output_type": "stream",
     "text": [
      "Cost after epoch 0: 0.008480\n",
      "Cost after epoch 10: 0.008115\n",
      "Cost after epoch 20: 0.008128\n",
      "Training error: 0.006148\n",
      "Validation error: 0.003549\n",
      "loaded exising dataset\n",
      "Iteration 16\n"
     ]
    },
    {
     "data": {
      "application/vnd.jupyter.widget-view+json": {
       "model_id": "b4b547fac1b24e0d8dad7170e13287c1",
       "version_major": 2,
       "version_minor": 0
      },
      "text/plain": [
       "A Jupyter Widget"
      ]
     },
     "metadata": {},
     "output_type": "display_data"
    },
    {
     "name": "stdout",
     "output_type": "stream",
     "text": [
      "Cost after epoch 0: 0.005083\n",
      "Cost after epoch 10: 0.004180\n",
      "Cost after epoch 20: 0.004178\n",
      "Training error: 0.002676\n",
      "Validation error: 0.010111\n",
      "loaded exising dataset\n",
      "Iteration 17\n"
     ]
    },
    {
     "data": {
      "application/vnd.jupyter.widget-view+json": {
       "model_id": "1cbc1859be19430bb29b94bee5b15198",
       "version_major": 2,
       "version_minor": 0
      },
      "text/plain": [
       "A Jupyter Widget"
      ]
     },
     "metadata": {},
     "output_type": "display_data"
    },
    {
     "name": "stdout",
     "output_type": "stream",
     "text": [
      "Cost after epoch 0: 0.004066\n",
      "Cost after epoch 10: 0.004041\n",
      "Cost after epoch 20: 0.004042\n",
      "Training error: 0.002760\n",
      "Validation error: 0.005803\n",
      "loaded exising dataset\n",
      "Iteration 18\n"
     ]
    },
    {
     "data": {
      "application/vnd.jupyter.widget-view+json": {
       "model_id": "8380e3c7bf184337a27ed9f08e726e67",
       "version_major": 2,
       "version_minor": 0
      },
      "text/plain": [
       "A Jupyter Widget"
      ]
     },
     "metadata": {},
     "output_type": "display_data"
    },
    {
     "name": "stdout",
     "output_type": "stream",
     "text": [
      "Cost after epoch 0: 0.004674\n",
      "Cost after epoch 10: 0.004672\n",
      "Cost after epoch 20: 0.004675\n",
      "Training error: 0.002685\n",
      "Validation error: 0.006413\n",
      "loaded exising dataset\n",
      "Iteration 19\n"
     ]
    },
    {
     "data": {
      "application/vnd.jupyter.widget-view+json": {
       "model_id": "caf5af502df34b1db97444e00e958d71",
       "version_major": 2,
       "version_minor": 0
      },
      "text/plain": [
       "A Jupyter Widget"
      ]
     },
     "metadata": {},
     "output_type": "display_data"
    },
    {
     "name": "stdout",
     "output_type": "stream",
     "text": [
      "Cost after epoch 0: 0.005400\n",
      "Cost after epoch 10: 0.005388\n",
      "Cost after epoch 20: 0.005390\n",
      "Training error: 0.002718\n",
      "Validation error: 0.006712\n",
      "loaded exising dataset\n",
      "Iteration 20\n"
     ]
    },
    {
     "data": {
      "application/vnd.jupyter.widget-view+json": {
       "model_id": "9a6083ff009740a69f3a44141a05cbce",
       "version_major": 2,
       "version_minor": 0
      },
      "text/plain": [
       "A Jupyter Widget"
      ]
     },
     "metadata": {},
     "output_type": "display_data"
    },
    {
     "name": "stdout",
     "output_type": "stream",
     "text": [
      "Cost after epoch 0: 0.003423\n",
      "Cost after epoch 10: 0.003282\n",
      "Cost after epoch 20: 0.003282\n",
      "Training error: 0.002302\n",
      "Validation error: 0.027040\n",
      "loaded exising dataset\n",
      "Iteration 21\n"
     ]
    },
    {
     "data": {
      "application/vnd.jupyter.widget-view+json": {
       "model_id": "818f59114a8343fb9a2b8748ae546797",
       "version_major": 2,
       "version_minor": 0
      },
      "text/plain": [
       "A Jupyter Widget"
      ]
     },
     "metadata": {},
     "output_type": "display_data"
    },
    {
     "name": "stdout",
     "output_type": "stream",
     "text": [
      "Cost after epoch 0: 0.004794\n",
      "Cost after epoch 10: 0.004566\n",
      "Cost after epoch 20: 0.004566\n",
      "Training error: 0.002314\n",
      "Validation error: 0.005587\n",
      "loaded exising dataset\n",
      "Iteration 22\n"
     ]
    },
    {
     "data": {
      "application/vnd.jupyter.widget-view+json": {
       "model_id": "e12f3308a5414bbbb7ce28ed2ce1564c",
       "version_major": 2,
       "version_minor": 0
      },
      "text/plain": [
       "A Jupyter Widget"
      ]
     },
     "metadata": {},
     "output_type": "display_data"
    },
    {
     "name": "stdout",
     "output_type": "stream",
     "text": [
      "Cost after epoch 0: 0.006532\n",
      "Cost after epoch 10: 0.006533\n",
      "Cost after epoch 20: 0.006528\n",
      "Training error: 0.003281\n",
      "Validation error: 0.006103\n",
      "loaded exising dataset\n",
      "Iteration 23\n"
     ]
    },
    {
     "data": {
      "application/vnd.jupyter.widget-view+json": {
       "model_id": "4e036ab5f9b34e1f806c0f2234834ce8",
       "version_major": 2,
       "version_minor": 0
      },
      "text/plain": [
       "A Jupyter Widget"
      ]
     },
     "metadata": {},
     "output_type": "display_data"
    },
    {
     "name": "stdout",
     "output_type": "stream",
     "text": [
      "Cost after epoch 0: 0.006032\n",
      "Cost after epoch 10: 0.006009\n",
      "Cost after epoch 20: 0.006011\n",
      "Training error: 0.003334\n",
      "Validation error: 0.005518\n",
      "loaded exising dataset\n",
      "Iteration 24\n"
     ]
    },
    {
     "data": {
      "application/vnd.jupyter.widget-view+json": {
       "model_id": "b37976f5fcc74fab87b38c5295ccc01e",
       "version_major": 2,
       "version_minor": 0
      },
      "text/plain": [
       "A Jupyter Widget"
      ]
     },
     "metadata": {},
     "output_type": "display_data"
    },
    {
     "name": "stdout",
     "output_type": "stream",
     "text": [
      "Cost after epoch 0: 0.010565\n",
      "Cost after epoch 10: 0.010153\n",
      "Cost after epoch 20: 0.010156\n",
      "Training error: 0.004915\n",
      "Validation error: 0.004146\n",
      "loaded exising dataset\n",
      "Iteration 25\n"
     ]
    },
    {
     "data": {
      "application/vnd.jupyter.widget-view+json": {
       "model_id": "53a08559c135435b96beb8dc5e469bce",
       "version_major": 2,
       "version_minor": 0
      },
      "text/plain": [
       "A Jupyter Widget"
      ]
     },
     "metadata": {},
     "output_type": "display_data"
    },
    {
     "name": "stdout",
     "output_type": "stream",
     "text": [
      "Cost after epoch 0: 0.007370\n",
      "Cost after epoch 10: 0.007134\n",
      "Cost after epoch 20: 0.007137\n",
      "Training error: 0.004250\n",
      "Validation error: 0.004496\n",
      "loaded exising dataset\n",
      "Iteration 26\n"
     ]
    },
    {
     "data": {
      "application/vnd.jupyter.widget-view+json": {
       "model_id": "25a975a48cf64db3b07dad447d8915ee",
       "version_major": 2,
       "version_minor": 0
      },
      "text/plain": [
       "A Jupyter Widget"
      ]
     },
     "metadata": {},
     "output_type": "display_data"
    },
    {
     "name": "stdout",
     "output_type": "stream",
     "text": [
      "Cost after epoch 0: 0.006236\n",
      "Cost after epoch 10: 0.006177\n",
      "Cost after epoch 20: 0.006171\n",
      "Training error: 0.003707\n",
      "Validation error: 0.004437\n",
      "loaded exising dataset\n",
      "Iteration 27\n"
     ]
    },
    {
     "data": {
      "application/vnd.jupyter.widget-view+json": {
       "model_id": "ff0725f4f8a34c6dad58020a7e28a4e3",
       "version_major": 2,
       "version_minor": 0
      },
      "text/plain": [
       "A Jupyter Widget"
      ]
     },
     "metadata": {},
     "output_type": "display_data"
    },
    {
     "name": "stdout",
     "output_type": "stream",
     "text": [
      "Cost after epoch 0: 0.004558\n",
      "Cost after epoch 10: 0.004368\n",
      "Cost after epoch 20: 0.004370\n",
      "Training error: 0.003243\n",
      "Validation error: 0.005625\n",
      "loaded exising dataset\n",
      "Iteration 28\n"
     ]
    },
    {
     "data": {
      "application/vnd.jupyter.widget-view+json": {
       "model_id": "d036e41b2e0b432d8c698861cb7396ef",
       "version_major": 2,
       "version_minor": 0
      },
      "text/plain": [
       "A Jupyter Widget"
      ]
     },
     "metadata": {},
     "output_type": "display_data"
    },
    {
     "name": "stdout",
     "output_type": "stream",
     "text": [
      "Cost after epoch 0: 0.004367\n",
      "Cost after epoch 10: 0.004356\n",
      "Cost after epoch 20: 0.004357\n",
      "Training error: 0.002794\n",
      "Validation error: 0.007277\n",
      "loaded exising dataset\n",
      "Iteration 29\n"
     ]
    },
    {
     "data": {
      "application/vnd.jupyter.widget-view+json": {
       "model_id": "a39dc8ca4bc845d883f2b7437d97467a",
       "version_major": 2,
       "version_minor": 0
      },
      "text/plain": [
       "A Jupyter Widget"
      ]
     },
     "metadata": {},
     "output_type": "display_data"
    },
    {
     "name": "stdout",
     "output_type": "stream",
     "text": [
      "Cost after epoch 0: 0.007690\n",
      "Cost after epoch 10: 0.007490\n",
      "Cost after epoch 20: 0.007485\n",
      "Training error: 0.003869\n",
      "Validation error: 0.004421\n",
      "loaded exising dataset\n",
      "Iteration 30\n"
     ]
    },
    {
     "data": {
      "application/vnd.jupyter.widget-view+json": {
       "model_id": "2a986ea75c6f422fa6cfcc44d402613a",
       "version_major": 2,
       "version_minor": 0
      },
      "text/plain": [
       "A Jupyter Widget"
      ]
     },
     "metadata": {},
     "output_type": "display_data"
    },
    {
     "name": "stdout",
     "output_type": "stream",
     "text": [
      "Cost after epoch 0: 0.004984\n",
      "Cost after epoch 10: 0.004830\n",
      "Cost after epoch 20: 0.004827\n",
      "Training error: 0.003146\n",
      "Validation error: 0.005762\n",
      "loaded exising dataset\n",
      "Iteration 31\n"
     ]
    },
    {
     "data": {
      "application/vnd.jupyter.widget-view+json": {
       "model_id": "7f9221f9ed3749ccbfb17dbdc506f0b6",
       "version_major": 2,
       "version_minor": 0
      },
      "text/plain": [
       "A Jupyter Widget"
      ]
     },
     "metadata": {},
     "output_type": "display_data"
    },
    {
     "name": "stdout",
     "output_type": "stream",
     "text": [
      "Cost after epoch 0: 0.005703\n",
      "Cost after epoch 10: 0.005704\n",
      "Cost after epoch 20: 0.005695\n",
      "Training error: 0.003093\n",
      "Validation error: 0.006829\n",
      "loaded exising dataset\n",
      "Iteration 32\n"
     ]
    },
    {
     "data": {
      "application/vnd.jupyter.widget-view+json": {
       "model_id": "1330425a1691476aa60e31a7361849aa",
       "version_major": 2,
       "version_minor": 0
      },
      "text/plain": [
       "A Jupyter Widget"
      ]
     },
     "metadata": {},
     "output_type": "display_data"
    },
    {
     "name": "stdout",
     "output_type": "stream",
     "text": [
      "Cost after epoch 0: 0.008399\n",
      "Cost after epoch 10: 0.008043\n",
      "Cost after epoch 20: 0.008033\n",
      "Training error: 0.004751\n",
      "Validation error: 0.003946\n",
      "loaded exising dataset\n",
      "Iteration 33\n"
     ]
    },
    {
     "data": {
      "application/vnd.jupyter.widget-view+json": {
       "model_id": "d97ba63dba7c42dfb9d8664be82eab10",
       "version_major": 2,
       "version_minor": 0
      },
      "text/plain": [
       "A Jupyter Widget"
      ]
     },
     "metadata": {},
     "output_type": "display_data"
    },
    {
     "name": "stdout",
     "output_type": "stream",
     "text": [
      "Cost after epoch 0: 0.005218\n",
      "Cost after epoch 10: 0.004654\n",
      "Cost after epoch 20: 0.004656\n",
      "Training error: 0.002424\n",
      "Validation error: 0.008026\n",
      "loaded exising dataset\n",
      "Iteration 34\n"
     ]
    },
    {
     "data": {
      "application/vnd.jupyter.widget-view+json": {
       "model_id": "622c8220402140879c96ba94f182cb90",
       "version_major": 2,
       "version_minor": 0
      },
      "text/plain": [
       "A Jupyter Widget"
      ]
     },
     "metadata": {},
     "output_type": "display_data"
    },
    {
     "name": "stdout",
     "output_type": "stream",
     "text": [
      "Cost after epoch 0: 0.007084\n",
      "Cost after epoch 10: 0.006913\n",
      "Cost after epoch 20: 0.006919\n",
      "Training error: 0.003579\n",
      "Validation error: 0.004953\n",
      "loaded exising dataset\n",
      "Iteration 35\n"
     ]
    },
    {
     "data": {
      "application/vnd.jupyter.widget-view+json": {
       "model_id": "c108221422d7489da577cfab82c075c5",
       "version_major": 2,
       "version_minor": 0
      },
      "text/plain": [
       "A Jupyter Widget"
      ]
     },
     "metadata": {},
     "output_type": "display_data"
    },
    {
     "name": "stdout",
     "output_type": "stream",
     "text": [
      "Cost after epoch 0: 0.004404\n",
      "Cost after epoch 10: 0.004142\n",
      "Cost after epoch 20: 0.004141\n",
      "Training error: 0.002118\n",
      "Validation error: 0.010404\n",
      "loaded exising dataset\n",
      "Iteration 36\n"
     ]
    },
    {
     "data": {
      "application/vnd.jupyter.widget-view+json": {
       "model_id": "2669c6f8ca6a419b96faeef1e516390c",
       "version_major": 2,
       "version_minor": 0
      },
      "text/plain": [
       "A Jupyter Widget"
      ]
     },
     "metadata": {},
     "output_type": "display_data"
    },
    {
     "name": "stdout",
     "output_type": "stream",
     "text": [
      "Cost after epoch 0: 0.009682\n",
      "Cost after epoch 10: 0.009534\n",
      "Cost after epoch 20: 0.009512\n",
      "Training error: 0.004318\n",
      "Validation error: 0.004624\n",
      "loaded exising dataset\n",
      "Iteration 37\n"
     ]
    },
    {
     "data": {
      "application/vnd.jupyter.widget-view+json": {
       "model_id": "7ed7b71624064483b4fe1dc1dc0e0ad1",
       "version_major": 2,
       "version_minor": 0
      },
      "text/plain": [
       "A Jupyter Widget"
      ]
     },
     "metadata": {},
     "output_type": "display_data"
    },
    {
     "name": "stdout",
     "output_type": "stream",
     "text": [
      "Cost after epoch 0: 0.005776\n",
      "Cost after epoch 10: 0.005712\n",
      "Cost after epoch 20: 0.005713\n",
      "Training error: 0.003383\n",
      "Validation error: 0.006923\n",
      "loaded exising dataset\n",
      "Iteration 38\n"
     ]
    },
    {
     "data": {
      "application/vnd.jupyter.widget-view+json": {
       "model_id": "9c226395d5bc436c9f700b56c55d88c7",
       "version_major": 2,
       "version_minor": 0
      },
      "text/plain": [
       "A Jupyter Widget"
      ]
     },
     "metadata": {},
     "output_type": "display_data"
    },
    {
     "name": "stdout",
     "output_type": "stream",
     "text": [
      "Cost after epoch 0: 0.005742\n",
      "Cost after epoch 10: 0.005661\n",
      "Cost after epoch 20: 0.005663\n",
      "Training error: 0.003991\n",
      "Validation error: 0.004552\n",
      "loaded exising dataset\n",
      "Iteration 39\n"
     ]
    },
    {
     "data": {
      "application/vnd.jupyter.widget-view+json": {
       "model_id": "2d24160dc5224b3cb99efcf76571a642",
       "version_major": 2,
       "version_minor": 0
      },
      "text/plain": [
       "A Jupyter Widget"
      ]
     },
     "metadata": {},
     "output_type": "display_data"
    },
    {
     "name": "stdout",
     "output_type": "stream",
     "text": [
      "Cost after epoch 0: 0.006544\n",
      "Cost after epoch 10: 0.006289\n",
      "Cost after epoch 20: 0.006295\n",
      "Training error: 0.003305\n",
      "Validation error: 0.004483\n",
      "loaded exising dataset\n",
      "Iteration 40\n"
     ]
    },
    {
     "data": {
      "application/vnd.jupyter.widget-view+json": {
       "model_id": "2f8c862f9d7c42b7834ce78ab5b8c539",
       "version_major": 2,
       "version_minor": 0
      },
      "text/plain": [
       "A Jupyter Widget"
      ]
     },
     "metadata": {},
     "output_type": "display_data"
    },
    {
     "name": "stdout",
     "output_type": "stream",
     "text": [
      "Cost after epoch 0: 0.006737\n",
      "Cost after epoch 10: 0.006075\n",
      "Cost after epoch 20: 0.006074\n",
      "Training error: 0.002795\n",
      "Validation error: 0.015158\n",
      "loaded exising dataset\n",
      "Iteration 41\n"
     ]
    },
    {
     "data": {
      "application/vnd.jupyter.widget-view+json": {
       "model_id": "c6f54917447f43b3893d1d414fcabb86",
       "version_major": 2,
       "version_minor": 0
      },
      "text/plain": [
       "A Jupyter Widget"
      ]
     },
     "metadata": {},
     "output_type": "display_data"
    },
    {
     "name": "stdout",
     "output_type": "stream",
     "text": [
      "Cost after epoch 0: 0.006664\n",
      "Cost after epoch 10: 0.006497\n",
      "Cost after epoch 20: 0.006496\n",
      "Training error: 0.003582\n",
      "Validation error: 0.005121\n",
      "loaded exising dataset\n",
      "Iteration 42\n"
     ]
    },
    {
     "data": {
      "application/vnd.jupyter.widget-view+json": {
       "model_id": "446085a78f91411c889eaa4faebddc91",
       "version_major": 2,
       "version_minor": 0
      },
      "text/plain": [
       "A Jupyter Widget"
      ]
     },
     "metadata": {},
     "output_type": "display_data"
    },
    {
     "name": "stdout",
     "output_type": "stream",
     "text": [
      "Cost after epoch 0: 0.004575\n",
      "Cost after epoch 10: 0.004489\n",
      "Cost after epoch 20: 0.004488\n",
      "Training error: 0.002443\n",
      "Validation error: 0.008028\n",
      "loaded exising dataset\n",
      "Iteration 43\n"
     ]
    },
    {
     "data": {
      "application/vnd.jupyter.widget-view+json": {
       "model_id": "6b595564f0fc4182b353aaad109a403c",
       "version_major": 2,
       "version_minor": 0
      },
      "text/plain": [
       "A Jupyter Widget"
      ]
     },
     "metadata": {},
     "output_type": "display_data"
    },
    {
     "name": "stdout",
     "output_type": "stream",
     "text": [
      "Cost after epoch 0: 0.004743\n",
      "Cost after epoch 10: 0.004722\n",
      "Cost after epoch 20: 0.004725\n",
      "Training error: 0.003006\n",
      "Validation error: 0.005725\n",
      "loaded exising dataset\n",
      "Iteration 44\n"
     ]
    },
    {
     "data": {
      "application/vnd.jupyter.widget-view+json": {
       "model_id": "31b659fa2e1e4d6fae3938ffe22d1293",
       "version_major": 2,
       "version_minor": 0
      },
      "text/plain": [
       "A Jupyter Widget"
      ]
     },
     "metadata": {},
     "output_type": "display_data"
    },
    {
     "name": "stdout",
     "output_type": "stream",
     "text": [
      "Cost after epoch 0: 0.005166\n",
      "Cost after epoch 10: 0.005160\n",
      "Cost after epoch 20: 0.005159\n",
      "Training error: 0.003075\n",
      "Validation error: 0.006142\n",
      "loaded exising dataset\n",
      "Iteration 45\n"
     ]
    },
    {
     "data": {
      "application/vnd.jupyter.widget-view+json": {
       "model_id": "20c6594102074b69abb5210dbdebaa92",
       "version_major": 2,
       "version_minor": 0
      },
      "text/plain": [
       "A Jupyter Widget"
      ]
     },
     "metadata": {},
     "output_type": "display_data"
    },
    {
     "name": "stdout",
     "output_type": "stream",
     "text": [
      "Cost after epoch 0: 0.004847\n",
      "Cost after epoch 10: 0.004838\n",
      "Cost after epoch 20: 0.004842\n",
      "Training error: 0.002448\n",
      "Validation error: 0.007623\n",
      "loaded exising dataset\n",
      "Iteration 46\n"
     ]
    },
    {
     "data": {
      "application/vnd.jupyter.widget-view+json": {
       "model_id": "3655f3e0f2354c1c9a73d83c8f25f45b",
       "version_major": 2,
       "version_minor": 0
      },
      "text/plain": [
       "A Jupyter Widget"
      ]
     },
     "metadata": {},
     "output_type": "display_data"
    },
    {
     "name": "stdout",
     "output_type": "stream",
     "text": [
      "Cost after epoch 0: 0.005691\n",
      "Cost after epoch 10: 0.005687\n",
      "Cost after epoch 20: 0.005689\n",
      "Training error: 0.003232\n",
      "Validation error: 0.008746\n",
      "loaded exising dataset\n",
      "Iteration 47\n"
     ]
    },
    {
     "data": {
      "application/vnd.jupyter.widget-view+json": {
       "model_id": "d276990d958b47c8a9446bc7793f36ae",
       "version_major": 2,
       "version_minor": 0
      },
      "text/plain": [
       "A Jupyter Widget"
      ]
     },
     "metadata": {},
     "output_type": "display_data"
    },
    {
     "name": "stdout",
     "output_type": "stream",
     "text": [
      "Cost after epoch 0: 0.005136\n",
      "Cost after epoch 10: 0.005134\n",
      "Cost after epoch 20: 0.005135\n",
      "Training error: 0.002379\n",
      "Validation error: 0.010128\n",
      "loaded exising dataset\n",
      "Iteration 48\n"
     ]
    },
    {
     "data": {
      "application/vnd.jupyter.widget-view+json": {
       "model_id": "b6c194e0e5084e539717b259d152e87d",
       "version_major": 2,
       "version_minor": 0
      },
      "text/plain": [
       "A Jupyter Widget"
      ]
     },
     "metadata": {},
     "output_type": "display_data"
    },
    {
     "name": "stdout",
     "output_type": "stream",
     "text": [
      "Cost after epoch 0: 0.006796\n",
      "Cost after epoch 10: 0.006597\n",
      "Cost after epoch 20: 0.006595\n",
      "Training error: 0.004049\n",
      "Validation error: 0.004650\n",
      "loaded exising dataset\n",
      "Iteration 49\n"
     ]
    },
    {
     "data": {
      "application/vnd.jupyter.widget-view+json": {
       "model_id": "1a555dabb01d42fb881c3e42b8cb9c47",
       "version_major": 2,
       "version_minor": 0
      },
      "text/plain": [
       "A Jupyter Widget"
      ]
     },
     "metadata": {},
     "output_type": "display_data"
    },
    {
     "name": "stdout",
     "output_type": "stream",
     "text": [
      "Cost after epoch 0: 0.004575\n",
      "Cost after epoch 10: 0.004443\n",
      "Cost after epoch 20: 0.004444\n",
      "Training error: 0.003677\n",
      "Validation error: 0.004405\n",
      "loaded exising dataset\n",
      "Iteration 50\n"
     ]
    },
    {
     "data": {
      "application/vnd.jupyter.widget-view+json": {
       "model_id": "26c35251041442c6aea41c44b30e9da5",
       "version_major": 2,
       "version_minor": 0
      },
      "text/plain": [
       "A Jupyter Widget"
      ]
     },
     "metadata": {},
     "output_type": "display_data"
    },
    {
     "name": "stdout",
     "output_type": "stream",
     "text": [
      "Cost after epoch 0: 0.008351\n",
      "Cost after epoch 10: 0.008112\n",
      "Cost after epoch 20: 0.008108\n",
      "Training error: 0.003888\n",
      "Validation error: 0.004546\n",
      "loaded exising dataset\n",
      "Iteration 51\n"
     ]
    },
    {
     "data": {
      "application/vnd.jupyter.widget-view+json": {
       "model_id": "cc7817add69a4b6aa9dc1d2d80bfc600",
       "version_major": 2,
       "version_minor": 0
      },
      "text/plain": [
       "A Jupyter Widget"
      ]
     },
     "metadata": {},
     "output_type": "display_data"
    },
    {
     "name": "stdout",
     "output_type": "stream",
     "text": [
      "Cost after epoch 0: 0.006557\n",
      "Cost after epoch 10: 0.006514\n",
      "Cost after epoch 20: 0.006511\n",
      "Training error: 0.003244\n",
      "Validation error: 0.005384\n",
      "loaded exising dataset\n",
      "Iteration 52\n"
     ]
    },
    {
     "data": {
      "application/vnd.jupyter.widget-view+json": {
       "model_id": "b2a5ecc36b884f529175ae8b464446c6",
       "version_major": 2,
       "version_minor": 0
      },
      "text/plain": [
       "A Jupyter Widget"
      ]
     },
     "metadata": {},
     "output_type": "display_data"
    },
    {
     "name": "stdout",
     "output_type": "stream",
     "text": [
      "Cost after epoch 0: 0.005098\n",
      "Cost after epoch 10: 0.005078\n",
      "Cost after epoch 20: 0.005078\n",
      "Training error: 0.002403\n",
      "Validation error: 0.005708\n",
      "loaded exising dataset\n",
      "Iteration 53\n"
     ]
    },
    {
     "data": {
      "application/vnd.jupyter.widget-view+json": {
       "model_id": "54f5a23da7654291a35063c2766b46e3",
       "version_major": 2,
       "version_minor": 0
      },
      "text/plain": [
       "A Jupyter Widget"
      ]
     },
     "metadata": {},
     "output_type": "display_data"
    },
    {
     "name": "stdout",
     "output_type": "stream",
     "text": [
      "Cost after epoch 0: 0.006692\n",
      "Cost after epoch 10: 0.006671\n",
      "Cost after epoch 20: 0.006672\n",
      "Training error: 0.003875\n",
      "Validation error: 0.005094\n",
      "loaded exising dataset\n",
      "Iteration 54\n"
     ]
    },
    {
     "data": {
      "application/vnd.jupyter.widget-view+json": {
       "model_id": "3bf1fe3ea26a494a89a61fb49375ca5c",
       "version_major": 2,
       "version_minor": 0
      },
      "text/plain": [
       "A Jupyter Widget"
      ]
     },
     "metadata": {},
     "output_type": "display_data"
    },
    {
     "name": "stdout",
     "output_type": "stream",
     "text": [
      "Cost after epoch 0: 0.007066\n",
      "Cost after epoch 10: 0.006981\n",
      "Cost after epoch 20: 0.006976\n",
      "Training error: 0.004547\n",
      "Validation error: 0.004344\n",
      "loaded exising dataset\n",
      "Iteration 55\n"
     ]
    },
    {
     "data": {
      "application/vnd.jupyter.widget-view+json": {
       "model_id": "0fa2373277ca4f30aeaf17bcc9009466",
       "version_major": 2,
       "version_minor": 0
      },
      "text/plain": [
       "A Jupyter Widget"
      ]
     },
     "metadata": {},
     "output_type": "display_data"
    },
    {
     "name": "stdout",
     "output_type": "stream",
     "text": [
      "Cost after epoch 0: 0.007371\n",
      "Cost after epoch 10: 0.007324\n",
      "Cost after epoch 20: 0.007321\n",
      "Training error: 0.004183\n",
      "Validation error: 0.004601\n",
      "loaded exising dataset\n",
      "Iteration 56\n"
     ]
    },
    {
     "data": {
      "application/vnd.jupyter.widget-view+json": {
       "model_id": "9585a13c83054bb2a2ef6fa77a142440",
       "version_major": 2,
       "version_minor": 0
      },
      "text/plain": [
       "A Jupyter Widget"
      ]
     },
     "metadata": {},
     "output_type": "display_data"
    },
    {
     "name": "stdout",
     "output_type": "stream",
     "text": [
      "Cost after epoch 0: 0.005887\n",
      "Cost after epoch 10: 0.005703\n",
      "Cost after epoch 20: 0.005699\n",
      "Training error: 0.003956\n",
      "Validation error: 0.005563\n",
      "loaded exising dataset\n",
      "Iteration 57\n"
     ]
    },
    {
     "data": {
      "application/vnd.jupyter.widget-view+json": {
       "model_id": "95defde5689c48dc9331cb7895c4e31d",
       "version_major": 2,
       "version_minor": 0
      },
      "text/plain": [
       "A Jupyter Widget"
      ]
     },
     "metadata": {},
     "output_type": "display_data"
    },
    {
     "name": "stdout",
     "output_type": "stream",
     "text": [
      "Cost after epoch 0: 0.007716\n",
      "Cost after epoch 10: 0.007684\n",
      "Cost after epoch 20: 0.007681\n",
      "Training error: 0.004280\n",
      "Validation error: 0.004772\n",
      "loaded exising dataset\n",
      "Iteration 58\n"
     ]
    },
    {
     "data": {
      "application/vnd.jupyter.widget-view+json": {
       "model_id": "17342c1765d44e4d9bcab1778add2efb",
       "version_major": 2,
       "version_minor": 0
      },
      "text/plain": [
       "A Jupyter Widget"
      ]
     },
     "metadata": {},
     "output_type": "display_data"
    },
    {
     "name": "stdout",
     "output_type": "stream",
     "text": [
      "Cost after epoch 0: 0.002967\n",
      "Cost after epoch 10: 0.002695\n",
      "Cost after epoch 20: 0.002692\n",
      "Training error: 0.001884\n",
      "Validation error: 0.010874\n",
      "loaded exising dataset\n",
      "Iteration 59\n"
     ]
    },
    {
     "data": {
      "application/vnd.jupyter.widget-view+json": {
       "model_id": "1df9360e323f48cbb94de9ef69388f33",
       "version_major": 2,
       "version_minor": 0
      },
      "text/plain": [
       "A Jupyter Widget"
      ]
     },
     "metadata": {},
     "output_type": "display_data"
    },
    {
     "name": "stdout",
     "output_type": "stream",
     "text": [
      "Cost after epoch 0: 0.005940\n",
      "Cost after epoch 10: 0.005729\n",
      "Cost after epoch 20: 0.005724\n",
      "Training error: 0.003070\n",
      "Validation error: 0.004933\n",
      "loaded exising dataset\n",
      "Iteration 60\n"
     ]
    },
    {
     "data": {
      "application/vnd.jupyter.widget-view+json": {
       "model_id": "d3696dc6547949eaaeeb4e9da6681d31",
       "version_major": 2,
       "version_minor": 0
      },
      "text/plain": [
       "A Jupyter Widget"
      ]
     },
     "metadata": {},
     "output_type": "display_data"
    },
    {
     "name": "stdout",
     "output_type": "stream",
     "text": [
      "Cost after epoch 0: 0.003078\n",
      "Cost after epoch 10: 0.002943\n",
      "Cost after epoch 20: 0.002944\n",
      "Training error: 0.002242\n",
      "Validation error: 0.010454\n",
      "loaded exising dataset\n",
      "Iteration 61\n"
     ]
    },
    {
     "data": {
      "application/vnd.jupyter.widget-view+json": {
       "model_id": "83814d0451cf4ac2921bfb8ba1d64ab0",
       "version_major": 2,
       "version_minor": 0
      },
      "text/plain": [
       "A Jupyter Widget"
      ]
     },
     "metadata": {},
     "output_type": "display_data"
    },
    {
     "name": "stdout",
     "output_type": "stream",
     "text": [
      "Cost after epoch 0: 0.007347\n",
      "Cost after epoch 10: 0.006974\n",
      "Cost after epoch 20: 0.006975\n",
      "Training error: 0.003306\n",
      "Validation error: 0.004842\n",
      "loaded exising dataset\n",
      "Iteration 62\n"
     ]
    },
    {
     "data": {
      "application/vnd.jupyter.widget-view+json": {
       "model_id": "7d5a6de939774f958e3dc4e2b98f9cc4",
       "version_major": 2,
       "version_minor": 0
      },
      "text/plain": [
       "A Jupyter Widget"
      ]
     },
     "metadata": {},
     "output_type": "display_data"
    },
    {
     "name": "stdout",
     "output_type": "stream",
     "text": [
      "Cost after epoch 0: 0.006619\n",
      "Cost after epoch 10: 0.006499\n",
      "Cost after epoch 20: 0.006503\n",
      "Training error: 0.003939\n",
      "Validation error: 0.004925\n",
      "loaded exising dataset\n",
      "Iteration 63\n"
     ]
    },
    {
     "data": {
      "application/vnd.jupyter.widget-view+json": {
       "model_id": "0293c505e90843f3a2b1b77de526c354",
       "version_major": 2,
       "version_minor": 0
      },
      "text/plain": [
       "A Jupyter Widget"
      ]
     },
     "metadata": {},
     "output_type": "display_data"
    },
    {
     "name": "stdout",
     "output_type": "stream",
     "text": [
      "Cost after epoch 0: 0.003692\n",
      "Cost after epoch 10: 0.003584\n",
      "Cost after epoch 20: 0.003585\n",
      "Training error: 0.002423\n",
      "Validation error: 0.011759\n",
      "loaded exising dataset\n",
      "Iteration 64\n"
     ]
    },
    {
     "data": {
      "application/vnd.jupyter.widget-view+json": {
       "model_id": "b1e6052143e9454d8de2db44e243b375",
       "version_major": 2,
       "version_minor": 0
      },
      "text/plain": [
       "A Jupyter Widget"
      ]
     },
     "metadata": {},
     "output_type": "display_data"
    },
    {
     "name": "stdout",
     "output_type": "stream",
     "text": [
      "Cost after epoch 0: 0.005375\n",
      "Cost after epoch 10: 0.005324\n",
      "Cost after epoch 20: 0.005325\n",
      "Training error: 0.003090\n",
      "Validation error: 0.006374\n",
      "loaded exising dataset\n",
      "Iteration 65\n"
     ]
    },
    {
     "data": {
      "application/vnd.jupyter.widget-view+json": {
       "model_id": "6583b4dfa7164a7396f6a9dfbd2bc30b",
       "version_major": 2,
       "version_minor": 0
      },
      "text/plain": [
       "A Jupyter Widget"
      ]
     },
     "metadata": {},
     "output_type": "display_data"
    },
    {
     "name": "stdout",
     "output_type": "stream",
     "text": [
      "Cost after epoch 0: 0.009502\n",
      "Cost after epoch 10: 0.008803\n",
      "Cost after epoch 20: 0.008795\n",
      "Training error: 0.007149\n",
      "Validation error: 0.003582\n"
     ]
    },
    {
     "data": {
      "image/png": "[encoded data removed]",
      "text/plain": [
       "<matplotlib.figure.Figure at 0x2269010be80>"
      ]
     },
     "metadata": {},
     "output_type": "display_data"
    },
    {
     "name": "stdout",
     "output_type": "stream",
     "text": [
      "Parameters have been trained!\n",
      "Saving parameters\n",
      "pkl saved\n",
      "Training Session 2\n",
      "loaded exising dataset\n",
      "Past parameters updated\n",
      "Iteration 0\n"
     ]
    },
    {
     "data": {
      "application/vnd.jupyter.widget-view+json": {
       "model_id": "ee9872bef372407ba2bc1c2734eb602a",
       "version_major": 2,
       "version_minor": 0
      },
      "text/plain": [
       "A Jupyter Widget"
      ]
     },
     "metadata": {},
     "output_type": "display_data"
    },
    {
     "name": "stdout",
     "output_type": "stream",
     "text": [
      "Cost after epoch 0: 0.009681\n",
      "Cost after epoch 10: 0.009377\n",
      "Cost after epoch 20: 0.009383\n",
      "Training error: 0.005078\n",
      "Validation error: 0.004238\n",
      "loaded exising dataset\n",
      "Iteration 1\n"
     ]
    },
    {
     "data": {
      "application/vnd.jupyter.widget-view+json": {
       "model_id": "8d116abb7d1b49c389e2d818c37e73b8",
       "version_major": 2,
       "version_minor": 0
      },
      "text/plain": [
       "A Jupyter Widget"
      ]
     },
     "metadata": {},
     "output_type": "display_data"
    },
    {
     "name": "stdout",
     "output_type": "stream",
     "text": [
      "Cost after epoch 0: 0.006147\n",
      "Cost after epoch 10: 0.005751\n",
      "Cost after epoch 20: 0.005754\n",
      "Training error: 0.002812\n",
      "Validation error: 0.009774\n",
      "loaded exising dataset\n",
      "Iteration 2\n"
     ]
    },
    {
     "data": {
      "application/vnd.jupyter.widget-view+json": {
       "model_id": "a6631830ac8243319a259c165be623aa",
       "version_major": 2,
       "version_minor": 0
      },
      "text/plain": [
       "A Jupyter Widget"
      ]
     },
     "metadata": {},
     "output_type": "display_data"
    },
    {
     "name": "stdout",
     "output_type": "stream",
     "text": [
      "Cost after epoch 0: 0.004118\n",
      "Cost after epoch 10: 0.004115\n",
      "Cost after epoch 20: 0.004118\n",
      "Training error: 0.002070\n",
      "Validation error: 0.009309\n",
      "loaded exising dataset\n",
      "Iteration 3\n"
     ]
    },
    {
     "data": {
      "application/vnd.jupyter.widget-view+json": {
       "model_id": "b6ff2ccb21394db2945d864109dbfef6",
       "version_major": 2,
       "version_minor": 0
      },
      "text/plain": [
       "A Jupyter Widget"
      ]
     },
     "metadata": {},
     "output_type": "display_data"
    },
    {
     "name": "stdout",
     "output_type": "stream",
     "text": [
      "Cost after epoch 0: 0.004088\n",
      "Cost after epoch 10: 0.004086\n",
      "Cost after epoch 20: 0.004083\n",
      "Training error: 0.002518\n",
      "Validation error: 0.010377\n",
      "loaded exising dataset\n",
      "Iteration 4\n"
     ]
    },
    {
     "data": {
      "application/vnd.jupyter.widget-view+json": {
       "model_id": "346bc97792144c0680341f873bb3c5e9",
       "version_major": 2,
       "version_minor": 0
      },
      "text/plain": [
       "A Jupyter Widget"
      ]
     },
     "metadata": {},
     "output_type": "display_data"
    },
    {
     "name": "stdout",
     "output_type": "stream",
     "text": [
      "Cost after epoch 0: 0.006266\n",
      "Cost after epoch 10: 0.006093\n",
      "Cost after epoch 20: 0.006099\n",
      "Training error: 0.003014\n",
      "Validation error: 0.004976\n",
      "loaded exising dataset\n",
      "Iteration 5\n"
     ]
    },
    {
     "data": {
      "application/vnd.jupyter.widget-view+json": {
       "model_id": "50a34c43050944ad86a9de9a27f5f3c7",
       "version_major": 2,
       "version_minor": 0
      },
      "text/plain": [
       "A Jupyter Widget"
      ]
     },
     "metadata": {},
     "output_type": "display_data"
    },
    {
     "name": "stdout",
     "output_type": "stream",
     "text": [
      "Cost after epoch 0: 0.006631\n",
      "Cost after epoch 10: 0.006596\n",
      "Cost after epoch 20: 0.006601\n",
      "Training error: 0.003507\n",
      "Validation error: 0.004711\n",
      "loaded exising dataset\n",
      "Iteration 6\n"
     ]
    },
    {
     "data": {
      "application/vnd.jupyter.widget-view+json": {
       "model_id": "fb6579916e744e61ab281a5e7cebe2c7",
       "version_major": 2,
       "version_minor": 0
      },
      "text/plain": [
       "A Jupyter Widget"
      ]
     },
     "metadata": {},
     "output_type": "display_data"
    },
    {
     "name": "stdout",
     "output_type": "stream",
     "text": [
      "Cost after epoch 0: 0.007084\n",
      "Cost after epoch 10: 0.006989\n",
      "Cost after epoch 20: 0.006988\n",
      "Training error: 0.004121\n",
      "Validation error: 0.004617\n",
      "loaded exising dataset\n",
      "Iteration 7\n"
     ]
    },
    {
     "data": {
      "application/vnd.jupyter.widget-view+json": {
       "model_id": "31ca4f0eea49431ba09a1b546fd48353",
       "version_major": 2,
       "version_minor": 0
      },
      "text/plain": [
       "A Jupyter Widget"
      ]
     },
     "metadata": {},
     "output_type": "display_data"
    },
    {
     "name": "stdout",
     "output_type": "stream",
     "text": [
      "Cost after epoch 0: 0.005295\n",
      "Cost after epoch 10: 0.005150\n",
      "Cost after epoch 20: 0.005145\n",
      "Training error: 0.002598\n",
      "Validation error: 0.005813\n",
      "loaded exising dataset\n",
      "Iteration 8\n"
     ]
    },
    {
     "data": {
      "application/vnd.jupyter.widget-view+json": {
       "model_id": "392fe6101dd746d28c0a4053659e57cd",
       "version_major": 2,
       "version_minor": 0
      },
      "text/plain": [
       "A Jupyter Widget"
      ]
     },
     "metadata": {},
     "output_type": "display_data"
    },
    {
     "name": "stdout",
     "output_type": "stream",
     "text": [
      "Cost after epoch 0: 0.006726\n",
      "Cost after epoch 10: 0.006628\n",
      "Cost after epoch 20: 0.006636\n",
      "Training error: 0.003657\n",
      "Validation error: 0.004646\n",
      "loaded exising dataset\n",
      "Iteration 9\n"
     ]
    },
    {
     "data": {
      "application/vnd.jupyter.widget-view+json": {
       "model_id": "6481ca8bc1a44fba95f5392af9a6028b",
       "version_major": 2,
       "version_minor": 0
      },
      "text/plain": [
       "A Jupyter Widget"
      ]
     },
     "metadata": {},
     "output_type": "display_data"
    },
    {
     "name": "stdout",
     "output_type": "stream",
     "text": [
      "Cost after epoch 0: 0.007648\n",
      "Cost after epoch 10: 0.007515\n",
      "Cost after epoch 20: 0.007520\n",
      "Training error: 0.005333\n",
      "Validation error: 0.004185\n",
      "loaded exising dataset\n",
      "Iteration 10\n"
     ]
    },
    {
     "data": {
      "application/vnd.jupyter.widget-view+json": {
       "model_id": "713a318a7acf4f4a9495d789fa35166a",
       "version_major": 2,
       "version_minor": 0
      },
      "text/plain": [
       "A Jupyter Widget"
      ]
     },
     "metadata": {},
     "output_type": "display_data"
    },
    {
     "name": "stdout",
     "output_type": "stream",
     "text": [
      "Cost after epoch 0: 0.007707\n",
      "Cost after epoch 10: 0.007587\n",
      "Cost after epoch 20: 0.007584\n",
      "Training error: 0.004229\n",
      "Validation error: 0.004721\n",
      "loaded exising dataset\n",
      "Iteration 11\n"
     ]
    },
    {
     "data": {
      "application/vnd.jupyter.widget-view+json": {
       "model_id": "374b320a0847478a9dc4f94e5cec8d58",
       "version_major": 2,
       "version_minor": 0
      },
      "text/plain": [
       "A Jupyter Widget"
      ]
     },
     "metadata": {},
     "output_type": "display_data"
    },
    {
     "name": "stdout",
     "output_type": "stream",
     "text": [
      "Cost after epoch 0: 0.007375\n",
      "Cost after epoch 10: 0.007328\n",
      "Cost after epoch 20: 0.007336\n",
      "Training error: 0.003444\n",
      "Validation error: 0.004865\n",
      "loaded exising dataset\n",
      "Iteration 12\n"
     ]
    },
    {
     "data": {
      "application/vnd.jupyter.widget-view+json": {
       "model_id": "546fc6b4431b4879b776c83de781fd34",
       "version_major": 2,
       "version_minor": 0
      },
      "text/plain": [
       "A Jupyter Widget"
      ]
     },
     "metadata": {},
     "output_type": "display_data"
    },
    {
     "name": "stdout",
     "output_type": "stream",
     "text": [
      "Cost after epoch 0: 0.007146\n",
      "Cost after epoch 10: 0.007081\n",
      "Cost after epoch 20: 0.007084\n",
      "Training error: 0.003848\n",
      "Validation error: 0.004649\n",
      "loaded exising dataset\n",
      "Iteration 13\n"
     ]
    },
    {
     "data": {
      "application/vnd.jupyter.widget-view+json": {
       "model_id": "6750be924f5c4afe8895cc1b1154d905",
       "version_major": 2,
       "version_minor": 0
      },
      "text/plain": [
       "A Jupyter Widget"
      ]
     },
     "metadata": {},
     "output_type": "display_data"
    },
    {
     "name": "stdout",
     "output_type": "stream",
     "text": [
      "Cost after epoch 0: 0.007716\n",
      "Cost after epoch 10: 0.007704\n",
      "Cost after epoch 20: 0.007693\n",
      "Training error: 0.004230\n",
      "Validation error: 0.005089\n",
      "loaded exising dataset\n",
      "Iteration 14\n"
     ]
    },
    {
     "data": {
      "application/vnd.jupyter.widget-view+json": {
       "model_id": "f87a7e3788ba41509b9fad9441b7e9e3",
       "version_major": 2,
       "version_minor": 0
      },
      "text/plain": [
       "A Jupyter Widget"
      ]
     },
     "metadata": {},
     "output_type": "display_data"
    },
    {
     "name": "stdout",
     "output_type": "stream",
     "text": [
      "Cost after epoch 0: 0.008237\n",
      "Cost after epoch 10: 0.008150\n",
      "Cost after epoch 20: 0.008143\n",
      "Training error: 0.004410\n",
      "Validation error: 0.004456\n",
      "loaded exising dataset\n",
      "Iteration 15\n"
     ]
    },
    {
     "data": {
      "application/vnd.jupyter.widget-view+json": {
       "model_id": "a7823e6772b64bec838e14f7b8563a4d",
       "version_major": 2,
       "version_minor": 0
      },
      "text/plain": [
       "A Jupyter Widget"
      ]
     },
     "metadata": {},
     "output_type": "display_data"
    },
    {
     "name": "stdout",
     "output_type": "stream",
     "text": [
      "Cost after epoch 0: 0.008450\n",
      "Cost after epoch 10: 0.008109\n",
      "Cost after epoch 20: 0.008122\n",
      "Training error: 0.006156\n",
      "Validation error: 0.003559\n",
      "loaded exising dataset\n",
      "Iteration 16\n"
     ]
    },
    {
     "data": {
      "application/vnd.jupyter.widget-view+json": {
       "model_id": "7c1d0f4bc4744e8080c3a9ea55439b26",
       "version_major": 2,
       "version_minor": 0
      },
      "text/plain": [
       "A Jupyter Widget"
      ]
     },
     "metadata": {},
     "output_type": "display_data"
    },
    {
     "name": "stdout",
     "output_type": "stream",
     "text": [
      "Cost after epoch 0: 0.005085\n",
      "Cost after epoch 10: 0.004179\n",
      "Cost after epoch 20: 0.004179\n",
      "Training error: 0.002741\n",
      "Validation error: 0.011010\n",
      "loaded exising dataset\n",
      "Iteration 17\n"
     ]
    },
    {
     "data": {
      "application/vnd.jupyter.widget-view+json": {
       "model_id": "4629348d55a1435798857945e7f35ab2",
       "version_major": 2,
       "version_minor": 0
      },
      "text/plain": [
       "A Jupyter Widget"
      ]
     },
     "metadata": {},
     "output_type": "display_data"
    },
    {
     "name": "stdout",
     "output_type": "stream",
     "text": [
      "Cost after epoch 0: 0.004069\n",
      "Cost after epoch 10: 0.004038\n",
      "Cost after epoch 20: 0.004038\n",
      "Training error: 0.002781\n",
      "Validation error: 0.005916\n",
      "loaded exising dataset\n",
      "Iteration 18\n"
     ]
    },
    {
     "data": {
      "application/vnd.jupyter.widget-view+json": {
       "model_id": "0c9015c738b14388907ca975c9848a71",
       "version_major": 2,
       "version_minor": 0
      },
      "text/plain": [
       "A Jupyter Widget"
      ]
     },
     "metadata": {},
     "output_type": "display_data"
    },
    {
     "name": "stdout",
     "output_type": "stream",
     "text": [
      "Cost after epoch 0: 0.004673\n",
      "Cost after epoch 10: 0.004668\n",
      "Cost after epoch 20: 0.004669\n",
      "Training error: 0.002560\n",
      "Validation error: 0.005582\n",
      "loaded exising dataset\n",
      "Iteration 19\n"
     ]
    },
    {
     "data": {
      "application/vnd.jupyter.widget-view+json": {
       "model_id": "b78efe529c744d1aa21dbe2557c5a572",
       "version_major": 2,
       "version_minor": 0
      },
      "text/plain": [
       "A Jupyter Widget"
      ]
     },
     "metadata": {},
     "output_type": "display_data"
    },
    {
     "name": "stdout",
     "output_type": "stream",
     "text": [
      "Cost after epoch 0: 0.005399\n",
      "Cost after epoch 10: 0.005388\n",
      "Cost after epoch 20: 0.005388\n",
      "Training error: 0.002713\n",
      "Validation error: 0.006947\n",
      "loaded exising dataset\n",
      "Iteration 20\n"
     ]
    },
    {
     "data": {
      "application/vnd.jupyter.widget-view+json": {
       "model_id": "f0da2e1931a048f0914d90687b68f3cb",
       "version_major": 2,
       "version_minor": 0
      },
      "text/plain": [
       "A Jupyter Widget"
      ]
     },
     "metadata": {},
     "output_type": "display_data"
    },
    {
     "name": "stdout",
     "output_type": "stream",
     "text": [
      "Cost after epoch 0: 0.003423\n",
      "Cost after epoch 10: 0.003283\n",
      "Cost after epoch 20: 0.003283\n",
      "Training error: 0.002339\n",
      "Validation error: 0.027841\n",
      "loaded exising dataset\n",
      "Iteration 21\n"
     ]
    },
    {
     "data": {
      "application/vnd.jupyter.widget-view+json": {
       "model_id": "5abe00bff796477590ade19c5198dede",
       "version_major": 2,
       "version_minor": 0
      },
      "text/plain": [
       "A Jupyter Widget"
      ]
     },
     "metadata": {},
     "output_type": "display_data"
    },
    {
     "name": "stdout",
     "output_type": "stream",
     "text": [
      "Cost after epoch 0: 0.004801\n",
      "Cost after epoch 10: 0.004566\n",
      "Cost after epoch 20: 0.004567\n",
      "Training error: 0.002361\n",
      "Validation error: 0.005738\n",
      "loaded exising dataset\n",
      "Iteration 22\n"
     ]
    },
    {
     "data": {
      "application/vnd.jupyter.widget-view+json": {
       "model_id": "192cbf4bdb0249b4b21cfb2ad31d270c",
       "version_major": 2,
       "version_minor": 0
      },
      "text/plain": [
       "A Jupyter Widget"
      ]
     },
     "metadata": {},
     "output_type": "display_data"
    },
    {
     "name": "stdout",
     "output_type": "stream",
     "text": [
      "Cost after epoch 0: 0.006533\n",
      "Cost after epoch 10: 0.006530\n",
      "Cost after epoch 20: 0.006528\n",
      "Training error: 0.003300\n",
      "Validation error: 0.006168\n",
      "loaded exising dataset\n",
      "Iteration 23\n"
     ]
    },
    {
     "data": {
      "application/vnd.jupyter.widget-view+json": {
       "model_id": "0430806154484f94a4d9b19f42c27d66",
       "version_major": 2,
       "version_minor": 0
      },
      "text/plain": [
       "A Jupyter Widget"
      ]
     },
     "metadata": {},
     "output_type": "display_data"
    },
    {
     "name": "stdout",
     "output_type": "stream",
     "text": [
      "Cost after epoch 0: 0.006027\n",
      "Cost after epoch 10: 0.006008\n",
      "Cost after epoch 20: 0.006008\n",
      "Training error: 0.003323\n",
      "Validation error: 0.005499\n",
      "loaded exising dataset\n",
      "Iteration 24\n"
     ]
    },
    {
     "data": {
      "application/vnd.jupyter.widget-view+json": {
       "model_id": "8734a8b30d814dd1a5f213f53a515093",
       "version_major": 2,
       "version_minor": 0
      },
      "text/plain": [
       "A Jupyter Widget"
      ]
     },
     "metadata": {},
     "output_type": "display_data"
    },
    {
     "name": "stdout",
     "output_type": "stream",
     "text": [
      "Cost after epoch 0: 0.010598\n",
      "Cost after epoch 10: 0.010155\n",
      "Cost after epoch 20: 0.010163\n",
      "Training error: 0.004860\n",
      "Validation error: 0.004068\n",
      "loaded exising dataset\n",
      "Iteration 25\n"
     ]
    },
    {
     "data": {
      "application/vnd.jupyter.widget-view+json": {
       "model_id": "fd26369a27b24f7e84c80bcac903afcc",
       "version_major": 2,
       "version_minor": 0
      },
      "text/plain": [
       "A Jupyter Widget"
      ]
     },
     "metadata": {},
     "output_type": "display_data"
    },
    {
     "name": "stdout",
     "output_type": "stream",
     "text": [
      "Cost after epoch 0: 0.007369\n",
      "Cost after epoch 10: 0.007139\n",
      "Cost after epoch 20: 0.007136\n",
      "Training error: 0.004334\n",
      "Validation error: 0.004794\n",
      "loaded exising dataset\n",
      "Iteration 26\n"
     ]
    },
    {
     "data": {
      "application/vnd.jupyter.widget-view+json": {
       "model_id": "1ba6ab0b3c214655a70337654b321831",
       "version_major": 2,
       "version_minor": 0
      },
      "text/plain": [
       "A Jupyter Widget"
      ]
     },
     "metadata": {},
     "output_type": "display_data"
    },
    {
     "name": "stdout",
     "output_type": "stream",
     "text": [
      "Cost after epoch 0: 0.006247\n",
      "Cost after epoch 10: 0.006170\n",
      "Cost after epoch 20: 0.006179\n",
      "Training error: 0.003735\n",
      "Validation error: 0.004519\n",
      "loaded exising dataset\n",
      "Iteration 27\n"
     ]
    },
    {
     "data": {
      "application/vnd.jupyter.widget-view+json": {
       "model_id": "3b926295279a478fa2e5ccb6b88371bb",
       "version_major": 2,
       "version_minor": 0
      },
      "text/plain": [
       "A Jupyter Widget"
      ]
     },
     "metadata": {},
     "output_type": "display_data"
    },
    {
     "name": "stdout",
     "output_type": "stream",
     "text": [
      "Cost after epoch 0: 0.004555\n",
      "Cost after epoch 10: 0.004368\n",
      "Cost after epoch 20: 0.004372\n",
      "Training error: 0.003236\n",
      "Validation error: 0.005683\n",
      "loaded exising dataset\n",
      "Iteration 28\n"
     ]
    },
    {
     "data": {
      "application/vnd.jupyter.widget-view+json": {
       "model_id": "a30dd8ad004346e1b47242645fe443bd",
       "version_major": 2,
       "version_minor": 0
      },
      "text/plain": [
       "A Jupyter Widget"
      ]
     },
     "metadata": {},
     "output_type": "display_data"
    },
    {
     "name": "stdout",
     "output_type": "stream",
     "text": [
      "Cost after epoch 0: 0.004363\n",
      "Cost after epoch 10: 0.004358\n",
      "Cost after epoch 20: 0.004358\n",
      "Training error: 0.002800\n",
      "Validation error: 0.007331\n",
      "loaded exising dataset\n",
      "Iteration 29\n"
     ]
    },
    {
     "data": {
      "application/vnd.jupyter.widget-view+json": {
       "model_id": "df5a2cd10c4b46749f049b4b6a5c8f19",
       "version_major": 2,
       "version_minor": 0
      },
      "text/plain": [
       "A Jupyter Widget"
      ]
     },
     "metadata": {},
     "output_type": "display_data"
    },
    {
     "name": "stdout",
     "output_type": "stream",
     "text": [
      "Cost after epoch 0: 0.007690\n",
      "Cost after epoch 10: 0.007486\n",
      "Cost after epoch 20: 0.007483\n",
      "Training error: 0.003972\n",
      "Validation error: 0.004630\n",
      "loaded exising dataset\n",
      "Iteration 30\n"
     ]
    },
    {
     "data": {
      "application/vnd.jupyter.widget-view+json": {
       "model_id": "4de1ede840934bffb22252fe6050db25",
       "version_major": 2,
       "version_minor": 0
      },
      "text/plain": [
       "A Jupyter Widget"
      ]
     },
     "metadata": {},
     "output_type": "display_data"
    },
    {
     "name": "stdout",
     "output_type": "stream",
     "text": [
      "Cost after epoch 0: 0.004996\n",
      "Cost after epoch 10: 0.004827\n",
      "Cost after epoch 20: 0.004827\n",
      "Training error: 0.003116\n",
      "Validation error: 0.005673\n",
      "loaded exising dataset\n",
      "Iteration 31\n"
     ]
    },
    {
     "data": {
      "application/vnd.jupyter.widget-view+json": {
       "model_id": "b1553e5ff494415f8f8efb9a32d99450",
       "version_major": 2,
       "version_minor": 0
      },
      "text/plain": [
       "A Jupyter Widget"
      ]
     },
     "metadata": {},
     "output_type": "display_data"
    },
    {
     "name": "stdout",
     "output_type": "stream",
     "text": [
      "Cost after epoch 0: 0.005706\n",
      "Cost after epoch 10: 0.005692\n",
      "Cost after epoch 20: 0.005691\n",
      "Training error: 0.003110\n",
      "Validation error: 0.006823\n",
      "loaded exising dataset\n",
      "Iteration 32\n"
     ]
    },
    {
     "data": {
      "application/vnd.jupyter.widget-view+json": {
       "model_id": "909172a318234a0d9e30c22fd001d797",
       "version_major": 2,
       "version_minor": 0
      },
      "text/plain": [
       "A Jupyter Widget"
      ]
     },
     "metadata": {},
     "output_type": "display_data"
    },
    {
     "name": "stdout",
     "output_type": "stream",
     "text": [
      "Cost after epoch 0: 0.008428\n",
      "Cost after epoch 10: 0.008045\n",
      "Cost after epoch 20: 0.008045\n",
      "Training error: 0.004745\n",
      "Validation error: 0.003932\n",
      "loaded exising dataset\n",
      "Iteration 33\n"
     ]
    },
    {
     "data": {
      "application/vnd.jupyter.widget-view+json": {
       "model_id": "42207169a3e841a3aab9c678ea5d912d",
       "version_major": 2,
       "version_minor": 0
      },
      "text/plain": [
       "A Jupyter Widget"
      ]
     },
     "metadata": {},
     "output_type": "display_data"
    },
    {
     "name": "stdout",
     "output_type": "stream",
     "text": [
      "Cost after epoch 0: 0.005218\n",
      "Cost after epoch 10: 0.004655\n",
      "Cost after epoch 20: 0.004653\n",
      "Training error: 0.002390\n",
      "Validation error: 0.007767\n",
      "loaded exising dataset\n",
      "Iteration 34\n"
     ]
    },
    {
     "data": {
      "application/vnd.jupyter.widget-view+json": {
       "model_id": "0168d431fc6b45f58f2818125674d632",
       "version_major": 2,
       "version_minor": 0
      },
      "text/plain": [
       "A Jupyter Widget"
      ]
     },
     "metadata": {},
     "output_type": "display_data"
    },
    {
     "name": "stdout",
     "output_type": "stream",
     "text": [
      "Cost after epoch 0: 0.007093\n",
      "Cost after epoch 10: 0.006914\n",
      "Cost after epoch 20: 0.006912\n",
      "Training error: 0.003649\n",
      "Validation error: 0.005063\n",
      "loaded exising dataset\n",
      "Iteration 35\n"
     ]
    },
    {
     "data": {
      "application/vnd.jupyter.widget-view+json": {
       "model_id": "bf878b75965a4ec7abc44af7bb61977e",
       "version_major": 2,
       "version_minor": 0
      },
      "text/plain": [
       "A Jupyter Widget"
      ]
     },
     "metadata": {},
     "output_type": "display_data"
    },
    {
     "name": "stdout",
     "output_type": "stream",
     "text": [
      "Cost after epoch 0: 0.004388\n",
      "Cost after epoch 10: 0.004143\n",
      "Cost after epoch 20: 0.004141\n",
      "Training error: 0.002132\n",
      "Validation error: 0.010420\n",
      "loaded exising dataset\n",
      "Iteration 36\n"
     ]
    },
    {
     "data": {
      "application/vnd.jupyter.widget-view+json": {
       "model_id": "cb1efc55560f454496498da8e6784043",
       "version_major": 2,
       "version_minor": 0
      },
      "text/plain": [
       "A Jupyter Widget"
      ]
     },
     "metadata": {},
     "output_type": "display_data"
    },
    {
     "name": "stdout",
     "output_type": "stream",
     "text": [
      "Cost after epoch 0: 0.009689\n",
      "Cost after epoch 10: 0.009516\n",
      "Cost after epoch 20: 0.009530\n",
      "Training error: 0.004314\n",
      "Validation error: 0.004632\n",
      "loaded exising dataset\n",
      "Iteration 37\n"
     ]
    },
    {
     "data": {
      "application/vnd.jupyter.widget-view+json": {
       "model_id": "4c24cc7aad9a4d94bbb76f495bdb72b2",
       "version_major": 2,
       "version_minor": 0
      },
      "text/plain": [
       "A Jupyter Widget"
      ]
     },
     "metadata": {},
     "output_type": "display_data"
    },
    {
     "name": "stdout",
     "output_type": "stream",
     "text": [
      "Cost after epoch 0: 0.005783\n",
      "Cost after epoch 10: 0.005712\n",
      "Cost after epoch 20: 0.005726\n",
      "Training error: 0.003326\n",
      "Validation error: 0.006549\n",
      "loaded exising dataset\n",
      "Iteration 38\n"
     ]
    },
    {
     "data": {
      "application/vnd.jupyter.widget-view+json": {
       "model_id": "92f9e05c21ff4057a9fc6e42cb8d6557",
       "version_major": 2,
       "version_minor": 0
      },
      "text/plain": [
       "A Jupyter Widget"
      ]
     },
     "metadata": {},
     "output_type": "display_data"
    },
    {
     "name": "stdout",
     "output_type": "stream",
     "text": [
      "Cost after epoch 0: 0.005740\n",
      "Cost after epoch 10: 0.005664\n",
      "Cost after epoch 20: 0.005667\n",
      "Training error: 0.003971\n",
      "Validation error: 0.004530\n",
      "loaded exising dataset\n",
      "Iteration 39\n"
     ]
    },
    {
     "data": {
      "application/vnd.jupyter.widget-view+json": {
       "model_id": "e5479d492f824c90808cae838f53f2d4",
       "version_major": 2,
       "version_minor": 0
      },
      "text/plain": [
       "A Jupyter Widget"
      ]
     },
     "metadata": {},
     "output_type": "display_data"
    },
    {
     "name": "stdout",
     "output_type": "stream",
     "text": [
      "Cost after epoch 0: 0.006571\n",
      "Cost after epoch 10: 0.006292\n",
      "Cost after epoch 20: 0.006292\n",
      "Training error: 0.003324\n",
      "Validation error: 0.004504\n",
      "loaded exising dataset\n",
      "Iteration 40\n"
     ]
    },
    {
     "data": {
      "application/vnd.jupyter.widget-view+json": {
       "model_id": "30bc068a02f54fe39a3b0c710dd7a10c",
       "version_major": 2,
       "version_minor": 0
      },
      "text/plain": [
       "A Jupyter Widget"
      ]
     },
     "metadata": {},
     "output_type": "display_data"
    },
    {
     "name": "stdout",
     "output_type": "stream",
     "text": [
      "Cost after epoch 0: 0.006745\n",
      "Cost after epoch 10: 0.006073\n",
      "Cost after epoch 20: 0.006072\n",
      "Training error: 0.002766\n",
      "Validation error: 0.014132\n",
      "loaded exising dataset\n",
      "Iteration 41\n"
     ]
    },
    {
     "data": {
      "application/vnd.jupyter.widget-view+json": {
       "model_id": "cefb053710a64c55b1270f237ea8c8ae",
       "version_major": 2,
       "version_minor": 0
      },
      "text/plain": [
       "A Jupyter Widget"
      ]
     },
     "metadata": {},
     "output_type": "display_data"
    },
    {
     "name": "stdout",
     "output_type": "stream",
     "text": [
      "Cost after epoch 0: 0.006641\n",
      "Cost after epoch 10: 0.006494\n",
      "Cost after epoch 20: 0.006495\n",
      "Training error: 0.003583\n",
      "Validation error: 0.005058\n",
      "loaded exising dataset\n",
      "Iteration 42\n"
     ]
    },
    {
     "data": {
      "application/vnd.jupyter.widget-view+json": {
       "model_id": "6dbeba9e293849838732166723c52b1b",
       "version_major": 2,
       "version_minor": 0
      },
      "text/plain": [
       "A Jupyter Widget"
      ]
     },
     "metadata": {},
     "output_type": "display_data"
    },
    {
     "name": "stdout",
     "output_type": "stream",
     "text": [
      "Cost after epoch 0: 0.004569\n",
      "Cost after epoch 10: 0.004489\n",
      "Cost after epoch 20: 0.004490\n",
      "Training error: 0.002393\n",
      "Validation error: 0.007749\n",
      "loaded exising dataset\n",
      "Iteration 43\n"
     ]
    },
    {
     "data": {
      "application/vnd.jupyter.widget-view+json": {
       "model_id": "3bb4b0149075494192c60477ac83b8f4",
       "version_major": 2,
       "version_minor": 0
      },
      "text/plain": [
       "A Jupyter Widget"
      ]
     },
     "metadata": {},
     "output_type": "display_data"
    },
    {
     "name": "stdout",
     "output_type": "stream",
     "text": [
      "Cost after epoch 0: 0.004745\n",
      "Cost after epoch 10: 0.004724\n",
      "Cost after epoch 20: 0.004725\n",
      "Training error: 0.002999\n",
      "Validation error: 0.005715\n",
      "loaded exising dataset\n",
      "Iteration 44\n"
     ]
    },
    {
     "data": {
      "application/vnd.jupyter.widget-view+json": {
       "model_id": "9d797a26211c429db688573a401c9e52",
       "version_major": 2,
       "version_minor": 0
      },
      "text/plain": [
       "A Jupyter Widget"
      ]
     },
     "metadata": {},
     "output_type": "display_data"
    },
    {
     "name": "stdout",
     "output_type": "stream",
     "text": [
      "Cost after epoch 0: 0.005165\n",
      "Cost after epoch 10: 0.005164\n",
      "Cost after epoch 20: 0.005162\n",
      "Training error: 0.003059\n",
      "Validation error: 0.006056\n",
      "loaded exising dataset\n",
      "Iteration 45\n"
     ]
    },
    {
     "data": {
      "application/vnd.jupyter.widget-view+json": {
       "model_id": "6d7fa99609b04eb683225f2d98ca2c28",
       "version_major": 2,
       "version_minor": 0
      },
      "text/plain": [
       "A Jupyter Widget"
      ]
     },
     "metadata": {},
     "output_type": "display_data"
    },
    {
     "name": "stdout",
     "output_type": "stream",
     "text": [
      "Cost after epoch 0: 0.004848\n",
      "Cost after epoch 10: 0.004838\n",
      "Cost after epoch 20: 0.004838\n",
      "Training error: 0.002497\n",
      "Validation error: 0.008066\n",
      "loaded exising dataset\n",
      "Iteration 46\n"
     ]
    },
    {
     "data": {
      "application/vnd.jupyter.widget-view+json": {
       "model_id": "b3bf1c04c8034359a5687c930bcb653b",
       "version_major": 2,
       "version_minor": 0
      },
      "text/plain": [
       "A Jupyter Widget"
      ]
     },
     "metadata": {},
     "output_type": "display_data"
    },
    {
     "name": "stdout",
     "output_type": "stream",
     "text": [
      "Cost after epoch 0: 0.005689\n",
      "Cost after epoch 10: 0.005688\n",
      "Cost after epoch 20: 0.005687\n",
      "Training error: 0.003210\n",
      "Validation error: 0.008636\n",
      "loaded exising dataset\n",
      "Iteration 47\n"
     ]
    },
    {
     "data": {
      "application/vnd.jupyter.widget-view+json": {
       "model_id": "438a05a45586447a9a7bd6c50ac9d767",
       "version_major": 2,
       "version_minor": 0
      },
      "text/plain": [
       "A Jupyter Widget"
      ]
     },
     "metadata": {},
     "output_type": "display_data"
    },
    {
     "name": "stdout",
     "output_type": "stream",
     "text": [
      "Cost after epoch 0: 0.005136\n",
      "Cost after epoch 10: 0.005134\n",
      "Cost after epoch 20: 0.005139\n",
      "Training error: 0.002363\n",
      "Validation error: 0.009606\n",
      "loaded exising dataset\n",
      "Iteration 48\n"
     ]
    },
    {
     "data": {
      "application/vnd.jupyter.widget-view+json": {
       "model_id": "3ebdc68a8f7d4d2f9b38138ae08a6b80",
       "version_major": 2,
       "version_minor": 0
      },
      "text/plain": [
       "A Jupyter Widget"
      ]
     },
     "metadata": {},
     "output_type": "display_data"
    },
    {
     "name": "stdout",
     "output_type": "stream",
     "text": [
      "Cost after epoch 0: 0.006728\n",
      "Cost after epoch 10: 0.006589\n",
      "Cost after epoch 20: 0.006590\n",
      "Training error: 0.004088\n",
      "Validation error: 0.004706\n",
      "loaded exising dataset\n",
      "Iteration 49\n"
     ]
    },
    {
     "data": {
      "application/vnd.jupyter.widget-view+json": {
       "model_id": "bffec4c923e3433fb3e7de4951a63f5e",
       "version_major": 2,
       "version_minor": 0
      },
      "text/plain": [
       "A Jupyter Widget"
      ]
     },
     "metadata": {},
     "output_type": "display_data"
    },
    {
     "name": "stdout",
     "output_type": "stream",
     "text": [
      "Cost after epoch 0: 0.004575\n",
      "Cost after epoch 10: 0.004431\n",
      "Cost after epoch 20: 0.004439\n",
      "Training error: 0.003721\n",
      "Validation error: 0.004510\n",
      "loaded exising dataset\n",
      "Iteration 50\n"
     ]
    },
    {
     "data": {
      "application/vnd.jupyter.widget-view+json": {
       "model_id": "10393d81e726401085aba6d58a5184f1",
       "version_major": 2,
       "version_minor": 0
      },
      "text/plain": [
       "A Jupyter Widget"
      ]
     },
     "metadata": {},
     "output_type": "display_data"
    },
    {
     "name": "stdout",
     "output_type": "stream",
     "text": [
      "Cost after epoch 0: 0.008352\n",
      "Cost after epoch 10: 0.008111\n",
      "Cost after epoch 20: 0.008114\n",
      "Training error: 0.003918\n",
      "Validation error: 0.004731\n",
      "loaded exising dataset\n",
      "Iteration 51\n"
     ]
    },
    {
     "data": {
      "application/vnd.jupyter.widget-view+json": {
       "model_id": "dd70571bdc364446aa0cb6885b204513",
       "version_major": 2,
       "version_minor": 0
      },
      "text/plain": [
       "A Jupyter Widget"
      ]
     },
     "metadata": {},
     "output_type": "display_data"
    },
    {
     "name": "stdout",
     "output_type": "stream",
     "text": [
      "Cost after epoch 0: 0.006556\n",
      "Cost after epoch 10: 0.006514\n",
      "Cost after epoch 20: 0.006513\n",
      "Training error: 0.003242\n",
      "Validation error: 0.005304\n",
      "loaded exising dataset\n",
      "Iteration 52\n"
     ]
    },
    {
     "data": {
      "application/vnd.jupyter.widget-view+json": {
       "model_id": "eb620885db9e4c4aac2fd5a2754d949d",
       "version_major": 2,
       "version_minor": 0
      },
      "text/plain": [
       "A Jupyter Widget"
      ]
     },
     "metadata": {},
     "output_type": "display_data"
    },
    {
     "name": "stdout",
     "output_type": "stream",
     "text": [
      "Cost after epoch 0: 0.005094\n",
      "Cost after epoch 10: 0.005075\n",
      "Cost after epoch 20: 0.005077\n",
      "Training error: 0.002479\n",
      "Validation error: 0.006063\n",
      "loaded exising dataset\n",
      "Iteration 53\n"
     ]
    },
    {
     "data": {
      "application/vnd.jupyter.widget-view+json": {
       "model_id": "4c339e06f2774fd682bc3ecfdbd308fc",
       "version_major": 2,
       "version_minor": 0
      },
      "text/plain": [
       "A Jupyter Widget"
      ]
     },
     "metadata": {},
     "output_type": "display_data"
    },
    {
     "name": "stdout",
     "output_type": "stream",
     "text": [
      "Cost after epoch 0: 0.006690\n",
      "Cost after epoch 10: 0.006670\n",
      "Cost after epoch 20: 0.006674\n",
      "Training error: 0.003867\n",
      "Validation error: 0.005078\n",
      "loaded exising dataset\n",
      "Iteration 54\n"
     ]
    },
    {
     "data": {
      "application/vnd.jupyter.widget-view+json": {
       "model_id": "9633649b78e948e9869608963bf48407",
       "version_major": 2,
       "version_minor": 0
      },
      "text/plain": [
       "A Jupyter Widget"
      ]
     },
     "metadata": {},
     "output_type": "display_data"
    },
    {
     "name": "stdout",
     "output_type": "stream",
     "text": [
      "Cost after epoch 0: 0.007076\n",
      "Cost after epoch 10: 0.006975\n",
      "Cost after epoch 20: 0.006984\n",
      "Training error: 0.004540\n",
      "Validation error: 0.004349\n",
      "loaded exising dataset\n",
      "Iteration 55\n"
     ]
    },
    {
     "data": {
      "application/vnd.jupyter.widget-view+json": {
       "model_id": "ad993c76d04f48b6b4455cb9faa991ae",
       "version_major": 2,
       "version_minor": 0
      },
      "text/plain": [
       "A Jupyter Widget"
      ]
     },
     "metadata": {},
     "output_type": "display_data"
    },
    {
     "name": "stdout",
     "output_type": "stream",
     "text": [
      "Cost after epoch 0: 0.007375\n",
      "Cost after epoch 10: 0.007320\n",
      "Cost after epoch 20: 0.007325\n",
      "Training error: 0.004112\n",
      "Validation error: 0.004386\n",
      "loaded exising dataset\n",
      "Iteration 56\n"
     ]
    },
    {
     "data": {
      "application/vnd.jupyter.widget-view+json": {
       "model_id": "2d3d2c97e2664a2cbac35d8494f119aa",
       "version_major": 2,
       "version_minor": 0
      },
      "text/plain": [
       "A Jupyter Widget"
      ]
     },
     "metadata": {},
     "output_type": "display_data"
    },
    {
     "name": "stdout",
     "output_type": "stream",
     "text": [
      "Cost after epoch 0: 0.005890\n",
      "Cost after epoch 10: 0.005703\n",
      "Cost after epoch 20: 0.005702\n",
      "Training error: 0.004036\n",
      "Validation error: 0.005767\n",
      "loaded exising dataset\n",
      "Iteration 57\n"
     ]
    },
    {
     "data": {
      "application/vnd.jupyter.widget-view+json": {
       "model_id": "eb9143721b1d4ce18dae2f7b9a90382d",
       "version_major": 2,
       "version_minor": 0
      },
      "text/plain": [
       "A Jupyter Widget"
      ]
     },
     "metadata": {},
     "output_type": "display_data"
    },
    {
     "name": "stdout",
     "output_type": "stream",
     "text": [
      "Cost after epoch 0: 0.007721\n",
      "Cost after epoch 10: 0.007676\n",
      "Cost after epoch 20: 0.007684\n",
      "Training error: 0.004293\n",
      "Validation error: 0.004814\n",
      "loaded exising dataset\n",
      "Iteration 58\n"
     ]
    },
    {
     "data": {
      "application/vnd.jupyter.widget-view+json": {
       "model_id": "7686575314924ff198c70576a6404f51",
       "version_major": 2,
       "version_minor": 0
      },
      "text/plain": [
       "A Jupyter Widget"
      ]
     },
     "metadata": {},
     "output_type": "display_data"
    },
    {
     "name": "stdout",
     "output_type": "stream",
     "text": [
      "Cost after epoch 0: 0.002963\n",
      "Cost after epoch 10: 0.002691\n",
      "Cost after epoch 20: 0.002691\n",
      "Training error: 0.001897\n",
      "Validation error: 0.011026\n",
      "loaded exising dataset\n",
      "Iteration 59\n"
     ]
    },
    {
     "data": {
      "application/vnd.jupyter.widget-view+json": {
       "model_id": "26db6ad3ab004f98adc13701c6aac9a9",
       "version_major": 2,
       "version_minor": 0
      },
      "text/plain": [
       "A Jupyter Widget"
      ]
     },
     "metadata": {},
     "output_type": "display_data"
    },
    {
     "name": "stdout",
     "output_type": "stream",
     "text": [
      "Cost after epoch 0: 0.005903\n",
      "Cost after epoch 10: 0.005728\n",
      "Cost after epoch 20: 0.005727\n",
      "Training error: 0.003071\n",
      "Validation error: 0.004885\n",
      "loaded exising dataset\n",
      "Iteration 60\n"
     ]
    },
    {
     "data": {
      "application/vnd.jupyter.widget-view+json": {
       "model_id": "bd7f80f14daf4a149dc6cd6c0cc25e36",
       "version_major": 2,
       "version_minor": 0
      },
      "text/plain": [
       "A Jupyter Widget"
      ]
     },
     "metadata": {},
     "output_type": "display_data"
    },
    {
     "name": "stdout",
     "output_type": "stream",
     "text": [
      "Cost after epoch 0: 0.003075\n",
      "Cost after epoch 10: 0.002943\n",
      "Cost after epoch 20: 0.002943\n",
      "Training error: 0.002232\n",
      "Validation error: 0.010301\n",
      "loaded exising dataset\n",
      "Iteration 61\n"
     ]
    },
    {
     "data": {
      "application/vnd.jupyter.widget-view+json": {
       "model_id": "41b9e3dccd7349edbb7c1791359be22a",
       "version_major": 2,
       "version_minor": 0
      },
      "text/plain": [
       "A Jupyter Widget"
      ]
     },
     "metadata": {},
     "output_type": "display_data"
    },
    {
     "name": "stdout",
     "output_type": "stream",
     "text": [
      "Cost after epoch 0: 0.007332\n",
      "Cost after epoch 10: 0.006967\n",
      "Cost after epoch 20: 0.006976\n",
      "Training error: 0.003287\n",
      "Validation error: 0.004672\n",
      "loaded exising dataset\n",
      "Iteration 62\n"
     ]
    },
    {
     "data": {
      "application/vnd.jupyter.widget-view+json": {
       "model_id": "3d727c1a4dba4fe198a9f1ad076ae763",
       "version_major": 2,
       "version_minor": 0
      },
      "text/plain": [
       "A Jupyter Widget"
      ]
     },
     "metadata": {},
     "output_type": "display_data"
    },
    {
     "name": "stdout",
     "output_type": "stream",
     "text": [
      "Cost after epoch 0: 0.006616\n",
      "Cost after epoch 10: 0.006504\n",
      "Cost after epoch 20: 0.006500\n",
      "Training error: 0.003967\n",
      "Validation error: 0.004921\n",
      "loaded exising dataset\n",
      "Iteration 63\n"
     ]
    },
    {
     "data": {
      "application/vnd.jupyter.widget-view+json": {
       "model_id": "952292a0b62149e491bdff4aa910af19",
       "version_major": 2,
       "version_minor": 0
      },
      "text/plain": [
       "A Jupyter Widget"
      ]
     },
     "metadata": {},
     "output_type": "display_data"
    },
    {
     "name": "stdout",
     "output_type": "stream",
     "text": [
      "Cost after epoch 0: 0.003695\n",
      "Cost after epoch 10: 0.003584\n",
      "Cost after epoch 20: 0.003584\n",
      "Training error: 0.002400\n",
      "Validation error: 0.011366\n",
      "loaded exising dataset\n",
      "Iteration 64\n"
     ]
    },
    {
     "data": {
      "application/vnd.jupyter.widget-view+json": {
       "model_id": "dbc1867f7b744b788ea2cb9a6a407694",
       "version_major": 2,
       "version_minor": 0
      },
      "text/plain": [
       "A Jupyter Widget"
      ]
     },
     "metadata": {},
     "output_type": "display_data"
    },
    {
     "name": "stdout",
     "output_type": "stream",
     "text": [
      "Cost after epoch 0: 0.005364\n",
      "Cost after epoch 10: 0.005323\n",
      "Cost after epoch 20: 0.005322\n",
      "Training error: 0.003037\n",
      "Validation error: 0.005995\n",
      "loaded exising dataset\n",
      "Iteration 65\n"
     ]
    },
    {
     "data": {
      "application/vnd.jupyter.widget-view+json": {
       "model_id": "d7e68ac23ffd4da18fab20e66f2ae98f",
       "version_major": 2,
       "version_minor": 0
      },
      "text/plain": [
       "A Jupyter Widget"
      ]
     },
     "metadata": {},
     "output_type": "display_data"
    },
    {
     "name": "stdout",
     "output_type": "stream",
     "text": [
      "Cost after epoch 0: 0.009559\n",
      "Cost after epoch 10: 0.008799\n",
      "Cost after epoch 20: 0.008811\n",
      "Training error: 0.006948\n",
      "Validation error: 0.003434\n"
     ]
    },
    {
     "data": {
      "image/png": "[encoded data removed]",
      "text/plain": [
       "<matplotlib.figure.Figure at 0x2268dde8550>"
      ]
     },
     "metadata": {},
     "output_type": "display_data"
    },
    {
     "name": "stdout",
     "output_type": "stream",
     "text": [
      "Parameters have been trained!\n",
      "Saving parameters\n",
      "pkl saved\n",
      "Training Session 3\n",
      "loaded exising dataset\n",
      "Past parameters updated\n",
      "Iteration 0\n"
     ]
    },
    {
     "data": {
      "application/vnd.jupyter.widget-view+json": {
       "model_id": "365b9bb160e24c618cd792b698415671",
       "version_major": 2,
       "version_minor": 0
      },
      "text/plain": [
       "A Jupyter Widget"
      ]
     },
     "metadata": {},
     "output_type": "display_data"
    },
    {
     "name": "stdout",
     "output_type": "stream",
     "text": [
      "Cost after epoch 0: 0.009651\n",
      "Cost after epoch 10: 0.009380\n",
      "Cost after epoch 20: 0.009378\n",
      "Training error: 0.005097\n",
      "Validation error: 0.004285\n",
      "loaded exising dataset\n",
      "Iteration 1\n"
     ]
    },
    {
     "data": {
      "application/vnd.jupyter.widget-view+json": {
       "model_id": "8180cdc89c7b474b8cd36128ea2bdff4",
       "version_major": 2,
       "version_minor": 0
      },
      "text/plain": [
       "A Jupyter Widget"
      ]
     },
     "metadata": {},
     "output_type": "display_data"
    },
    {
     "name": "stdout",
     "output_type": "stream",
     "text": [
      "Cost after epoch 0: 0.006153\n",
      "Cost after epoch 10: 0.005753\n",
      "Cost after epoch 20: 0.005754\n",
      "Training error: 0.002796\n",
      "Validation error: 0.009476\n",
      "loaded exising dataset\n",
      "Iteration 2\n"
     ]
    },
    {
     "data": {
      "application/vnd.jupyter.widget-view+json": {
       "model_id": "01598aab92334c39adb536f0bf82eb0f",
       "version_major": 2,
       "version_minor": 0
      },
      "text/plain": [
       "A Jupyter Widget"
      ]
     },
     "metadata": {},
     "output_type": "display_data"
    },
    {
     "name": "stdout",
     "output_type": "stream",
     "text": [
      "Cost after epoch 0: 0.004117\n",
      "Cost after epoch 10: 0.004115\n",
      "Cost after epoch 20: 0.004118\n",
      "Training error: 0.002076\n",
      "Validation error: 0.009382\n",
      "loaded exising dataset\n",
      "Iteration 3\n"
     ]
    },
    {
     "data": {
      "application/vnd.jupyter.widget-view+json": {
       "model_id": "a0e4aca9cf1041af8a863b3e78adbe33",
       "version_major": 2,
       "version_minor": 0
      },
      "text/plain": [
       "A Jupyter Widget"
      ]
     },
     "metadata": {},
     "output_type": "display_data"
    },
    {
     "name": "stdout",
     "output_type": "stream",
     "text": [
      "Cost after epoch 0: 0.004085\n",
      "Cost after epoch 10: 0.004086\n",
      "Cost after epoch 20: 0.004083\n",
      "Training error: 0.002489\n",
      "Validation error: 0.010067\n",
      "loaded exising dataset\n",
      "Iteration 4\n"
     ]
    },
    {
     "data": {
      "application/vnd.jupyter.widget-view+json": {
       "model_id": "2c2b107801c5453c87cbfd0dc631ee73",
       "version_major": 2,
       "version_minor": 0
      },
      "text/plain": [
       "A Jupyter Widget"
      ]
     },
     "metadata": {},
     "output_type": "display_data"
    },
    {
     "name": "stdout",
     "output_type": "stream",
     "text": [
      "Cost after epoch 0: 0.006250\n",
      "Cost after epoch 10: 0.006094\n",
      "Cost after epoch 20: 0.006094\n",
      "Training error: 0.003026\n",
      "Validation error: 0.005008\n",
      "loaded exising dataset\n",
      "Iteration 5\n"
     ]
    },
    {
     "data": {
      "application/vnd.jupyter.widget-view+json": {
       "model_id": "430d506290d545639e578999bf2065a4",
       "version_major": 2,
       "version_minor": 0
      },
      "text/plain": [
       "A Jupyter Widget"
      ]
     },
     "metadata": {},
     "output_type": "display_data"
    },
    {
     "name": "stdout",
     "output_type": "stream",
     "text": [
      "Cost after epoch 0: 0.006627\n",
      "Cost after epoch 10: 0.006601\n",
      "Cost after epoch 20: 0.006597\n",
      "Training error: 0.003451\n",
      "Validation error: 0.004636\n",
      "loaded exising dataset\n",
      "Iteration 6\n"
     ]
    },
    {
     "data": {
      "application/vnd.jupyter.widget-view+json": {
       "model_id": "8e348c06107a4cb499abbd51c160f34d",
       "version_major": 2,
       "version_minor": 0
      },
      "text/plain": [
       "A Jupyter Widget"
      ]
     },
     "metadata": {},
     "output_type": "display_data"
    },
    {
     "name": "stdout",
     "output_type": "stream",
     "text": [
      "Cost after epoch 0: 0.007082\n",
      "Cost after epoch 10: 0.007003\n",
      "Cost after epoch 20: 0.006996\n",
      "Training error: 0.004079\n",
      "Validation error: 0.004545\n",
      "loaded exising dataset\n",
      "Iteration 7\n"
     ]
    },
    {
     "data": {
      "application/vnd.jupyter.widget-view+json": {
       "model_id": "f81bc9bafb5b43308f49dff4384dbf9b",
       "version_major": 2,
       "version_minor": 0
      },
      "text/plain": [
       "A Jupyter Widget"
      ]
     },
     "metadata": {},
     "output_type": "display_data"
    },
    {
     "name": "stdout",
     "output_type": "stream",
     "text": [
      "Cost after epoch 0: 0.005292\n",
      "Cost after epoch 10: 0.005154\n",
      "Cost after epoch 20: 0.005151\n",
      "Training error: 0.002468\n",
      "Validation error: 0.005384\n",
      "loaded exising dataset\n",
      "Iteration 8\n"
     ]
    },
    {
     "data": {
      "application/vnd.jupyter.widget-view+json": {
       "model_id": "032622d621d743898f42d39303ef9b67",
       "version_major": 2,
       "version_minor": 0
      },
      "text/plain": [
       "A Jupyter Widget"
      ]
     },
     "metadata": {},
     "output_type": "display_data"
    },
    {
     "name": "stdout",
     "output_type": "stream",
     "text": [
      "Cost after epoch 0: 0.006703\n",
      "Cost after epoch 10: 0.006634\n",
      "Cost after epoch 20: 0.006634\n",
      "Training error: 0.003644\n",
      "Validation error: 0.004596\n",
      "loaded exising dataset\n",
      "Iteration 9\n"
     ]
    },
    {
     "data": {
      "application/vnd.jupyter.widget-view+json": {
       "model_id": "d62c1c2740534bd689b286e1011edef2",
       "version_major": 2,
       "version_minor": 0
      },
      "text/plain": [
       "A Jupyter Widget"
      ]
     },
     "metadata": {},
     "output_type": "display_data"
    },
    {
     "name": "stdout",
     "output_type": "stream",
     "text": [
      "Cost after epoch 0: 0.007638\n",
      "Cost after epoch 10: 0.007514\n",
      "Cost after epoch 20: 0.007517\n",
      "Training error: 0.005258\n",
      "Validation error: 0.004107\n",
      "loaded exising dataset\n",
      "Iteration 10\n"
     ]
    },
    {
     "data": {
      "application/vnd.jupyter.widget-view+json": {
       "model_id": "8eaaaa09397544ecbec78a59e3dbd234",
       "version_major": 2,
       "version_minor": 0
      },
      "text/plain": [
       "A Jupyter Widget"
      ]
     },
     "metadata": {},
     "output_type": "display_data"
    },
    {
     "name": "stdout",
     "output_type": "stream",
     "text": [
      "Cost after epoch 0: 0.007706\n",
      "Cost after epoch 10: 0.007584\n",
      "Cost after epoch 20: 0.007588\n",
      "Training error: 0.004307\n",
      "Validation error: 0.004932\n",
      "loaded exising dataset\n",
      "Iteration 11\n"
     ]
    },
    {
     "data": {
      "application/vnd.jupyter.widget-view+json": {
       "model_id": "b0dc60637d034feca727e6f2bf229150",
       "version_major": 2,
       "version_minor": 0
      },
      "text/plain": [
       "A Jupyter Widget"
      ]
     },
     "metadata": {},
     "output_type": "display_data"
    },
    {
     "name": "stdout",
     "output_type": "stream",
     "text": [
      "Cost after epoch 0: 0.007362\n",
      "Cost after epoch 10: 0.007345\n",
      "Cost after epoch 20: 0.007335\n",
      "Training error: 0.003455\n",
      "Validation error: 0.004881\n",
      "loaded exising dataset\n",
      "Iteration 12\n"
     ]
    },
    {
     "data": {
      "application/vnd.jupyter.widget-view+json": {
       "model_id": "6ec5df16c7ff4843a2b593cee89b3f44",
       "version_major": 2,
       "version_minor": 0
      },
      "text/plain": [
       "A Jupyter Widget"
      ]
     },
     "metadata": {},
     "output_type": "display_data"
    },
    {
     "name": "stdout",
     "output_type": "stream",
     "text": [
      "Cost after epoch 0: 0.007143\n",
      "Cost after epoch 10: 0.007080\n",
      "Cost after epoch 20: 0.007085\n",
      "Training error: 0.003941\n",
      "Validation error: 0.004821\n",
      "loaded exising dataset\n",
      "Iteration 13\n"
     ]
    },
    {
     "data": {
      "application/vnd.jupyter.widget-view+json": {
       "model_id": "5244697321e84ff5bfa15da895dd34b0",
       "version_major": 2,
       "version_minor": 0
      },
      "text/plain": [
       "A Jupyter Widget"
      ]
     },
     "metadata": {},
     "output_type": "display_data"
    },
    {
     "name": "stdout",
     "output_type": "stream",
     "text": [
      "Cost after epoch 0: 0.007718\n",
      "Cost after epoch 10: 0.007696\n",
      "Cost after epoch 20: 0.007712\n",
      "Training error: 0.004187\n",
      "Validation error: 0.005014\n",
      "loaded exising dataset\n",
      "Iteration 14\n"
     ]
    },
    {
     "data": {
      "application/vnd.jupyter.widget-view+json": {
       "model_id": "3500949845ab492899a27ad3322161e9",
       "version_major": 2,
       "version_minor": 0
      },
      "text/plain": [
       "A Jupyter Widget"
      ]
     },
     "metadata": {},
     "output_type": "display_data"
    },
    {
     "name": "stdout",
     "output_type": "stream",
     "text": [
      "Cost after epoch 0: 0.008241\n",
      "Cost after epoch 10: 0.008151\n",
      "Cost after epoch 20: 0.008160\n",
      "Training error: 0.004327\n",
      "Validation error: 0.004357\n",
      "loaded exising dataset\n",
      "Iteration 15\n"
     ]
    },
    {
     "data": {
      "application/vnd.jupyter.widget-view+json": {
       "model_id": "4181b959ab6d453a85ec368767a17911",
       "version_major": 2,
       "version_minor": 0
      },
      "text/plain": [
       "A Jupyter Widget"
      ]
     },
     "metadata": {},
     "output_type": "display_data"
    },
    {
     "name": "stdout",
     "output_type": "stream",
     "text": [
      "Cost after epoch 0: 0.008461\n",
      "Cost after epoch 10: 0.008111\n",
      "Cost after epoch 20: 0.008111\n",
      "Training error: 0.006138\n",
      "Validation error: 0.003548\n",
      "loaded exising dataset\n",
      "Iteration 16\n"
     ]
    },
    {
     "data": {
      "application/vnd.jupyter.widget-view+json": {
       "model_id": "b2e9d7d5a7944516b0f8ede4c64df0dd",
       "version_major": 2,
       "version_minor": 0
      },
      "text/plain": [
       "A Jupyter Widget"
      ]
     },
     "metadata": {},
     "output_type": "display_data"
    },
    {
     "name": "stdout",
     "output_type": "stream",
     "text": [
      "Cost after epoch 0: 0.005090\n",
      "Cost after epoch 10: 0.004181\n",
      "Cost after epoch 20: 0.004181\n",
      "Training error: 0.002735\n",
      "Validation error: 0.010904\n",
      "loaded exising dataset\n",
      "Iteration 17\n"
     ]
    },
    {
     "data": {
      "application/vnd.jupyter.widget-view+json": {
       "model_id": "784c066942db48688107cee54682772e",
       "version_major": 2,
       "version_minor": 0
      },
      "text/plain": [
       "A Jupyter Widget"
      ]
     },
     "metadata": {},
     "output_type": "display_data"
    },
    {
     "name": "stdout",
     "output_type": "stream",
     "text": [
      "Cost after epoch 0: 0.004070\n",
      "Cost after epoch 10: 0.004038\n",
      "Cost after epoch 20: 0.004039\n",
      "Training error: 0.002752\n",
      "Validation error: 0.005751\n",
      "loaded exising dataset\n",
      "Iteration 18\n"
     ]
    },
    {
     "data": {
      "application/vnd.jupyter.widget-view+json": {
       "model_id": "b984fe06d7794b87ab96f9b4179e70df",
       "version_major": 2,
       "version_minor": 0
      },
      "text/plain": [
       "A Jupyter Widget"
      ]
     },
     "metadata": {},
     "output_type": "display_data"
    },
    {
     "name": "stdout",
     "output_type": "stream",
     "text": [
      "Cost after epoch 0: 0.004673\n",
      "Cost after epoch 10: 0.004670\n",
      "Cost after epoch 20: 0.004669\n",
      "Training error: 0.002568\n",
      "Validation error: 0.005757\n",
      "loaded exising dataset\n",
      "Iteration 19\n"
     ]
    },
    {
     "data": {
      "application/vnd.jupyter.widget-view+json": {
       "model_id": "c3c71bd216ff4e43920ef6f5707d5c7d",
       "version_major": 2,
       "version_minor": 0
      },
      "text/plain": [
       "A Jupyter Widget"
      ]
     },
     "metadata": {},
     "output_type": "display_data"
    },
    {
     "name": "stdout",
     "output_type": "stream",
     "text": [
      "Cost after epoch 0: 0.005394\n",
      "Cost after epoch 10: 0.005387\n",
      "Cost after epoch 20: 0.005388\n",
      "Training error: 0.002697\n",
      "Validation error: 0.006805\n",
      "loaded exising dataset\n",
      "Iteration 20\n"
     ]
    },
    {
     "data": {
      "application/vnd.jupyter.widget-view+json": {
       "model_id": "93d0bf46bad14a199f470f0e64ce1356",
       "version_major": 2,
       "version_minor": 0
      },
      "text/plain": [
       "A Jupyter Widget"
      ]
     },
     "metadata": {},
     "output_type": "display_data"
    },
    {
     "name": "stdout",
     "output_type": "stream",
     "text": [
      "Cost after epoch 0: 0.003424\n",
      "Cost after epoch 10: 0.003283\n",
      "Cost after epoch 20: 0.003283\n",
      "Training error: 0.002317\n",
      "Validation error: 0.027131\n",
      "loaded exising dataset\n",
      "Iteration 21\n"
     ]
    },
    {
     "data": {
      "application/vnd.jupyter.widget-view+json": {
       "model_id": "e90717702093404495d1f734e5fe62a1",
       "version_major": 2,
       "version_minor": 0
      },
      "text/plain": [
       "A Jupyter Widget"
      ]
     },
     "metadata": {},
     "output_type": "display_data"
    },
    {
     "name": "stdout",
     "output_type": "stream",
     "text": [
      "Cost after epoch 0: 0.004799\n",
      "Cost after epoch 10: 0.004566\n",
      "Cost after epoch 20: 0.004564\n",
      "Training error: 0.002358\n",
      "Validation error: 0.005766\n",
      "loaded exising dataset\n",
      "Iteration 22\n"
     ]
    },
    {
     "data": {
      "application/vnd.jupyter.widget-view+json": {
       "model_id": "f7c683a3e9df43ed9983fd6288d8ceff",
       "version_major": 2,
       "version_minor": 0
      },
      "text/plain": [
       "A Jupyter Widget"
      ]
     },
     "metadata": {},
     "output_type": "display_data"
    },
    {
     "name": "stdout",
     "output_type": "stream",
     "text": [
      "Cost after epoch 0: 0.006533\n",
      "Cost after epoch 10: 0.006529\n",
      "Cost after epoch 20: 0.006528\n",
      "Training error: 0.003263\n",
      "Validation error: 0.005953\n",
      "loaded exising dataset\n",
      "Iteration 23\n"
     ]
    },
    {
     "data": {
      "application/vnd.jupyter.widget-view+json": {
       "model_id": "8174e29671c64096aca602ed7e122cfa",
       "version_major": 2,
       "version_minor": 0
      },
      "text/plain": [
       "A Jupyter Widget"
      ]
     },
     "metadata": {},
     "output_type": "display_data"
    },
    {
     "name": "stdout",
     "output_type": "stream",
     "text": [
      "Cost after epoch 0: 0.006023\n",
      "Cost after epoch 10: 0.006007\n",
      "Cost after epoch 20: 0.006012\n",
      "Training error: 0.003322\n",
      "Validation error: 0.005526\n",
      "loaded exising dataset\n",
      "Iteration 24\n"
     ]
    },
    {
     "data": {
      "application/vnd.jupyter.widget-view+json": {
       "model_id": "a20d193b16a74ae792b32a35179891af",
       "version_major": 2,
       "version_minor": 0
      },
      "text/plain": [
       "A Jupyter Widget"
      ]
     },
     "metadata": {},
     "output_type": "display_data"
    },
    {
     "name": "stdout",
     "output_type": "stream",
     "text": [
      "Cost after epoch 0: 0.010568\n",
      "Cost after epoch 10: 0.010159\n",
      "Cost after epoch 20: 0.010158\n",
      "Training error: 0.004893\n",
      "Validation error: 0.004108\n",
      "loaded exising dataset\n",
      "Iteration 25\n"
     ]
    },
    {
     "data": {
      "application/vnd.jupyter.widget-view+json": {
       "model_id": "7ab523cb200a471f91bfedd09248ca45",
       "version_major": 2,
       "version_minor": 0
      },
      "text/plain": [
       "A Jupyter Widget"
      ]
     },
     "metadata": {},
     "output_type": "display_data"
    },
    {
     "name": "stdout",
     "output_type": "stream",
     "text": [
      "Cost after epoch 0: 0.007364\n",
      "Cost after epoch 10: 0.007132\n",
      "Cost after epoch 20: 0.007139\n",
      "Training error: 0.004364\n",
      "Validation error: 0.004895\n",
      "loaded exising dataset\n",
      "Iteration 26\n"
     ]
    },
    {
     "data": {
      "application/vnd.jupyter.widget-view+json": {
       "model_id": "1a74061bd8ce40d6b08bb8da580adb1b",
       "version_major": 2,
       "version_minor": 0
      },
      "text/plain": [
       "A Jupyter Widget"
      ]
     },
     "metadata": {},
     "output_type": "display_data"
    },
    {
     "name": "stdout",
     "output_type": "stream",
     "text": [
      "Cost after epoch 0: 0.006226\n",
      "Cost after epoch 10: 0.006182\n",
      "Cost after epoch 20: 0.006176\n",
      "Training error: 0.003820\n",
      "Validation error: 0.004470\n",
      "loaded exising dataset\n",
      "Iteration 27\n"
     ]
    },
    {
     "data": {
      "application/vnd.jupyter.widget-view+json": {
       "model_id": "ee733ab9b25f4eee92299117a60bfeac",
       "version_major": 2,
       "version_minor": 0
      },
      "text/plain": [
       "A Jupyter Widget"
      ]
     },
     "metadata": {},
     "output_type": "display_data"
    },
    {
     "name": "stdout",
     "output_type": "stream",
     "text": [
      "Cost after epoch 0: 0.004555\n",
      "Cost after epoch 10: 0.004372\n",
      "Cost after epoch 20: 0.004368\n",
      "Training error: 0.003233\n",
      "Validation error: 0.005610\n",
      "loaded exising dataset\n",
      "Iteration 28\n"
     ]
    },
    {
     "data": {
      "application/vnd.jupyter.widget-view+json": {
       "model_id": "05ef98b4859f49339e3ff2746b18d465",
       "version_major": 2,
       "version_minor": 0
      },
      "text/plain": [
       "A Jupyter Widget"
      ]
     },
     "metadata": {},
     "output_type": "display_data"
    },
    {
     "name": "stdout",
     "output_type": "stream",
     "text": [
      "Cost after epoch 0: 0.004367\n",
      "Cost after epoch 10: 0.004358\n",
      "Cost after epoch 20: 0.004354\n",
      "Training error: 0.002788\n",
      "Validation error: 0.007015\n",
      "loaded exising dataset\n",
      "Iteration 29\n"
     ]
    },
    {
     "data": {
      "application/vnd.jupyter.widget-view+json": {
       "model_id": "c2663a845ab149fc9382f543999f77d8",
       "version_major": 2,
       "version_minor": 0
      },
      "text/plain": [
       "A Jupyter Widget"
      ]
     },
     "metadata": {},
     "output_type": "display_data"
    },
    {
     "name": "stdout",
     "output_type": "stream",
     "text": [
      "Cost after epoch 0: 0.007673\n",
      "Cost after epoch 10: 0.007487\n",
      "Cost after epoch 20: 0.007479\n",
      "Training error: 0.003901\n",
      "Validation error: 0.004513\n",
      "loaded exising dataset\n",
      "Iteration 30\n"
     ]
    },
    {
     "data": {
      "application/vnd.jupyter.widget-view+json": {
       "model_id": "78153a64644644d3818290edb563d67e",
       "version_major": 2,
       "version_minor": 0
      },
      "text/plain": [
       "A Jupyter Widget"
      ]
     },
     "metadata": {},
     "output_type": "display_data"
    },
    {
     "name": "stdout",
     "output_type": "stream",
     "text": [
      "Cost after epoch 0: 0.004984\n",
      "Cost after epoch 10: 0.004827\n",
      "Cost after epoch 20: 0.004828\n",
      "Training error: 0.003149\n",
      "Validation error: 0.005821\n",
      "loaded exising dataset\n",
      "Iteration 31\n"
     ]
    },
    {
     "data": {
      "application/vnd.jupyter.widget-view+json": {
       "model_id": "cc9bc9ae49a14faa86da9da7a2deb3b1",
       "version_major": 2,
       "version_minor": 0
      },
      "text/plain": [
       "A Jupyter Widget"
      ]
     },
     "metadata": {},
     "output_type": "display_data"
    },
    {
     "name": "stdout",
     "output_type": "stream",
     "text": [
      "Cost after epoch 0: 0.005703\n",
      "Cost after epoch 10: 0.005695\n",
      "Cost after epoch 20: 0.005694\n",
      "Training error: 0.003083\n",
      "Validation error: 0.006802\n",
      "loaded exising dataset\n",
      "Iteration 32\n"
     ]
    },
    {
     "data": {
      "application/vnd.jupyter.widget-view+json": {
       "model_id": "e29612779d3f46039ed22485136e3068",
       "version_major": 2,
       "version_minor": 0
      },
      "text/plain": [
       "A Jupyter Widget"
      ]
     },
     "metadata": {},
     "output_type": "display_data"
    },
    {
     "name": "stdout",
     "output_type": "stream",
     "text": [
      "Cost after epoch 0: 0.008395\n",
      "Cost after epoch 10: 0.008048\n",
      "Cost after epoch 20: 0.008040\n",
      "Training error: 0.004711\n",
      "Validation error: 0.003903\n",
      "loaded exising dataset\n",
      "Iteration 33\n"
     ]
    },
    {
     "data": {
      "application/vnd.jupyter.widget-view+json": {
       "model_id": "914cafb097b54179b5c8a45ba79d3ec1",
       "version_major": 2,
       "version_minor": 0
      },
      "text/plain": [
       "A Jupyter Widget"
      ]
     },
     "metadata": {},
     "output_type": "display_data"
    },
    {
     "name": "stdout",
     "output_type": "stream",
     "text": [
      "Cost after epoch 0: 0.005223\n",
      "Cost after epoch 10: 0.004656\n",
      "Cost after epoch 20: 0.004654\n",
      "Training error: 0.002432\n",
      "Validation error: 0.008068\n",
      "loaded exising dataset\n",
      "Iteration 34\n"
     ]
    },
    {
     "data": {
      "application/vnd.jupyter.widget-view+json": {
       "model_id": "a02737b747064dccb13726412a9d8976",
       "version_major": 2,
       "version_minor": 0
      },
      "text/plain": [
       "A Jupyter Widget"
      ]
     },
     "metadata": {},
     "output_type": "display_data"
    },
    {
     "name": "stdout",
     "output_type": "stream",
     "text": [
      "Cost after epoch 0: 0.007095\n",
      "Cost after epoch 10: 0.006909\n",
      "Cost after epoch 20: 0.006913\n",
      "Training error: 0.003635\n",
      "Validation error: 0.005007\n",
      "loaded exising dataset\n",
      "Iteration 35\n"
     ]
    },
    {
     "data": {
      "application/vnd.jupyter.widget-view+json": {
       "model_id": "edecc5993acd440fbc7544829e397719",
       "version_major": 2,
       "version_minor": 0
      },
      "text/plain": [
       "A Jupyter Widget"
      ]
     },
     "metadata": {},
     "output_type": "display_data"
    },
    {
     "name": "stdout",
     "output_type": "stream",
     "text": [
      "Cost after epoch 0: 0.004403\n",
      "Cost after epoch 10: 0.004142\n",
      "Cost after epoch 20: 0.004141\n",
      "Training error: 0.002087\n",
      "Validation error: 0.009824\n",
      "loaded exising dataset\n",
      "Iteration 36\n"
     ]
    },
    {
     "data": {
      "application/vnd.jupyter.widget-view+json": {
       "model_id": "3d75a5047c544964b29ab8cacd6e9ac5",
       "version_major": 2,
       "version_minor": 0
      },
      "text/plain": [
       "A Jupyter Widget"
      ]
     },
     "metadata": {},
     "output_type": "display_data"
    },
    {
     "name": "stdout",
     "output_type": "stream",
     "text": [
      "Cost after epoch 0: 0.009673\n",
      "Cost after epoch 10: 0.009510\n",
      "Cost after epoch 20: 0.009515\n",
      "Training error: 0.004321\n",
      "Validation error: 0.004652\n",
      "loaded exising dataset\n",
      "Iteration 37\n"
     ]
    },
    {
     "data": {
      "application/vnd.jupyter.widget-view+json": {
       "model_id": "1db389ecdbab4d798c626283b01cf0b6",
       "version_major": 2,
       "version_minor": 0
      },
      "text/plain": [
       "A Jupyter Widget"
      ]
     },
     "metadata": {},
     "output_type": "display_data"
    },
    {
     "name": "stdout",
     "output_type": "stream",
     "text": [
      "Cost after epoch 0: 0.005787\n",
      "Cost after epoch 10: 0.005711\n",
      "Cost after epoch 20: 0.005713\n",
      "Training error: 0.003335\n",
      "Validation error: 0.006600\n",
      "loaded exising dataset\n",
      "Iteration 38\n"
     ]
    },
    {
     "data": {
      "application/vnd.jupyter.widget-view+json": {
       "model_id": "b7f5dd0f26c94228833663d6eb384794",
       "version_major": 2,
       "version_minor": 0
      },
      "text/plain": [
       "A Jupyter Widget"
      ]
     },
     "metadata": {},
     "output_type": "display_data"
    },
    {
     "name": "stdout",
     "output_type": "stream",
     "text": [
      "Cost after epoch 0: 0.005743\n",
      "Cost after epoch 10: 0.005667\n",
      "Cost after epoch 20: 0.005662\n",
      "Training error: 0.004002\n",
      "Validation error: 0.004561\n",
      "loaded exising dataset\n",
      "Iteration 39\n"
     ]
    },
    {
     "data": {
      "application/vnd.jupyter.widget-view+json": {
       "model_id": "9c9ed269f3c5488491edd8dcd00a15d3",
       "version_major": 2,
       "version_minor": 0
      },
      "text/plain": [
       "A Jupyter Widget"
      ]
     },
     "metadata": {},
     "output_type": "display_data"
    },
    {
     "name": "stdout",
     "output_type": "stream",
     "text": [
      "Cost after epoch 0: 0.006545\n",
      "Cost after epoch 10: 0.006297\n",
      "Cost after epoch 20: 0.006299\n",
      "Training error: 0.003354\n",
      "Validation error: 0.004574\n",
      "loaded exising dataset\n",
      "Iteration 40\n"
     ]
    },
    {
     "data": {
      "application/vnd.jupyter.widget-view+json": {
       "model_id": "df491a7c09e14ce5a7b320a2255b8483",
       "version_major": 2,
       "version_minor": 0
      },
      "text/plain": [
       "A Jupyter Widget"
      ]
     },
     "metadata": {},
     "output_type": "display_data"
    },
    {
     "name": "stdout",
     "output_type": "stream",
     "text": [
      "Cost after epoch 0: 0.006745\n",
      "Cost after epoch 10: 0.006078\n",
      "Cost after epoch 20: 0.006074\n",
      "Training error: 0.002770\n",
      "Validation error: 0.014924\n",
      "loaded exising dataset\n",
      "Iteration 41\n"
     ]
    },
    {
     "data": {
      "application/vnd.jupyter.widget-view+json": {
       "model_id": "a07b5b0e4e93429aa9bcbb840ddfa465",
       "version_major": 2,
       "version_minor": 0
      },
      "text/plain": [
       "A Jupyter Widget"
      ]
     },
     "metadata": {},
     "output_type": "display_data"
    },
    {
     "name": "stdout",
     "output_type": "stream",
     "text": [
      "Cost after epoch 0: 0.006664\n",
      "Cost after epoch 10: 0.006495\n",
      "Cost after epoch 20: 0.006500\n",
      "Training error: 0.003566\n",
      "Validation error: 0.004994\n",
      "loaded exising dataset\n",
      "Iteration 42\n"
     ]
    },
    {
     "data": {
      "application/vnd.jupyter.widget-view+json": {
       "model_id": "8e32bbd77e4341c78844e4e042eb242d",
       "version_major": 2,
       "version_minor": 0
      },
      "text/plain": [
       "A Jupyter Widget"
      ]
     },
     "metadata": {},
     "output_type": "display_data"
    },
    {
     "name": "stdout",
     "output_type": "stream",
     "text": [
      "Cost after epoch 0: 0.004577\n",
      "Cost after epoch 10: 0.004488\n",
      "Cost after epoch 20: 0.004489\n",
      "Training error: 0.002429\n",
      "Validation error: 0.007965\n",
      "loaded exising dataset\n",
      "Iteration 43\n"
     ]
    },
    {
     "data": {
      "application/vnd.jupyter.widget-view+json": {
       "model_id": "2451f868bd674481acac6d927d22c858",
       "version_major": 2,
       "version_minor": 0
      },
      "text/plain": [
       "A Jupyter Widget"
      ]
     },
     "metadata": {},
     "output_type": "display_data"
    },
    {
     "name": "stdout",
     "output_type": "stream",
     "text": [
      "Cost after epoch 0: 0.004747\n",
      "Cost after epoch 10: 0.004723\n",
      "Cost after epoch 20: 0.004725\n",
      "Training error: 0.003007\n",
      "Validation error: 0.005793\n",
      "loaded exising dataset\n",
      "Iteration 44\n"
     ]
    },
    {
     "data": {
      "application/vnd.jupyter.widget-view+json": {
       "model_id": "0ffd6448d9224c6cbd82fbee2064acc9",
       "version_major": 2,
       "version_minor": 0
      },
      "text/plain": [
       "A Jupyter Widget"
      ]
     },
     "metadata": {},
     "output_type": "display_data"
    },
    {
     "name": "stdout",
     "output_type": "stream",
     "text": [
      "Cost after epoch 0: 0.005163\n",
      "Cost after epoch 10: 0.005164\n",
      "Cost after epoch 20: 0.005163\n",
      "Training error: 0.003094\n",
      "Validation error: 0.006123\n",
      "loaded exising dataset\n",
      "Iteration 45\n"
     ]
    },
    {
     "data": {
      "application/vnd.jupyter.widget-view+json": {
       "model_id": "a0ea112416ad42c58ceea6ef172650eb",
       "version_major": 2,
       "version_minor": 0
      },
      "text/plain": [
       "A Jupyter Widget"
      ]
     },
     "metadata": {},
     "output_type": "display_data"
    },
    {
     "name": "stdout",
     "output_type": "stream",
     "text": [
      "Cost after epoch 0: 0.004845\n",
      "Cost after epoch 10: 0.004844\n",
      "Cost after epoch 20: 0.004842\n",
      "Training error: 0.002408\n",
      "Validation error: 0.007489\n",
      "loaded exising dataset\n",
      "Iteration 46\n"
     ]
    },
    {
     "data": {
      "application/vnd.jupyter.widget-view+json": {
       "model_id": "9862e97ade344dae9c5a16a05fb06059",
       "version_major": 2,
       "version_minor": 0
      },
      "text/plain": [
       "A Jupyter Widget"
      ]
     },
     "metadata": {},
     "output_type": "display_data"
    },
    {
     "name": "stdout",
     "output_type": "stream",
     "text": [
      "Cost after epoch 0: 0.005691\n",
      "Cost after epoch 10: 0.005687\n",
      "Cost after epoch 20: 0.005687\n",
      "Training error: 0.003202\n",
      "Validation error: 0.008269\n",
      "loaded exising dataset\n",
      "Iteration 47\n"
     ]
    },
    {
     "data": {
      "application/vnd.jupyter.widget-view+json": {
       "model_id": "66ec7de3ccb949e394a0f1c6612037e5",
       "version_major": 2,
       "version_minor": 0
      },
      "text/plain": [
       "A Jupyter Widget"
      ]
     },
     "metadata": {},
     "output_type": "display_data"
    },
    {
     "name": "stdout",
     "output_type": "stream",
     "text": [
      "Cost after epoch 0: 0.005136\n",
      "Cost after epoch 10: 0.005135\n",
      "Cost after epoch 20: 0.005135\n",
      "Training error: 0.002312\n",
      "Validation error: 0.008991\n",
      "loaded exising dataset\n",
      "Iteration 48\n"
     ]
    },
    {
     "data": {
      "application/vnd.jupyter.widget-view+json": {
       "model_id": "77b1c7df6cce4d0e8790a2cfc3d258c7",
       "version_major": 2,
       "version_minor": 0
      },
      "text/plain": [
       "A Jupyter Widget"
      ]
     },
     "metadata": {},
     "output_type": "display_data"
    },
    {
     "name": "stdout",
     "output_type": "stream",
     "text": [
      "Cost after epoch 0: 0.006728\n",
      "Cost after epoch 10: 0.006587\n",
      "Cost after epoch 20: 0.006589\n",
      "Training error: 0.004043\n",
      "Validation error: 0.004635\n",
      "loaded exising dataset\n",
      "Iteration 49\n"
     ]
    },
    {
     "data": {
      "application/vnd.jupyter.widget-view+json": {
       "model_id": "56c489fd62c342648ae550491ff538a0",
       "version_major": 2,
       "version_minor": 0
      },
      "text/plain": [
       "A Jupyter Widget"
      ]
     },
     "metadata": {},
     "output_type": "display_data"
    },
    {
     "name": "stdout",
     "output_type": "stream",
     "text": [
      "Cost after epoch 0: 0.004586\n",
      "Cost after epoch 10: 0.004441\n",
      "Cost after epoch 20: 0.004443\n",
      "Training error: 0.003658\n",
      "Validation error: 0.004448\n",
      "loaded exising dataset\n",
      "Iteration 50\n"
     ]
    },
    {
     "data": {
      "application/vnd.jupyter.widget-view+json": {
       "model_id": "5c4de650bfc0494691226b4f4aaeae92",
       "version_major": 2,
       "version_minor": 0
      },
      "text/plain": [
       "A Jupyter Widget"
      ]
     },
     "metadata": {},
     "output_type": "display_data"
    },
    {
     "name": "stdout",
     "output_type": "stream",
     "text": [
      "Cost after epoch 0: 0.008350\n",
      "Cost after epoch 10: 0.008107\n",
      "Cost after epoch 20: 0.008108\n",
      "Training error: 0.003913\n",
      "Validation error: 0.004725\n",
      "loaded exising dataset\n",
      "Iteration 51\n"
     ]
    },
    {
     "data": {
      "application/vnd.jupyter.widget-view+json": {
       "model_id": "1e541e2e2af14e3d9267b9778c006d5d",
       "version_major": 2,
       "version_minor": 0
      },
      "text/plain": [
       "A Jupyter Widget"
      ]
     },
     "metadata": {},
     "output_type": "display_data"
    },
    {
     "name": "stdout",
     "output_type": "stream",
     "text": [
      "Cost after epoch 0: 0.006557\n",
      "Cost after epoch 10: 0.006514\n",
      "Cost after epoch 20: 0.006510\n",
      "Training error: 0.003267\n",
      "Validation error: 0.005455\n",
      "loaded exising dataset\n",
      "Iteration 52\n"
     ]
    },
    {
     "data": {
      "application/vnd.jupyter.widget-view+json": {
       "model_id": "3fd4f8ee8f554b25971fd4cef479e3c2",
       "version_major": 2,
       "version_minor": 0
      },
      "text/plain": [
       "A Jupyter Widget"
      ]
     },
     "metadata": {},
     "output_type": "display_data"
    },
    {
     "name": "stdout",
     "output_type": "stream",
     "text": [
      "Cost after epoch 0: 0.005096\n",
      "Cost after epoch 10: 0.005077\n",
      "Cost after epoch 20: 0.005073\n",
      "Training error: 0.002448\n",
      "Validation error: 0.005867\n",
      "loaded exising dataset\n",
      "Iteration 53\n"
     ]
    },
    {
     "data": {
      "application/vnd.jupyter.widget-view+json": {
       "model_id": "50de6e9df4d241cb8141f39b2f86a76a",
       "version_major": 2,
       "version_minor": 0
      },
      "text/plain": [
       "A Jupyter Widget"
      ]
     },
     "metadata": {},
     "output_type": "display_data"
    },
    {
     "name": "stdout",
     "output_type": "stream",
     "text": [
      "Cost after epoch 0: 0.006688\n",
      "Cost after epoch 10: 0.006674\n",
      "Cost after epoch 20: 0.006670\n",
      "Training error: 0.003899\n",
      "Validation error: 0.005188\n",
      "loaded exising dataset\n",
      "Iteration 54\n"
     ]
    },
    {
     "data": {
      "application/vnd.jupyter.widget-view+json": {
       "model_id": "d4258ee626ff416ebff7d905745d7de1",
       "version_major": 2,
       "version_minor": 0
      },
      "text/plain": [
       "A Jupyter Widget"
      ]
     },
     "metadata": {},
     "output_type": "display_data"
    },
    {
     "name": "stdout",
     "output_type": "stream",
     "text": [
      "Cost after epoch 0: 0.007081\n",
      "Cost after epoch 10: 0.006983\n",
      "Cost after epoch 20: 0.006979\n",
      "Training error: 0.004596\n",
      "Validation error: 0.004416\n",
      "loaded exising dataset\n",
      "Iteration 55\n"
     ]
    },
    {
     "data": {
      "application/vnd.jupyter.widget-view+json": {
       "model_id": "82cb123c6ec044f299a2c8b137ceeae7",
       "version_major": 2,
       "version_minor": 0
      },
      "text/plain": [
       "A Jupyter Widget"
      ]
     },
     "metadata": {},
     "output_type": "display_data"
    },
    {
     "name": "stdout",
     "output_type": "stream",
     "text": [
      "Cost after epoch 0: 0.007380\n",
      "Cost after epoch 10: 0.007315\n",
      "Cost after epoch 20: 0.007322\n",
      "Training error: 0.004090\n",
      "Validation error: 0.004435\n",
      "loaded exising dataset\n",
      "Iteration 56\n"
     ]
    },
    {
     "data": {
      "application/vnd.jupyter.widget-view+json": {
       "model_id": "e2fb90016d4842e38a7599a0f3e68f28",
       "version_major": 2,
       "version_minor": 0
      },
      "text/plain": [
       "A Jupyter Widget"
      ]
     },
     "metadata": {},
     "output_type": "display_data"
    },
    {
     "name": "stdout",
     "output_type": "stream",
     "text": [
      "Cost after epoch 0: 0.005893\n",
      "Cost after epoch 10: 0.005699\n",
      "Cost after epoch 20: 0.005701\n",
      "Training error: 0.003953\n",
      "Validation error: 0.005493\n",
      "loaded exising dataset\n",
      "Iteration 57\n"
     ]
    },
    {
     "data": {
      "application/vnd.jupyter.widget-view+json": {
       "model_id": "3a1ddda312b74284846465b9fc9efdeb",
       "version_major": 2,
       "version_minor": 0
      },
      "text/plain": [
       "A Jupyter Widget"
      ]
     },
     "metadata": {},
     "output_type": "display_data"
    },
    {
     "name": "stdout",
     "output_type": "stream",
     "text": [
      "Cost after epoch 0: 0.007714\n",
      "Cost after epoch 10: 0.007689\n",
      "Cost after epoch 20: 0.007678\n",
      "Training error: 0.004279\n",
      "Validation error: 0.004815\n",
      "loaded exising dataset\n",
      "Iteration 58\n"
     ]
    },
    {
     "data": {
      "application/vnd.jupyter.widget-view+json": {
       "model_id": "b5cc0c00d3ab407d9dfc2c17548421a1",
       "version_major": 2,
       "version_minor": 0
      },
      "text/plain": [
       "A Jupyter Widget"
      ]
     },
     "metadata": {},
     "output_type": "display_data"
    },
    {
     "name": "stdout",
     "output_type": "stream",
     "text": [
      "Cost after epoch 0: 0.002965\n",
      "Cost after epoch 10: 0.002691\n",
      "Cost after epoch 20: 0.002693\n",
      "Training error: 0.001910\n",
      "Validation error: 0.011168\n",
      "loaded exising dataset\n",
      "Iteration 59\n"
     ]
    },
    {
     "data": {
      "application/vnd.jupyter.widget-view+json": {
       "model_id": "330ea608beec4007a4dd329540075efd",
       "version_major": 2,
       "version_minor": 0
      },
      "text/plain": [
       "A Jupyter Widget"
      ]
     },
     "metadata": {},
     "output_type": "display_data"
    },
    {
     "name": "stdout",
     "output_type": "stream",
     "text": [
      "Cost after epoch 0: 0.005901\n",
      "Cost after epoch 10: 0.005720\n",
      "Cost after epoch 20: 0.005717\n",
      "Training error: 0.003174\n",
      "Validation error: 0.005116\n",
      "loaded exising dataset\n",
      "Iteration 60\n"
     ]
    },
    {
     "data": {
      "application/vnd.jupyter.widget-view+json": {
       "model_id": "2c4b298cb3cd4993bd899f7e9b51de23",
       "version_major": 2,
       "version_minor": 0
      },
      "text/plain": [
       "A Jupyter Widget"
      ]
     },
     "metadata": {},
     "output_type": "display_data"
    },
    {
     "name": "stdout",
     "output_type": "stream",
     "text": [
      "Cost after epoch 0: 0.003074\n",
      "Cost after epoch 10: 0.002943\n",
      "Cost after epoch 20: 0.002944\n",
      "Training error: 0.002251\n",
      "Validation error: 0.010489\n",
      "loaded exising dataset\n",
      "Iteration 61\n"
     ]
    },
    {
     "data": {
      "application/vnd.jupyter.widget-view+json": {
       "model_id": "e8ed80217fd64fdcad7bf49bd1a37622",
       "version_major": 2,
       "version_minor": 0
      },
      "text/plain": [
       "A Jupyter Widget"
      ]
     },
     "metadata": {},
     "output_type": "display_data"
    },
    {
     "name": "stdout",
     "output_type": "stream",
     "text": [
      "Cost after epoch 0: 0.007369\n",
      "Cost after epoch 10: 0.006981\n",
      "Cost after epoch 20: 0.006984\n",
      "Training error: 0.003278\n",
      "Validation error: 0.004809\n",
      "loaded exising dataset\n",
      "Iteration 62\n"
     ]
    },
    {
     "data": {
      "application/vnd.jupyter.widget-view+json": {
       "model_id": "f124c62cd47848aab60e58bab60da7d8",
       "version_major": 2,
       "version_minor": 0
      },
      "text/plain": [
       "A Jupyter Widget"
      ]
     },
     "metadata": {},
     "output_type": "display_data"
    },
    {
     "name": "stdout",
     "output_type": "stream",
     "text": [
      "Cost after epoch 0: 0.006612\n",
      "Cost after epoch 10: 0.006500\n",
      "Cost after epoch 20: 0.006500\n",
      "Training error: 0.003996\n",
      "Validation error: 0.005041\n",
      "loaded exising dataset\n",
      "Iteration 63\n"
     ]
    },
    {
     "data": {
      "application/vnd.jupyter.widget-view+json": {
       "model_id": "0acc16dedc4c4ccfa3c718eb8945beaf",
       "version_major": 2,
       "version_minor": 0
      },
      "text/plain": [
       "A Jupyter Widget"
      ]
     },
     "metadata": {},
     "output_type": "display_data"
    },
    {
     "name": "stdout",
     "output_type": "stream",
     "text": [
      "Cost after epoch 0: 0.003681\n",
      "Cost after epoch 10: 0.003586\n",
      "Cost after epoch 20: 0.003585\n",
      "Training error: 0.002425\n",
      "Validation error: 0.011454\n",
      "loaded exising dataset\n",
      "Iteration 64\n"
     ]
    },
    {
     "data": {
      "application/vnd.jupyter.widget-view+json": {
       "model_id": "70d55935f0d14a018dcadc7c19a907a3",
       "version_major": 2,
       "version_minor": 0
      },
      "text/plain": [
       "A Jupyter Widget"
      ]
     },
     "metadata": {},
     "output_type": "display_data"
    },
    {
     "name": "stdout",
     "output_type": "stream",
     "text": [
      "Cost after epoch 0: 0.005369\n",
      "Cost after epoch 10: 0.005323\n",
      "Cost after epoch 20: 0.005324\n",
      "Training error: 0.002987\n",
      "Validation error: 0.005799\n",
      "loaded exising dataset\n",
      "Iteration 65\n"
     ]
    },
    {
     "data": {
      "application/vnd.jupyter.widget-view+json": {
       "model_id": "2f7dfa7c05924eaba710094f076b7eed",
       "version_major": 2,
       "version_minor": 0
      },
      "text/plain": [
       "A Jupyter Widget"
      ]
     },
     "metadata": {},
     "output_type": "display_data"
    },
    {
     "name": "stdout",
     "output_type": "stream",
     "text": [
      "Cost after epoch 0: 0.009498\n",
      "Cost after epoch 10: 0.008793\n",
      "Cost after epoch 20: 0.008805\n",
      "Training error: 0.006969\n",
      "Validation error: 0.003435\n"
     ]
    },
    {
     "data": {
      "image/png": "[encoded data removed]",
      "text/plain": [
       "<matplotlib.figure.Figure at 0x226929d6b00>"
      ]
     },
     "metadata": {},
     "output_type": "display_data"
    },
    {
     "name": "stdout",
     "output_type": "stream",
     "text": [
      "Parameters have been trained!\n",
      "Saving parameters\n",
      "pkl saved\n"
     ]
    }
   ],
   "source": [
    "try:\n",
    "    parameters,train_acc,dev_acc,train,k  = pickle.load(open(\"training_parameters.pkl\",'rb'))\n",
    "    open(\"training_parameters.pkl\",'rb').close()\n",
    "    print(\"Parameters loaded\")\n",
    "except:\n",
    "    print(\"error\")\n",
    "\n",
    "    \n",
    "## Training for 3 times (editable )\n",
    "for i in range(1,4):\n",
    "    ## Get the full training set back with the same seed\n",
    "    new_train,_ = train_test_split(df.T, test_size=0.01, random_state=42)\n",
    "    train = new_train.T\n",
    "    ## Retrain the model\n",
    "    k = 0\n",
    "    \n",
    "    print(\"Training Session\",i)\n",
    "    parameters,train_acc,dev_acc,train,k = model(train,dev_X,dev_Y,iterations= 66,\n",
    "                                                        parameters = parameters,k=k,\n",
    "                                                        train_acc=train_acc,dev_acc=dev_acc)\n"
   ]
  },
  {
   "cell_type": "markdown",
   "metadata": {},
   "source": [
    "### 2. Plotting Results\n",
    "The below graph shows the mean sqaure error on development set and training set vs number of iterations of training & sampling.<br>\n",
    "Note the the error on development set may fluctuate rapidly due to the random sampling of training set.<br>\n",
    "This fluctuate will/should decrease as the number of iterations increases."
   ]
  },
  {
   "cell_type": "code",
   "execution_count": 56,
   "metadata": {},
   "outputs": [
    {
     "data": {
      "image/png": "[encoded data removed]",
      "text/plain": [
       "<matplotlib.figure.Figure at 0x2268e402048>"
      ]
     },
     "metadata": {},
     "output_type": "display_data"
    }
   ],
   "source": [
    "## Plot iteration against mean square error\n",
    "plt.figure(figsize = (15,8))\n",
    "plt.subplot(2, 1, 1)\n",
    "plt.plot(dev_acc)\n",
    "plt.plot(train_acc)\n",
    "plt.ylabel('Mean square error')\n",
    "plt.legend([\"Development\",\"Training\"])\n",
    "\n",
    "## Plot iteration against mean square error for each loop through the entire training set\n",
    "## This shows the repeated training granting limited improvement\n",
    "plt.subplot(2, 1, 2)\n",
    "legend = []\n",
    "for i in range(len(dev_acc)//66):\n",
    "    plt.plot(dev_acc[66*i:66*(i+1)])\n",
    "    legend.append(\"Iteration \"+str(i+1) )\n",
    "plt.xlabel('Resampling Iterations')\n",
    "plt.ylabel('Mean square error')\n",
    "plt.legend(legend)\n",
    "plt.show()"
   ]
  }
 ],
 "metadata": {
  "kernelspec": {
   "display_name": "Python 3",
   "language": "python",
   "name": "python3"
  },
  "language_info": {
   "codemirror_mode": {
    "name": "ipython",
    "version": 3
   },
   "file_extension": ".py",
   "mimetype": "text/x-python",
   "name": "python",
   "nbconvert_exporter": "python",
   "pygments_lexer": "ipython3",
   "version": "3.6.3"
  }
 },
 "nbformat": 4,
 "nbformat_minor": 2
}
